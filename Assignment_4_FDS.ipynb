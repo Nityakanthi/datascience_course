{
 "cells": [
  {
   "cell_type": "markdown",
   "id": "8387c1e0-5034-408d-9499-41f7490cb04c",
   "metadata": {
    "tags": []
   },
   "source": [
    "# COMP 7150 Assignment 4\n",
    "\n",
    "**Deadline**: April 1, 2024. Before midnight (12AM)\n"
   ]
  },
  {
   "cell_type": "markdown",
   "id": "c3d3997e-43ea-476f-8fed-3c3b145bd7a1",
   "metadata": {},
   "source": [
    "YOUR NAME: Nitya Kanthi Nadimpalli"
   ]
  },
  {
   "cell_type": "markdown",
   "id": "8b88f5a2-3727-4c56-b2ab-6e967cb3bf7e",
   "metadata": {},
   "source": [
    "---\n",
    "\n",
    "**Reading**\n",
    "* Notebooks 8, 11: standardization of data\n",
    "* Notebook 9: how to use KMeans clustering\n",
    "* Notebook 10: how to use PCA\n",
    "* Notebook 12: Application of PCA\n",
    "\n",
    "In this assignment, you will use the abalone dataset.\n",
    "\n",
    "To answer questions, please substantiate your answers with reasoning, explanation, and code.  "
   ]
  },
  {
   "cell_type": "code",
   "execution_count": 2,
   "id": "4445aad5-b9f3-4118-b53e-a873999eafbd",
   "metadata": {},
   "outputs": [],
   "source": [
    "import seaborn\n",
    "import warnings\n",
    "warnings.filterwarnings('ignore')"
   ]
  },
  {
   "cell_type": "code",
   "execution_count": 3,
   "id": "a868c536-5048-4bac-bede-999ba0e553e3",
   "metadata": {},
   "outputs": [],
   "source": [
    "import pandas\n",
    "abalone = pandas.read_csv('../Datasets/abalone.csv')"
   ]
  },
  {
   "cell_type": "code",
   "execution_count": 4,
   "id": "969efdb9-70d3-4506-8a54-fefbe7b8c2a7",
   "metadata": {},
   "outputs": [
    {
     "data": {
      "text/html": [
       "<div>\n",
       "<style scoped>\n",
       "    .dataframe tbody tr th:only-of-type {\n",
       "        vertical-align: middle;\n",
       "    }\n",
       "\n",
       "    .dataframe tbody tr th {\n",
       "        vertical-align: top;\n",
       "    }\n",
       "\n",
       "    .dataframe thead th {\n",
       "        text-align: right;\n",
       "    }\n",
       "</style>\n",
       "<table border=\"1\" class=\"dataframe\">\n",
       "  <thead>\n",
       "    <tr style=\"text-align: right;\">\n",
       "      <th></th>\n",
       "      <th>Sex</th>\n",
       "      <th>Length</th>\n",
       "      <th>Diameter</th>\n",
       "      <th>Height</th>\n",
       "      <th>Whole weight</th>\n",
       "      <th>Shucked weight</th>\n",
       "      <th>Viscera weight</th>\n",
       "      <th>Shell weight</th>\n",
       "      <th>Rings</th>\n",
       "    </tr>\n",
       "  </thead>\n",
       "  <tbody>\n",
       "    <tr>\n",
       "      <th>979</th>\n",
       "      <td>M</td>\n",
       "      <td>0.535</td>\n",
       "      <td>0.435</td>\n",
       "      <td>0.140</td>\n",
       "      <td>0.8740</td>\n",
       "      <td>0.3735</td>\n",
       "      <td>0.2290</td>\n",
       "      <td>0.2195</td>\n",
       "      <td>8</td>\n",
       "    </tr>\n",
       "    <tr>\n",
       "      <th>2608</th>\n",
       "      <td>F</td>\n",
       "      <td>0.625</td>\n",
       "      <td>0.490</td>\n",
       "      <td>0.175</td>\n",
       "      <td>1.1075</td>\n",
       "      <td>0.4485</td>\n",
       "      <td>0.2165</td>\n",
       "      <td>0.3595</td>\n",
       "      <td>8</td>\n",
       "    </tr>\n",
       "    <tr>\n",
       "      <th>900</th>\n",
       "      <td>I</td>\n",
       "      <td>0.300</td>\n",
       "      <td>0.235</td>\n",
       "      <td>0.080</td>\n",
       "      <td>0.1310</td>\n",
       "      <td>0.0500</td>\n",
       "      <td>0.0265</td>\n",
       "      <td>0.0430</td>\n",
       "      <td>4</td>\n",
       "    </tr>\n",
       "    <tr>\n",
       "      <th>1630</th>\n",
       "      <td>I</td>\n",
       "      <td>0.570</td>\n",
       "      <td>0.445</td>\n",
       "      <td>0.155</td>\n",
       "      <td>0.8670</td>\n",
       "      <td>0.3705</td>\n",
       "      <td>0.1705</td>\n",
       "      <td>0.2800</td>\n",
       "      <td>9</td>\n",
       "    </tr>\n",
       "    <tr>\n",
       "      <th>13</th>\n",
       "      <td>F</td>\n",
       "      <td>0.535</td>\n",
       "      <td>0.405</td>\n",
       "      <td>0.145</td>\n",
       "      <td>0.6845</td>\n",
       "      <td>0.2725</td>\n",
       "      <td>0.1710</td>\n",
       "      <td>0.2050</td>\n",
       "      <td>10</td>\n",
       "    </tr>\n",
       "  </tbody>\n",
       "</table>\n",
       "</div>"
      ],
      "text/plain": [
       "     Sex  Length  Diameter  Height  Whole weight  Shucked weight  \\\n",
       "979    M   0.535     0.435   0.140        0.8740          0.3735   \n",
       "2608   F   0.625     0.490   0.175        1.1075          0.4485   \n",
       "900    I   0.300     0.235   0.080        0.1310          0.0500   \n",
       "1630   I   0.570     0.445   0.155        0.8670          0.3705   \n",
       "13     F   0.535     0.405   0.145        0.6845          0.2725   \n",
       "\n",
       "      Viscera weight  Shell weight  Rings  \n",
       "979           0.2290        0.2195      8  \n",
       "2608          0.2165        0.3595      8  \n",
       "900           0.0265        0.0430      4  \n",
       "1630          0.1705        0.2800      9  \n",
       "13            0.1710        0.2050     10  "
      ]
     },
     "execution_count": 4,
     "metadata": {},
     "output_type": "execute_result"
    }
   ],
   "source": [
    "abalone.sample(5)"
   ]
  },
  {
   "cell_type": "markdown",
   "id": "893b5b80-c272-4a99-a9eb-538e3f584d43",
   "metadata": {},
   "source": [
    "---\n",
    "**Problem 1**\n",
    "\n",
    "Define a Python function named `evaluate_kmean`, which has these parameters:\n",
    "* X - the features provided to KMeans\n",
    "* k - the number of clusters (`n_cluster`) provided to KMeans\n",
    "* random_state - the random state provided to KMeans\n",
    "\n",
    "This function should build a KMeans model on the features and return the silhouette score of the resulting clustering.  Note: use the same features to predict and score the clustering."
   ]
  },
  {
   "cell_type": "code",
   "execution_count": 5,
   "id": "bcefc0f1-1f8a-46d7-ad38-ed92a5a74c8c",
   "metadata": {},
   "outputs": [],
   "source": [
    "h=abalone.drop(columns=['Sex'])"
   ]
  },
  {
   "cell_type": "code",
   "execution_count": 6,
   "id": "045281ff-af77-46ef-af8e-476e7bb8c13a",
   "metadata": {},
   "outputs": [
    {
     "data": {
      "text/html": [
       "<style>#sk-container-id-1 {color: black;background-color: white;}#sk-container-id-1 pre{padding: 0;}#sk-container-id-1 div.sk-toggleable {background-color: white;}#sk-container-id-1 label.sk-toggleable__label {cursor: pointer;display: block;width: 100%;margin-bottom: 0;padding: 0.3em;box-sizing: border-box;text-align: center;}#sk-container-id-1 label.sk-toggleable__label-arrow:before {content: \"▸\";float: left;margin-right: 0.25em;color: #696969;}#sk-container-id-1 label.sk-toggleable__label-arrow:hover:before {color: black;}#sk-container-id-1 div.sk-estimator:hover label.sk-toggleable__label-arrow:before {color: black;}#sk-container-id-1 div.sk-toggleable__content {max-height: 0;max-width: 0;overflow: hidden;text-align: left;background-color: #f0f8ff;}#sk-container-id-1 div.sk-toggleable__content pre {margin: 0.2em;color: black;border-radius: 0.25em;background-color: #f0f8ff;}#sk-container-id-1 input.sk-toggleable__control:checked~div.sk-toggleable__content {max-height: 200px;max-width: 100%;overflow: auto;}#sk-container-id-1 input.sk-toggleable__control:checked~label.sk-toggleable__label-arrow:before {content: \"▾\";}#sk-container-id-1 div.sk-estimator input.sk-toggleable__control:checked~label.sk-toggleable__label {background-color: #d4ebff;}#sk-container-id-1 div.sk-label input.sk-toggleable__control:checked~label.sk-toggleable__label {background-color: #d4ebff;}#sk-container-id-1 input.sk-hidden--visually {border: 0;clip: rect(1px 1px 1px 1px);clip: rect(1px, 1px, 1px, 1px);height: 1px;margin: -1px;overflow: hidden;padding: 0;position: absolute;width: 1px;}#sk-container-id-1 div.sk-estimator {font-family: monospace;background-color: #f0f8ff;border: 1px dotted black;border-radius: 0.25em;box-sizing: border-box;margin-bottom: 0.5em;}#sk-container-id-1 div.sk-estimator:hover {background-color: #d4ebff;}#sk-container-id-1 div.sk-parallel-item::after {content: \"\";width: 100%;border-bottom: 1px solid gray;flex-grow: 1;}#sk-container-id-1 div.sk-label:hover label.sk-toggleable__label {background-color: #d4ebff;}#sk-container-id-1 div.sk-serial::before {content: \"\";position: absolute;border-left: 1px solid gray;box-sizing: border-box;top: 0;bottom: 0;left: 50%;z-index: 0;}#sk-container-id-1 div.sk-serial {display: flex;flex-direction: column;align-items: center;background-color: white;padding-right: 0.2em;padding-left: 0.2em;position: relative;}#sk-container-id-1 div.sk-item {position: relative;z-index: 1;}#sk-container-id-1 div.sk-parallel {display: flex;align-items: stretch;justify-content: center;background-color: white;position: relative;}#sk-container-id-1 div.sk-item::before, #sk-container-id-1 div.sk-parallel-item::before {content: \"\";position: absolute;border-left: 1px solid gray;box-sizing: border-box;top: 0;bottom: 0;left: 50%;z-index: -1;}#sk-container-id-1 div.sk-parallel-item {display: flex;flex-direction: column;z-index: 1;position: relative;background-color: white;}#sk-container-id-1 div.sk-parallel-item:first-child::after {align-self: flex-end;width: 50%;}#sk-container-id-1 div.sk-parallel-item:last-child::after {align-self: flex-start;width: 50%;}#sk-container-id-1 div.sk-parallel-item:only-child::after {width: 0;}#sk-container-id-1 div.sk-dashed-wrapped {border: 1px dashed gray;margin: 0 0.4em 0.5em 0.4em;box-sizing: border-box;padding-bottom: 0.4em;background-color: white;}#sk-container-id-1 div.sk-label label {font-family: monospace;font-weight: bold;display: inline-block;line-height: 1.2em;}#sk-container-id-1 div.sk-label-container {text-align: center;}#sk-container-id-1 div.sk-container {/* jupyter's `normalize.less` sets `[hidden] { display: none; }` but bootstrap.min.css set `[hidden] { display: none !important; }` so we also need the `!important` here to be able to override the default hidden behavior on the sphinx rendered scikit-learn.org. See: https://github.com/scikit-learn/scikit-learn/issues/21755 */display: inline-block !important;position: relative;}#sk-container-id-1 div.sk-text-repr-fallback {display: none;}</style><div id=\"sk-container-id-1\" class=\"sk-top-container\"><div class=\"sk-text-repr-fallback\"><pre>KMeans(n_clusters=5)</pre><b>In a Jupyter environment, please rerun this cell to show the HTML representation or trust the notebook. <br />On GitHub, the HTML representation is unable to render, please try loading this page with nbviewer.org.</b></div><div class=\"sk-container\" hidden><div class=\"sk-item\"><div class=\"sk-estimator sk-toggleable\"><input class=\"sk-toggleable__control sk-hidden--visually\" id=\"sk-estimator-id-1\" type=\"checkbox\" checked><label for=\"sk-estimator-id-1\" class=\"sk-toggleable__label sk-toggleable__label-arrow\">KMeans</label><div class=\"sk-toggleable__content\"><pre>KMeans(n_clusters=5)</pre></div></div></div></div></div>"
      ],
      "text/plain": [
       "KMeans(n_clusters=5)"
      ]
     },
     "execution_count": 6,
     "metadata": {},
     "output_type": "execute_result"
    }
   ],
   "source": [
    "from sklearn.cluster import KMeans\n",
    "\n",
    "kmean = KMeans(n_clusters=5)\n",
    "kmean.fit(h)"
   ]
  },
  {
   "cell_type": "code",
   "execution_count": 7,
   "id": "15a638b6-fd5a-4d82-9bf1-b3765002713b",
   "metadata": {},
   "outputs": [],
   "source": [
    "from sklearn.metrics import silhouette_score"
   ]
  },
  {
   "cell_type": "code",
   "execution_count": 8,
   "id": "1b8d7b1d-8203-450b-99b5-282bccf1a4a1",
   "metadata": {},
   "outputs": [
    {
     "name": "stdout",
     "output_type": "stream",
     "text": [
      "0.4969813564613774\n"
     ]
    }
   ],
   "source": [
    "print(silhouette_score(h, kmean.labels_))"
   ]
  },
  {
   "cell_type": "code",
   "execution_count": 9,
   "id": "8ed74202-0eae-423e-a325-e133c6252d97",
   "metadata": {},
   "outputs": [
    {
     "name": "stdout",
     "output_type": "stream",
     "text": [
      "0.4969813564613774\n"
     ]
    }
   ],
   "source": [
    "def evaluate_kmean(X, k, random_state):\n",
    "    model = KMeans(n_clusters=k, random_state=random_state, n_init=10)\n",
    "    model.fit(X) \n",
    "    cluster_lables=model.fit_predict(h)\n",
    "    score = silhouette_score(X, cluster_lables)\n",
    "    return score\n",
    "        \n",
    "d=evaluate_kmean(h, 5, 2024)\n",
    "print(d)"
   ]
  },
  {
   "cell_type": "markdown",
   "id": "4eaec1b4-fb4a-48bf-851c-01214346cd16",
   "metadata": {},
   "source": [
    "---\n",
    "**Problem 2**\n",
    "\n",
    "Compare the performance of KMeans on abalone dataset on these three features:\n",
    "* all variables in the abalone dataset.  Note: you might need to process the categorical variable(s).\n",
    "* all variables in the abalaone dataset, standardized.\n",
    "* all variables in the abalaone dataset, normalized.\n",
    "\n",
    "The comparison should be done on various values on k (the number of clusters) ranging from 2 to 30.  \n",
    "\n",
    "Report and describe your finding.  Which of the 3 features give the best clustering score, and what is the best number of clusters used for clustering?"
   ]
  },
  {
   "cell_type": "code",
   "execution_count": 10,
   "id": "9943cff0-466a-4fc1-899d-5485bb3b70ef",
   "metadata": {},
   "outputs": [],
   "source": [
    "from sklearn.preprocessing import StandardScaler, MinMaxScaler\n",
    "from sklearn.cluster import KMeans\n",
    "from sklearn.metrics import silhouette_score"
   ]
  },
  {
   "cell_type": "code",
   "execution_count": 11,
   "id": "58f063c1-d878-4a20-af7c-70940dacc60e",
   "metadata": {},
   "outputs": [],
   "source": [
    "abalone = pandas.get_dummies(abalone, drop_first=True)"
   ]
  },
  {
   "cell_type": "code",
   "execution_count": 12,
   "id": "2d4c9167-1869-4059-ac60-a990126c8f64",
   "metadata": {},
   "outputs": [],
   "source": [
    "std_abalone = pandas.DataFrame(\n",
    "    StandardScaler().fit_transform(abalone),\n",
    "    columns= abalone.columns\n",
    ")"
   ]
  },
  {
   "cell_type": "code",
   "execution_count": 13,
   "id": "c1ee2cee-cbad-4916-8eac-87934e67193f",
   "metadata": {},
   "outputs": [
    {
     "data": {
      "text/html": [
       "<div>\n",
       "<style scoped>\n",
       "    .dataframe tbody tr th:only-of-type {\n",
       "        vertical-align: middle;\n",
       "    }\n",
       "\n",
       "    .dataframe tbody tr th {\n",
       "        vertical-align: top;\n",
       "    }\n",
       "\n",
       "    .dataframe thead th {\n",
       "        text-align: right;\n",
       "    }\n",
       "</style>\n",
       "<table border=\"1\" class=\"dataframe\">\n",
       "  <thead>\n",
       "    <tr style=\"text-align: right;\">\n",
       "      <th></th>\n",
       "      <th>Length</th>\n",
       "      <th>Diameter</th>\n",
       "      <th>Height</th>\n",
       "      <th>Whole weight</th>\n",
       "      <th>Shucked weight</th>\n",
       "      <th>Viscera weight</th>\n",
       "      <th>Shell weight</th>\n",
       "      <th>Rings</th>\n",
       "      <th>Sex_I</th>\n",
       "      <th>Sex_M</th>\n",
       "    </tr>\n",
       "  </thead>\n",
       "  <tbody>\n",
       "    <tr>\n",
       "      <th>3228</th>\n",
       "      <td>-0.866034</td>\n",
       "      <td>-0.835261</td>\n",
       "      <td>-0.347099</td>\n",
       "      <td>-0.89173</td>\n",
       "      <td>-0.909574</td>\n",
       "      <td>-0.712526</td>\n",
       "      <td>-0.889679</td>\n",
       "      <td>-0.289624</td>\n",
       "      <td>1.453451</td>\n",
       "      <td>-0.759488</td>\n",
       "    </tr>\n",
       "  </tbody>\n",
       "</table>\n",
       "</div>"
      ],
      "text/plain": [
       "        Length  Diameter    Height  Whole weight  Shucked weight  \\\n",
       "3228 -0.866034 -0.835261 -0.347099      -0.89173       -0.909574   \n",
       "\n",
       "      Viscera weight  Shell weight     Rings     Sex_I     Sex_M  \n",
       "3228       -0.712526     -0.889679 -0.289624  1.453451 -0.759488  "
      ]
     },
     "execution_count": 13,
     "metadata": {},
     "output_type": "execute_result"
    }
   ],
   "source": [
    "std_abalone.sample()"
   ]
  },
  {
   "cell_type": "code",
   "execution_count": 14,
   "id": "0bd874d8-a24d-4869-b052-67fb7d1ab39b",
   "metadata": {},
   "outputs": [
    {
     "data": {
      "text/html": [
       "<div>\n",
       "<style scoped>\n",
       "    .dataframe tbody tr th:only-of-type {\n",
       "        vertical-align: middle;\n",
       "    }\n",
       "\n",
       "    .dataframe tbody tr th {\n",
       "        vertical-align: top;\n",
       "    }\n",
       "\n",
       "    .dataframe thead th {\n",
       "        text-align: right;\n",
       "    }\n",
       "</style>\n",
       "<table border=\"1\" class=\"dataframe\">\n",
       "  <thead>\n",
       "    <tr style=\"text-align: right;\">\n",
       "      <th></th>\n",
       "      <th>Length</th>\n",
       "      <th>Diameter</th>\n",
       "      <th>Height</th>\n",
       "      <th>Whole weight</th>\n",
       "      <th>Shucked weight</th>\n",
       "      <th>Viscera weight</th>\n",
       "      <th>Shell weight</th>\n",
       "      <th>Rings</th>\n",
       "      <th>Sex_I</th>\n",
       "      <th>Sex_M</th>\n",
       "    </tr>\n",
       "  </thead>\n",
       "  <tbody>\n",
       "    <tr>\n",
       "      <th>0</th>\n",
       "      <td>0.513514</td>\n",
       "      <td>0.521008</td>\n",
       "      <td>0.084071</td>\n",
       "      <td>0.181335</td>\n",
       "      <td>0.150303</td>\n",
       "      <td>0.132324</td>\n",
       "      <td>0.147982</td>\n",
       "      <td>0.500000</td>\n",
       "      <td>0.0</td>\n",
       "      <td>1.0</td>\n",
       "    </tr>\n",
       "    <tr>\n",
       "      <th>1</th>\n",
       "      <td>0.371622</td>\n",
       "      <td>0.352941</td>\n",
       "      <td>0.079646</td>\n",
       "      <td>0.079157</td>\n",
       "      <td>0.066241</td>\n",
       "      <td>0.063199</td>\n",
       "      <td>0.068261</td>\n",
       "      <td>0.214286</td>\n",
       "      <td>0.0</td>\n",
       "      <td>1.0</td>\n",
       "    </tr>\n",
       "  </tbody>\n",
       "</table>\n",
       "</div>"
      ],
      "text/plain": [
       "     Length  Diameter    Height  Whole weight  Shucked weight  Viscera weight  \\\n",
       "0  0.513514  0.521008  0.084071      0.181335        0.150303        0.132324   \n",
       "1  0.371622  0.352941  0.079646      0.079157        0.066241        0.063199   \n",
       "\n",
       "   Shell weight     Rings  Sex_I  Sex_M  \n",
       "0      0.147982  0.500000    0.0    1.0  \n",
       "1      0.068261  0.214286    0.0    1.0  "
      ]
     },
     "execution_count": 14,
     "metadata": {},
     "output_type": "execute_result"
    }
   ],
   "source": [
    "normalized_abalone = pandas.DataFrame(\n",
    "    MinMaxScaler().fit_transform(abalone),\n",
    "    columns = abalone.columns\n",
    ")\n",
    "normalized_abalone.head(2)"
   ]
  },
  {
   "cell_type": "code",
   "execution_count": 15,
   "id": "a516bebe-0d1f-482c-b94c-d06582c77bf2",
   "metadata": {},
   "outputs": [],
   "source": [
    "def evaluate_kmeans(data, k):\n",
    "    scores = []\n",
    "    for k in range(2,31):\n",
    "        kmeans = KMeans(n_clusters=k, random_state=42)\n",
    "        labels = kmeans.fit_predict(data)\n",
    "        score = silhouette_score(data, labels)\n",
    "        scores.append(score)\n",
    "    return scores"
   ]
  },
  {
   "cell_type": "code",
   "execution_count": 15,
   "id": "32adba0a-afbb-452f-9aa1-3a5823b740fd",
   "metadata": {},
   "outputs": [
    {
     "data": {
      "text/plain": [
       "[0.5398344137946135,\n",
       " 0.4641391096035581,\n",
       " 0.43124907322710115,\n",
       " 0.40517295462786584,\n",
       " 0.3779853658967079,\n",
       " 0.37554114034558705,\n",
       " 0.3709361392273533,\n",
       " 0.3794116437013071,\n",
       " 0.3792298881482115,\n",
       " 0.3726008418653369,\n",
       " 0.3885436181173318,\n",
       " 0.3776519842994046,\n",
       " 0.3899147631221039,\n",
       " 0.4071454652714831,\n",
       " 0.40958241298079695,\n",
       " 0.4325976810646584,\n",
       " 0.4286796458447158,\n",
       " 0.46729479044408,\n",
       " 0.46670422262857825,\n",
       " 0.493990710253245,\n",
       " 0.4830507588423375,\n",
       " 0.47942122846346696,\n",
       " 0.5084157171170244,\n",
       " 0.5084600618034613,\n",
       " 0.5238165344828596,\n",
       " 0.5281492921982657,\n",
       " 0.5153681329438907,\n",
       " 0.5320319889733676,\n",
       " 0.5267107594125959]"
      ]
     },
     "execution_count": 15,
     "metadata": {},
     "output_type": "execute_result"
    }
   ],
   "source": [
    "scores_original = evaluate_kmeans(abalone, 5)\n",
    "scores_original"
   ]
  },
  {
   "cell_type": "code",
   "execution_count": 16,
   "id": "a28d0d7e-31d2-4ad1-9106-8de11ad95414",
   "metadata": {},
   "outputs": [
    {
     "data": {
      "text/plain": [
       "[0.4079561597509453,\n",
       " 0.3036618060986872,\n",
       " 0.3061703064033175,\n",
       " 0.2972802358028062,\n",
       " 0.31973002192060884,\n",
       " 0.33182226360567063,\n",
       " 0.3266717247353911,\n",
       " 0.33458806682070524,\n",
       " 0.3241252130267472,\n",
       " 0.32602581226470306,\n",
       " 0.3284751828758779,\n",
       " 0.3185588355244013,\n",
       " 0.31780734564583457,\n",
       " 0.31679066414146545,\n",
       " 0.3060295759915931,\n",
       " 0.3123087518475569,\n",
       " 0.3053955747469159,\n",
       " 0.3077864493885903,\n",
       " 0.29349930321074846,\n",
       " 0.2877484096971858,\n",
       " 0.28221811531506064,\n",
       " 0.2948860089885657,\n",
       " 0.2763368223348388,\n",
       " 0.26444403382352044,\n",
       " 0.27934912629125164,\n",
       " 0.2597332923634452,\n",
       " 0.26784091701392404,\n",
       " 0.2603469245805952,\n",
       " 0.27691444868989623]"
      ]
     },
     "execution_count": 16,
     "metadata": {},
     "output_type": "execute_result"
    }
   ],
   "source": [
    "scores_standardized = evaluate_kmeans(std_abalone, 5)\n",
    "scores_standardized"
   ]
  },
  {
   "cell_type": "code",
   "execution_count": 17,
   "id": "848d9a8e-aa1d-4b66-8eea-60f2560a01a9",
   "metadata": {},
   "outputs": [
    {
     "data": {
      "text/plain": [
       "[0.5324223875240375,\n",
       " 0.6450424282087488,\n",
       " 0.5758862548479124,\n",
       " 0.5102885989431312,\n",
       " 0.4514368743777134,\n",
       " 0.4374481825436728,\n",
       " 0.4196193467921362,\n",
       " 0.3978770229109249,\n",
       " 0.3830210209609203,\n",
       " 0.3654632742688102,\n",
       " 0.3547634518315966,\n",
       " 0.3453854340022952,\n",
       " 0.34993206002240673,\n",
       " 0.35489647801164104,\n",
       " 0.3433440084112586,\n",
       " 0.33529179063357534,\n",
       " 0.32624442960054323,\n",
       " 0.32438354276106657,\n",
       " 0.32178173007709854,\n",
       " 0.3247955460349928,\n",
       " 0.3123175494240764,\n",
       " 0.3108474476689142,\n",
       " 0.2972654996354821,\n",
       " 0.30865084038834406,\n",
       " 0.3027241594191592,\n",
       " 0.29485996818339255,\n",
       " 0.2923916369878616,\n",
       " 0.2815745665481046,\n",
       " 0.28735826978760043]"
      ]
     },
     "execution_count": 17,
     "metadata": {},
     "output_type": "execute_result"
    }
   ],
   "source": [
    "scores_normalized = evaluate_kmeans(normalized_abalone, 5)\n",
    "scores_normalized"
   ]
  },
  {
   "cell_type": "markdown",
   "id": "3bf4801b-7ba7-4a22-b872-8c080256e72b",
   "metadata": {},
   "source": [
    "---\n",
    "**Problem 3**\n",
    "\n",
    "Following the previous problem, select the best value of k (one that gives the highest silhouette score).\n",
    "\n",
    "Define a Python function named `evaluate_kmean_with_pca`, which has these parameters:\n",
    "* X - the features provided to KMeans\n",
    "* n - the number of principal components (`n_components`) provided to PCA\n",
    "* random_state - the random state provided to KMeans\n",
    "\n",
    "The function will transform the features X, using PCA.  It will create a KMeans model, with the optimal number of clusters found in the previous problem. Then, use the model to fit the transformed features, make predictions using the transformed features, and calculate the silhouette score of the resulting clustering.\n"
   ]
  },
  {
   "cell_type": "code",
   "execution_count": 24,
   "id": "21690178-f878-455f-b311-c2c53bac4d12",
   "metadata": {},
   "outputs": [
    {
     "name": "stdout",
     "output_type": "stream",
     "text": [
      "0.4996268765322921\n"
     ]
    }
   ],
   "source": [
    "from sklearn.decomposition import PCA\n",
    "from sklearn.cluster import KMeans\n",
    "from sklearn.metrics import silhouette_score\n",
    "\n",
    "def evaluate_kmean_with_pca(X, n, random_state, k):\n",
    "    pca = PCA(n_components=n, random_state=random_state)\n",
    "    X_pca = pca.fit_transform(X)\n",
    "    kmeans = KMeans(n_clusters=k, random_state=random_state)\n",
    "    kmeans.fit(X_pca)\n",
    "    cluster_labels = kmeans.predict(X_pca)\n",
    "    score = silhouette_score(X_pca, cluster_labels)\n",
    "    \n",
    "    return score\n",
    "f=evaluate_kmean_with_pca(h, 3, 2024, 5)\n",
    "print(f)"
   ]
  },
  {
   "cell_type": "code",
   "execution_count": null,
   "id": "b9fbb15d-9618-495b-bf2d-458d34e2ee8f",
   "metadata": {},
   "outputs": [],
   "source": []
  },
  {
   "cell_type": "code",
   "execution_count": null,
   "id": "555e91eb-bdc0-4194-bc33-ce371d9238e6",
   "metadata": {},
   "outputs": [],
   "source": []
  },
  {
   "cell_type": "code",
   "execution_count": null,
   "id": "cce5d0a1-407e-467d-b5ea-f47d513b420a",
   "metadata": {},
   "outputs": [],
   "source": []
  },
  {
   "cell_type": "code",
   "execution_count": null,
   "id": "a5c21c4c-43aa-4d33-ae2a-9373cd1f5d4b",
   "metadata": {},
   "outputs": [],
   "source": []
  },
  {
   "cell_type": "markdown",
   "id": "7ec7d704-b729-4058-bb28-844751ec40bf",
   "metadata": {},
   "source": [
    "---\n",
    "**Problem 4**\n",
    "\n",
    "Identify the number of components (`n_components`) that gives the highest score, with each of these three features:\n",
    "* all variables in the abalone dataset.  Note: you might need to process the categorical variable(s).\n",
    "* all variables in the abalaone dataset, standardized.\n",
    "* all variables in the abalaone dataset, normalized.\n",
    "\n",
    "Report your finding.\n"
   ]
  },
  {
   "cell_type": "code",
   "execution_count": 16,
   "id": "c524c6d9-114d-4b95-afb7-f99ec0972574",
   "metadata": {},
   "outputs": [
    {
     "data": {
      "text/html": [
       "<div>\n",
       "<style scoped>\n",
       "    .dataframe tbody tr th:only-of-type {\n",
       "        vertical-align: middle;\n",
       "    }\n",
       "\n",
       "    .dataframe tbody tr th {\n",
       "        vertical-align: top;\n",
       "    }\n",
       "\n",
       "    .dataframe thead th {\n",
       "        text-align: right;\n",
       "    }\n",
       "</style>\n",
       "<table border=\"1\" class=\"dataframe\">\n",
       "  <thead>\n",
       "    <tr style=\"text-align: right;\">\n",
       "      <th></th>\n",
       "      <th>Length</th>\n",
       "      <th>Diameter</th>\n",
       "      <th>Height</th>\n",
       "      <th>Whole weight</th>\n",
       "      <th>Shucked weight</th>\n",
       "      <th>Viscera weight</th>\n",
       "      <th>Shell weight</th>\n",
       "      <th>Rings</th>\n",
       "      <th>Sex_I</th>\n",
       "      <th>Sex_M</th>\n",
       "    </tr>\n",
       "  </thead>\n",
       "  <tbody>\n",
       "    <tr>\n",
       "      <th>594</th>\n",
       "      <td>0.091673</td>\n",
       "      <td>0.122130</td>\n",
       "      <td>0.250672</td>\n",
       "      <td>-0.263582</td>\n",
       "      <td>-0.458994</td>\n",
       "      <td>-0.251764</td>\n",
       "      <td>0.008400</td>\n",
       "      <td>0.640960</td>\n",
       "      <td>-0.688018</td>\n",
       "      <td>1.316677</td>\n",
       "    </tr>\n",
       "    <tr>\n",
       "      <th>1835</th>\n",
       "      <td>-0.949313</td>\n",
       "      <td>-0.734483</td>\n",
       "      <td>-0.825316</td>\n",
       "      <td>-1.016136</td>\n",
       "      <td>-0.986172</td>\n",
       "      <td>-1.063799</td>\n",
       "      <td>-0.961525</td>\n",
       "      <td>-0.910013</td>\n",
       "      <td>1.453451</td>\n",
       "      <td>-0.759488</td>\n",
       "    </tr>\n",
       "    <tr>\n",
       "      <th>877</th>\n",
       "      <td>0.924461</td>\n",
       "      <td>0.928354</td>\n",
       "      <td>0.250672</td>\n",
       "      <td>1.116100</td>\n",
       "      <td>1.307278</td>\n",
       "      <td>1.646027</td>\n",
       "      <td>0.511324</td>\n",
       "      <td>0.020571</td>\n",
       "      <td>-0.688018</td>\n",
       "      <td>-0.759488</td>\n",
       "    </tr>\n",
       "    <tr>\n",
       "      <th>1422</th>\n",
       "      <td>1.632331</td>\n",
       "      <td>1.684190</td>\n",
       "      <td>1.804876</td>\n",
       "      <td>2.741535</td>\n",
       "      <td>2.668028</td>\n",
       "      <td>3.498197</td>\n",
       "      <td>2.138643</td>\n",
       "      <td>0.640960</td>\n",
       "      <td>-0.688018</td>\n",
       "      <td>1.316677</td>\n",
       "    </tr>\n",
       "    <tr>\n",
       "      <th>1525</th>\n",
       "      <td>1.465773</td>\n",
       "      <td>1.482634</td>\n",
       "      <td>1.446213</td>\n",
       "      <td>2.099111</td>\n",
       "      <td>1.669994</td>\n",
       "      <td>1.696209</td>\n",
       "      <td>2.558944</td>\n",
       "      <td>0.330765</td>\n",
       "      <td>-0.688018</td>\n",
       "      <td>1.316677</td>\n",
       "    </tr>\n",
       "  </tbody>\n",
       "</table>\n",
       "</div>"
      ],
      "text/plain": [
       "        Length  Diameter    Height  Whole weight  Shucked weight  \\\n",
       "594   0.091673  0.122130  0.250672     -0.263582       -0.458994   \n",
       "1835 -0.949313 -0.734483 -0.825316     -1.016136       -0.986172   \n",
       "877   0.924461  0.928354  0.250672      1.116100        1.307278   \n",
       "1422  1.632331  1.684190  1.804876      2.741535        2.668028   \n",
       "1525  1.465773  1.482634  1.446213      2.099111        1.669994   \n",
       "\n",
       "      Viscera weight  Shell weight     Rings     Sex_I     Sex_M  \n",
       "594        -0.251764      0.008400  0.640960 -0.688018  1.316677  \n",
       "1835       -1.063799     -0.961525 -0.910013  1.453451 -0.759488  \n",
       "877         1.646027      0.511324  0.020571 -0.688018 -0.759488  \n",
       "1422        3.498197      2.138643  0.640960 -0.688018  1.316677  \n",
       "1525        1.696209      2.558944  0.330765 -0.688018  1.316677  "
      ]
     },
     "execution_count": 16,
     "metadata": {},
     "output_type": "execute_result"
    }
   ],
   "source": [
    "std_abalone = pandas.DataFrame(\n",
    "    StandardScaler().fit_transform(abalone),\n",
    "    columns= abalone.columns\n",
    ")\n",
    "\n",
    "std_abalone.sample(5)"
   ]
  },
  {
   "cell_type": "code",
   "execution_count": 17,
   "id": "8ef4d916-371e-467c-851e-74db0d9f2aa9",
   "metadata": {},
   "outputs": [],
   "source": [
    "from sklearn.preprocessing import MinMaxScaler, StandardScaler\n",
    "\n",
    "normalized_features = pandas.DataFrame(\n",
    "    MinMaxScaler().fit_transform(abalone),\n",
    "    columns = abalone.columns\n",
    ")\n",
    "\n",
    "standardized_features = pandas.DataFrame(\n",
    "    StandardScaler().fit_transform(abalone),\n",
    "    columns = abalone.columns\n",
    ")"
   ]
  },
  {
   "cell_type": "code",
   "execution_count": 18,
   "id": "7fd1789d-483d-4a2f-8383-a486e16c9561",
   "metadata": {},
   "outputs": [
    {
     "data": {
      "text/html": [
       "<div>\n",
       "<style scoped>\n",
       "    .dataframe tbody tr th:only-of-type {\n",
       "        vertical-align: middle;\n",
       "    }\n",
       "\n",
       "    .dataframe tbody tr th {\n",
       "        vertical-align: top;\n",
       "    }\n",
       "\n",
       "    .dataframe thead th {\n",
       "        text-align: right;\n",
       "    }\n",
       "</style>\n",
       "<table border=\"1\" class=\"dataframe\">\n",
       "  <thead>\n",
       "    <tr style=\"text-align: right;\">\n",
       "      <th></th>\n",
       "      <th>Length</th>\n",
       "      <th>Diameter</th>\n",
       "      <th>Height</th>\n",
       "      <th>Whole weight</th>\n",
       "      <th>Shucked weight</th>\n",
       "      <th>Viscera weight</th>\n",
       "      <th>Shell weight</th>\n",
       "      <th>Rings</th>\n",
       "      <th>Sex_I</th>\n",
       "      <th>Sex_M</th>\n",
       "    </tr>\n",
       "  </thead>\n",
       "  <tbody>\n",
       "    <tr>\n",
       "      <th>1267</th>\n",
       "      <td>-0.532919</td>\n",
       "      <td>-0.432149</td>\n",
       "      <td>-0.347099</td>\n",
       "      <td>-0.714298</td>\n",
       "      <td>-0.691043</td>\n",
       "      <td>-0.694278</td>\n",
       "      <td>-0.702879</td>\n",
       "      <td>-0.599818</td>\n",
       "      <td>-0.688018</td>\n",
       "      <td>-0.759488</td>\n",
       "    </tr>\n",
       "    <tr>\n",
       "      <th>2537</th>\n",
       "      <td>1.132658</td>\n",
       "      <td>1.180300</td>\n",
       "      <td>1.804876</td>\n",
       "      <td>1.952271</td>\n",
       "      <td>1.410911</td>\n",
       "      <td>1.650589</td>\n",
       "      <td>1.204641</td>\n",
       "      <td>0.330765</td>\n",
       "      <td>1.453451</td>\n",
       "      <td>-0.759488</td>\n",
       "    </tr>\n",
       "    <tr>\n",
       "      <th>3279</th>\n",
       "      <td>1.091018</td>\n",
       "      <td>1.230689</td>\n",
       "      <td>1.207105</td>\n",
       "      <td>1.222151</td>\n",
       "      <td>0.602121</td>\n",
       "      <td>1.253695</td>\n",
       "      <td>2.343405</td>\n",
       "      <td>2.502127</td>\n",
       "      <td>-0.688018</td>\n",
       "      <td>-0.759488</td>\n",
       "    </tr>\n",
       "  </tbody>\n",
       "</table>\n",
       "</div>"
      ],
      "text/plain": [
       "        Length  Diameter    Height  Whole weight  Shucked weight  \\\n",
       "1267 -0.532919 -0.432149 -0.347099     -0.714298       -0.691043   \n",
       "2537  1.132658  1.180300  1.804876      1.952271        1.410911   \n",
       "3279  1.091018  1.230689  1.207105      1.222151        0.602121   \n",
       "\n",
       "      Viscera weight  Shell weight     Rings     Sex_I     Sex_M  \n",
       "1267       -0.694278     -0.702879 -0.599818 -0.688018 -0.759488  \n",
       "2537        1.650589      1.204641  0.330765  1.453451 -0.759488  \n",
       "3279        1.253695      2.343405  2.502127 -0.688018 -0.759488  "
      ]
     },
     "execution_count": 18,
     "metadata": {},
     "output_type": "execute_result"
    }
   ],
   "source": [
    "standardized_features.sample(3)"
   ]
  },
  {
   "cell_type": "code",
   "execution_count": 19,
   "id": "89c8417f-9559-4b16-a350-fa6a1e540dea",
   "metadata": {},
   "outputs": [
    {
     "data": {
      "text/html": [
       "<div>\n",
       "<style scoped>\n",
       "    .dataframe tbody tr th:only-of-type {\n",
       "        vertical-align: middle;\n",
       "    }\n",
       "\n",
       "    .dataframe tbody tr th {\n",
       "        vertical-align: top;\n",
       "    }\n",
       "\n",
       "    .dataframe thead th {\n",
       "        text-align: right;\n",
       "    }\n",
       "</style>\n",
       "<table border=\"1\" class=\"dataframe\">\n",
       "  <thead>\n",
       "    <tr style=\"text-align: right;\">\n",
       "      <th></th>\n",
       "      <th>Length</th>\n",
       "      <th>Diameter</th>\n",
       "      <th>Height</th>\n",
       "      <th>Whole weight</th>\n",
       "      <th>Shucked weight</th>\n",
       "      <th>Viscera weight</th>\n",
       "      <th>Shell weight</th>\n",
       "      <th>Rings</th>\n",
       "      <th>Sex_I</th>\n",
       "      <th>Sex_M</th>\n",
       "    </tr>\n",
       "  </thead>\n",
       "  <tbody>\n",
       "    <tr>\n",
       "      <th>1207</th>\n",
       "      <td>0.918919</td>\n",
       "      <td>0.957983</td>\n",
       "      <td>0.185841</td>\n",
       "      <td>0.886488</td>\n",
       "      <td>0.803968</td>\n",
       "      <td>0.674786</td>\n",
       "      <td>0.674639</td>\n",
       "      <td>0.357143</td>\n",
       "      <td>0.0</td>\n",
       "      <td>0.0</td>\n",
       "    </tr>\n",
       "    <tr>\n",
       "      <th>3094</th>\n",
       "      <td>0.608108</td>\n",
       "      <td>0.579832</td>\n",
       "      <td>0.115044</td>\n",
       "      <td>0.219586</td>\n",
       "      <td>0.177875</td>\n",
       "      <td>0.192890</td>\n",
       "      <td>0.181863</td>\n",
       "      <td>0.285714</td>\n",
       "      <td>0.0</td>\n",
       "      <td>1.0</td>\n",
       "    </tr>\n",
       "    <tr>\n",
       "      <th>1668</th>\n",
       "      <td>0.722973</td>\n",
       "      <td>0.705882</td>\n",
       "      <td>0.137168</td>\n",
       "      <td>0.347441</td>\n",
       "      <td>0.306321</td>\n",
       "      <td>0.299539</td>\n",
       "      <td>0.263577</td>\n",
       "      <td>0.321429</td>\n",
       "      <td>0.0</td>\n",
       "      <td>1.0</td>\n",
       "    </tr>\n",
       "  </tbody>\n",
       "</table>\n",
       "</div>"
      ],
      "text/plain": [
       "        Length  Diameter    Height  Whole weight  Shucked weight  \\\n",
       "1207  0.918919  0.957983  0.185841      0.886488        0.803968   \n",
       "3094  0.608108  0.579832  0.115044      0.219586        0.177875   \n",
       "1668  0.722973  0.705882  0.137168      0.347441        0.306321   \n",
       "\n",
       "      Viscera weight  Shell weight     Rings  Sex_I  Sex_M  \n",
       "1207        0.674786      0.674639  0.357143    0.0    0.0  \n",
       "3094        0.192890      0.181863  0.285714    0.0    1.0  \n",
       "1668        0.299539      0.263577  0.321429    0.0    1.0  "
      ]
     },
     "execution_count": 19,
     "metadata": {},
     "output_type": "execute_result"
    }
   ],
   "source": [
    "normalized_features.sample(3)"
   ]
  },
  {
   "cell_type": "code",
   "execution_count": 32,
   "id": "1eaa0afe-763c-44c1-9a53-64933b310139",
   "metadata": {},
   "outputs": [
    {
     "name": "stdout",
     "output_type": "stream",
     "text": [
      "(1, 0.598825435563702)\n"
     ]
    }
   ],
   "source": [
    "def evaluate_pca_kmeans(X, k, random_state):\n",
    "    scores = []\n",
    "    n_components_range = range(1, min(X.shape[1], 21))\n",
    "    for n in n_components_range:\n",
    "        pca = PCA(n_components=n, random_state=random_state)\n",
    "        X_pca = pca.fit_transform(X)\n",
    "        \n",
    "        kmeans = KMeans(n_clusters=k, random_state=random_state)\n",
    "        labels = kmeans.fit_predict(X_pca)\n",
    "        \n",
    "        score = silhouette_score(X_pca, labels)\n",
    "        scores.append((n, score))\n",
    "\n",
    "    best_n, best_score = max(scores, key=lambda x: x[1])\n",
    "    return best_n, best_score\n",
    "\n",
    "g=evaluate_pca_kmeans(h, 5, 2024)\n",
    "print(g)"
   ]
  },
  {
   "cell_type": "code",
   "execution_count": 40,
   "id": "92d6a5ad-de85-48b8-bc1a-9eb7abdfb35b",
   "metadata": {},
   "outputs": [
    {
     "data": {
      "text/plain": [
       "(1, 0.594091507207118)"
      ]
     },
     "execution_count": 40,
     "metadata": {},
     "output_type": "execute_result"
    }
   ],
   "source": [
    "best_n_original, best_score_original = evaluate_pca_kmeans(abalone.values, 5, 2024)\n",
    "\n",
    "best_n_original, best_score_original"
   ]
  },
  {
   "cell_type": "code",
   "execution_count": 41,
   "id": "59c9396a-2d42-4c52-a8d7-0627a4d0f281",
   "metadata": {},
   "outputs": [
    {
     "data": {
      "text/plain": [
       "(1, 0.5269488426326276)"
      ]
     },
     "execution_count": 41,
     "metadata": {},
     "output_type": "execute_result"
    }
   ],
   "source": [
    "best_n_standardized, best_score_standardized = evaluate_pca_kmeans(standardized_features, 5, 2024)\n",
    "\n",
    "best_n_standardized, best_score_standardized"
   ]
  },
  {
   "cell_type": "code",
   "execution_count": 42,
   "id": "7194986a-8a2d-48c9-8e62-077936d9b272",
   "metadata": {},
   "outputs": [
    {
     "data": {
      "text/plain": [
       "(1, 0.626815383471946)"
      ]
     },
     "execution_count": 42,
     "metadata": {},
     "output_type": "execute_result"
    }
   ],
   "source": [
    "best_n_normalized, best_score_normalized = evaluate_pca_kmeans(normalized_features, 5, 2024)\n",
    "\n",
    "best_n_normalized, best_score_normalized"
   ]
  },
  {
   "cell_type": "markdown",
   "id": "a6663bf8-ab8f-45bd-8324-b630a0cee4fb",
   "metadata": {},
   "source": [
    "---\n",
    "**Problem 5**\n",
    "\n",
    "At this point, you have a good idea if the original features (X), or the standardized features, or the normalized features resulted in the best clustering performance.\n",
    "\n",
    "Use these features to identify the best combination of the number of clusters (k) and the number of principal components (n) used to cluster.\n",
    "\n",
    "Define a Python function called `evaluate`, with these parameters:\n",
    "* X - the features provided to KMeans\n",
    "* n - the number of principal components (`n_components`) provided to PCA\n",
    "* k - the number of clusters (`n_cluster`) provided to KMeans\n",
    "* random_state - the random state provided to KMeans\n",
    "\n",
    "Use this function to identify the values of `k` and `n` that gives the highest clustering (silhouette) score."
   ]
  },
  {
   "cell_type": "code",
   "execution_count": 35,
   "id": "24f3743f-3e79-4b94-8b03-6b432fe00a61",
   "metadata": {},
   "outputs": [
    {
     "name": "stdout",
     "output_type": "stream",
     "text": [
      "0.49757560732047296\n"
     ]
    }
   ],
   "source": [
    "def evaluate(X, n, k, random_state):\n",
    "    pca = PCA(n_components=n, random_state=random_state)\n",
    "    X_pca = pca.fit_transform(X)\n",
    "\n",
    "    kmeans = KMeans(n_clusters=k, random_state=random_state)\n",
    "    labels = kmeans.fit_predict(X_pca)\n",
    "\n",
    "    score = silhouette_score(X_pca, labels)\n",
    "    return score\n",
    "\n",
    "m=evaluate(h, 5, 5, 2024)\n",
    "print(m)"
   ]
  },
  {
   "cell_type": "code",
   "execution_count": 41,
   "id": "75334c99-75da-4e4f-b620-9bfaf2442fb1",
   "metadata": {},
   "outputs": [
    {
     "name": "stdout",
     "output_type": "stream",
     "text": [
      "((1, 25), 0.9506077511960647)\n"
     ]
    }
   ],
   "source": [
    "def find_best_combination(X, n, k, random_state):\n",
    "    best_score = -1\n",
    "    best_combination = (None, None)\n",
    "    max_n=min(X.shape)\n",
    "    for n in range(1, max_n):\n",
    "        for k in range(2, 31):\n",
    "            score = evaluate(X, n, k, random_state)\n",
    "            if score > best_score:\n",
    "                best_score = score\n",
    "                best_combination = (n, k)\n",
    "    return best_combination, best_score\n",
    "\n",
    "d=find_best_combination(h, 5, 5, 2024)\n",
    "print(d)"
   ]
  },
  {
   "cell_type": "code",
   "execution_count": null,
   "id": "67c41fb3-4d5d-4610-9600-637c49c547a1",
   "metadata": {},
   "outputs": [],
   "source": []
  },
  {
   "cell_type": "code",
   "execution_count": null,
   "id": "6ff49231-dd8b-4bfa-9ce6-2c23959d916a",
   "metadata": {},
   "outputs": [],
   "source": []
  },
  {
   "cell_type": "code",
   "execution_count": null,
   "id": "38a2133f-c6b8-46d4-bb6e-4ee04617075e",
   "metadata": {},
   "outputs": [],
   "source": []
  },
  {
   "cell_type": "code",
   "execution_count": null,
   "id": "71262806-bd9d-4e88-ba47-b5f72a4f7648",
   "metadata": {},
   "outputs": [],
   "source": []
  },
  {
   "cell_type": "markdown",
   "id": "0a97f440-f850-4bad-9757-9a4a5f6fe6a0",
   "metadata": {},
   "source": [
    "---\n",
    "**Problem 6**\n",
    "\n",
    "Continuing from problem 5, where you for the values of `k` and `n` with the highest score.\n",
    "\n",
    "Which feature(s) does the first principal component correlate to the most? Which feature(s) does the second principal component correlate to the most?"
   ]
  },
  {
   "cell_type": "code",
   "execution_count": 22,
   "id": "c2f30e19-3afe-4960-8684-56dabf2fcaa2",
   "metadata": {},
   "outputs": [],
   "source": [
    "def evaluate_and_return_pca(X, n, k, random_state):\n",
    "    pca = PCA(n_components=n, random_state=random_state)\n",
    "    X_pca = pca.fit_transform(X)\n",
    "\n",
    "    kmeans = KMeans(n_clusters=k, random_state=random_state)\n",
    "    labels = kmeans.fit_predict(X_pca)\n",
    "\n",
    "    score = silhouette_score(X_pca, labels)\n",
    "\n",
    "    return score, pca"
   ]
  },
  {
   "cell_type": "code",
   "execution_count": 25,
   "id": "3a59a7f9-0ff1-4690-92c2-2db1d9a4a5df",
   "metadata": {},
   "outputs": [
    {
     "name": "stdout",
     "output_type": "stream",
     "text": [
      "((1, 25), 0.9506077511960647, PCA(n_components=1, random_state=2024))\n"
     ]
    }
   ],
   "source": [
    "def find_best_combination_and_return_pca(X, random_state):\n",
    "    best_score = -1\n",
    "    best_pca = None\n",
    "    best_combination = (None, None)\n",
    "    max_n = min(X.shape)\n",
    "    for n in range(1, max_n):\n",
    "        for k in range(2, 31):\n",
    "            score, pca = evaluate_and_return_pca(X, n, k, random_state)\n",
    "            if score > best_score:\n",
    "                best_score = score\n",
    "                best_combination = (n, k)\n",
    "                best_pca = pca\n",
    "    return best_combination, best_score, best_pca\n",
    "\n",
    "l = find_best_combination_and_return_pca(h, 2024)\n",
    "print(l)"
   ]
  },
  {
   "cell_type": "code",
   "execution_count": 29,
   "id": "fe1a1fcf-cb18-4c10-8509-517f5062801c",
   "metadata": {},
   "outputs": [],
   "source": [
    "component_loadings = best_pca.components_"
   ]
  },
  {
   "cell_type": "code",
   "execution_count": 30,
   "id": "26c8e179-9c8c-4529-97e8-569823ab6f22",
   "metadata": {},
   "outputs": [
    {
     "ename": "IndexError",
     "evalue": "index 1 is out of bounds for axis 0 with size 1",
     "output_type": "error",
     "traceback": [
      "\u001b[0;31m---------------------------------------------------------------------------\u001b[0m",
      "\u001b[0;31mIndexError\u001b[0m                                Traceback (most recent call last)",
      "Input \u001b[0;32mIn [30]\u001b[0m, in \u001b[0;36m<cell line: 3>\u001b[0;34m()\u001b[0m\n\u001b[1;32m      1\u001b[0m features \u001b[38;5;241m=\u001b[39m h\u001b[38;5;241m.\u001b[39mcolumns\n\u001b[1;32m      2\u001b[0m first_component_loadings \u001b[38;5;241m=\u001b[39m component_loadings[\u001b[38;5;241m0\u001b[39m]\n\u001b[0;32m----> 3\u001b[0m second_component_loadings \u001b[38;5;241m=\u001b[39m \u001b[43mcomponent_loadings\u001b[49m\u001b[43m[\u001b[49m\u001b[38;5;241;43m1\u001b[39;49m\u001b[43m]\u001b[49m\n",
      "\u001b[0;31mIndexError\u001b[0m: index 1 is out of bounds for axis 0 with size 1"
     ]
    }
   ],
   "source": [
    "features = h.columns\n",
    "first_component_loadings = component_loadings[0]\n",
    "second_component_loadings = component_loadings[1]"
   ]
  },
  {
   "cell_type": "code",
   "execution_count": 43,
   "id": "386fcf99-0599-44f9-9871-5105a4f33f0b",
   "metadata": {},
   "outputs": [
    {
     "ename": "NameError",
     "evalue": "name 'np' is not defined",
     "output_type": "error",
     "traceback": [
      "\u001b[0;31m---------------------------------------------------------------------------\u001b[0m",
      "\u001b[0;31mNameError\u001b[0m                                 Traceback (most recent call last)",
      "Input \u001b[0;32mIn [43]\u001b[0m, in \u001b[0;36m<cell line: 1>\u001b[0;34m()\u001b[0m\n\u001b[0;32m----> 1\u001b[0m most_correlated_to_first \u001b[38;5;241m=\u001b[39m features[\u001b[43mnp\u001b[49m\u001b[38;5;241m.\u001b[39margmax(np\u001b[38;5;241m.\u001b[39mabs(first_component_loadings))]\n\u001b[1;32m      2\u001b[0m most_correlated_to_second \u001b[38;5;241m=\u001b[39m features[np\u001b[38;5;241m.\u001b[39margmax(np\u001b[38;5;241m.\u001b[39mabs(second_component_loadings))]\n",
      "\u001b[0;31mNameError\u001b[0m: name 'np' is not defined"
     ]
    }
   ],
   "source": [
    "most_correlated_to_first = features[np.argmax(np.abs(first_component_loadings))]\n",
    "most_correlated_to_second = features[np.argmax(np.abs(second_component_loadings))]"
   ]
  },
  {
   "cell_type": "code",
   "execution_count": null,
   "id": "69c242e9-bb7d-4b91-9768-f9b713ae2f6e",
   "metadata": {},
   "outputs": [],
   "source": []
  },
  {
   "cell_type": "markdown",
   "id": "4aafd84e-6378-4835-b121-f994a7eccb2d",
   "metadata": {},
   "source": [
    "---\n",
    "**Problem 7**\n",
    "\n",
    "Continuing from problem 5, where you for the values of `k` and `n` with the highest score, what do the clusters represent?"
   ]
  },
  {
   "cell_type": "markdown",
   "id": "37420412-6cee-4f7f-ade6-9e082105c5f4",
   "metadata": {},
   "source": [
    "### Answer:\n",
    "\n",
    "The clusters represent groups of abalones with similar features, categorized based on their distribution in a reduced-dimensional space created by PCA and KMeans, highlighting the dataset's key variations."
   ]
  },
  {
   "cell_type": "code",
   "execution_count": null,
   "id": "278b53c9-a32f-46c1-9361-542c8eceb5b0",
   "metadata": {},
   "outputs": [],
   "source": []
  },
  {
   "cell_type": "code",
   "execution_count": null,
   "id": "75403187-c589-48f1-939d-cb91aa0ff1dd",
   "metadata": {},
   "outputs": [],
   "source": []
  },
  {
   "cell_type": "code",
   "execution_count": null,
   "id": "541c727a-e580-4faa-b2bc-db3ae53c7c92",
   "metadata": {},
   "outputs": [],
   "source": []
  },
  {
   "cell_type": "code",
   "execution_count": null,
   "id": "0b9d6ed6-63c5-41da-9a42-3072c5cbfdc7",
   "metadata": {},
   "outputs": [],
   "source": []
  },
  {
   "cell_type": "code",
   "execution_count": null,
   "id": "81053780-eacf-4aec-b1bb-6cece3cb0714",
   "metadata": {},
   "outputs": [],
   "source": []
  },
  {
   "cell_type": "code",
   "execution_count": null,
   "id": "72309c7a-3342-4f02-9f48-b726db3d22f7",
   "metadata": {},
   "outputs": [],
   "source": []
  }
 ],
 "metadata": {
  "kernelspec": {
   "display_name": "Python 3 (ipykernel)",
   "language": "python",
   "name": "python3"
  },
  "language_info": {
   "codemirror_mode": {
    "name": "ipython",
    "version": 3
   },
   "file_extension": ".py",
   "mimetype": "text/x-python",
   "name": "python",
   "nbconvert_exporter": "python",
   "pygments_lexer": "ipython3",
   "version": "3.9.7"
  }
 },
 "nbformat": 4,
 "nbformat_minor": 5
}
