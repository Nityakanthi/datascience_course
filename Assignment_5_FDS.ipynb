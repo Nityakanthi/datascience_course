{
 "cells": [
  {
   "cell_type": "markdown",
   "id": "0f74bde4-a830-403a-93e7-00eb500d9687",
   "metadata": {},
   "source": [
    "# Assignment 5\n",
    "\n",
    "**Deadline 4/15/2024 before midnight**\n"
   ]
  },
  {
   "cell_type": "markdown",
   "id": "63e23f86-ed3c-4d51-b79d-822354537d59",
   "metadata": {},
   "source": [
    "YOUR NAME:Nitya Kanthi Nadimpalli\n",
    "\n",
    "---"
   ]
  },
  {
   "cell_type": "markdown",
   "id": "d55a3543-8f9d-497d-8a18-10108aa4a50e",
   "metadata": {},
   "source": [
    "You will use the abalone dataset for this assignment"
   ]
  },
  {
   "cell_type": "code",
   "execution_count": 132,
   "id": "e7ccb992-39ae-46ad-a5ab-375a2b2abf9e",
   "metadata": {},
   "outputs": [],
   "source": [
    "import warnings\n",
    "warnings.filterwarnings('ignore')"
   ]
  },
  {
   "cell_type": "code",
   "execution_count": 133,
   "id": "1d4e5941-bfd0-429f-ac39-21342bc0aa62",
   "metadata": {},
   "outputs": [],
   "source": [
    "import pandas, seaborn\n",
    "df = pandas.read_csv('../Datasets/abalone.csv')"
   ]
  },
  {
   "cell_type": "markdown",
   "id": "edaf9ac7-860c-4f80-952e-fe5aa0a995a2",
   "metadata": {},
   "source": [
    "---\n",
    "**Problem 1**\n",
    "\n",
    "Construct the feature set for regression modeling to predict Rings, as follows:\n",
    "* the feature set should consist of gender information of abalone.\n",
    "* the feature set should consist of two non-gender features with the highest variances.  Make sure to compare variances in the same scale."
   ]
  },
  {
   "cell_type": "code",
   "execution_count": 134,
   "id": "6dfd5a9b-4adf-4e0d-8374-1f4e1c75ba49",
   "metadata": {},
   "outputs": [
    {
     "data": {
      "text/plain": [
       "Length            0.014422\n",
       "Diameter          0.009849\n",
       "Height            0.001750\n",
       "Whole weight      0.240481\n",
       "Shucked weight    0.049268\n",
       "Viscera weight    0.012015\n",
       "Shell weight      0.019377\n",
       "dtype: float64"
      ]
     },
     "execution_count": 134,
     "metadata": {},
     "output_type": "execute_result"
    }
   ],
   "source": [
    "feature = df.drop(columns=[\"Sex\", \"Rings\"]).var()\n",
    "feature"
   ]
  },
  {
   "cell_type": "code",
   "execution_count": 135,
   "id": "648430b5-1e0d-4db4-bd90-e7627e13f502",
   "metadata": {},
   "outputs": [
    {
     "data": {
      "text/html": [
       "<div>\n",
       "<style scoped>\n",
       "    .dataframe tbody tr th:only-of-type {\n",
       "        vertical-align: middle;\n",
       "    }\n",
       "\n",
       "    .dataframe tbody tr th {\n",
       "        vertical-align: top;\n",
       "    }\n",
       "\n",
       "    .dataframe thead th {\n",
       "        text-align: right;\n",
       "    }\n",
       "</style>\n",
       "<table border=\"1\" class=\"dataframe\">\n",
       "  <thead>\n",
       "    <tr style=\"text-align: right;\">\n",
       "      <th></th>\n",
       "      <th>F</th>\n",
       "      <th>I</th>\n",
       "      <th>M</th>\n",
       "      <th>Whole_weight</th>\n",
       "      <th>Shucked_weight</th>\n",
       "    </tr>\n",
       "  </thead>\n",
       "  <tbody>\n",
       "    <tr>\n",
       "      <th>0</th>\n",
       "      <td>False</td>\n",
       "      <td>False</td>\n",
       "      <td>True</td>\n",
       "      <td>0.5140</td>\n",
       "      <td>0.2245</td>\n",
       "    </tr>\n",
       "    <tr>\n",
       "      <th>1</th>\n",
       "      <td>False</td>\n",
       "      <td>False</td>\n",
       "      <td>True</td>\n",
       "      <td>0.2255</td>\n",
       "      <td>0.0995</td>\n",
       "    </tr>\n",
       "    <tr>\n",
       "      <th>2</th>\n",
       "      <td>True</td>\n",
       "      <td>False</td>\n",
       "      <td>False</td>\n",
       "      <td>0.6770</td>\n",
       "      <td>0.2565</td>\n",
       "    </tr>\n",
       "    <tr>\n",
       "      <th>3</th>\n",
       "      <td>False</td>\n",
       "      <td>False</td>\n",
       "      <td>True</td>\n",
       "      <td>0.5160</td>\n",
       "      <td>0.2155</td>\n",
       "    </tr>\n",
       "    <tr>\n",
       "      <th>4</th>\n",
       "      <td>False</td>\n",
       "      <td>True</td>\n",
       "      <td>False</td>\n",
       "      <td>0.2050</td>\n",
       "      <td>0.0895</td>\n",
       "    </tr>\n",
       "    <tr>\n",
       "      <th>...</th>\n",
       "      <td>...</td>\n",
       "      <td>...</td>\n",
       "      <td>...</td>\n",
       "      <td>...</td>\n",
       "      <td>...</td>\n",
       "    </tr>\n",
       "    <tr>\n",
       "      <th>4172</th>\n",
       "      <td>True</td>\n",
       "      <td>False</td>\n",
       "      <td>False</td>\n",
       "      <td>0.8870</td>\n",
       "      <td>0.3700</td>\n",
       "    </tr>\n",
       "    <tr>\n",
       "      <th>4173</th>\n",
       "      <td>False</td>\n",
       "      <td>False</td>\n",
       "      <td>True</td>\n",
       "      <td>0.9660</td>\n",
       "      <td>0.4390</td>\n",
       "    </tr>\n",
       "    <tr>\n",
       "      <th>4174</th>\n",
       "      <td>False</td>\n",
       "      <td>False</td>\n",
       "      <td>True</td>\n",
       "      <td>1.1760</td>\n",
       "      <td>0.5255</td>\n",
       "    </tr>\n",
       "    <tr>\n",
       "      <th>4175</th>\n",
       "      <td>True</td>\n",
       "      <td>False</td>\n",
       "      <td>False</td>\n",
       "      <td>1.0945</td>\n",
       "      <td>0.5310</td>\n",
       "    </tr>\n",
       "    <tr>\n",
       "      <th>4176</th>\n",
       "      <td>False</td>\n",
       "      <td>False</td>\n",
       "      <td>True</td>\n",
       "      <td>1.9485</td>\n",
       "      <td>0.9455</td>\n",
       "    </tr>\n",
       "  </tbody>\n",
       "</table>\n",
       "<p>4177 rows × 5 columns</p>\n",
       "</div>"
      ],
      "text/plain": [
       "          F      I      M  Whole_weight  Shucked_weight\n",
       "0     False  False   True        0.5140          0.2245\n",
       "1     False  False   True        0.2255          0.0995\n",
       "2      True  False  False        0.6770          0.2565\n",
       "3     False  False   True        0.5160          0.2155\n",
       "4     False   True  False        0.2050          0.0895\n",
       "...     ...    ...    ...           ...             ...\n",
       "4172   True  False  False        0.8870          0.3700\n",
       "4173  False  False   True        0.9660          0.4390\n",
       "4174  False  False   True        1.1760          0.5255\n",
       "4175   True  False  False        1.0945          0.5310\n",
       "4176  False  False   True        1.9485          0.9455\n",
       "\n",
       "[4177 rows x 5 columns]"
      ]
     },
     "execution_count": 135,
     "metadata": {},
     "output_type": "execute_result"
    }
   ],
   "source": [
    "abalone_features = pandas.get_dummies(df['Sex'])\n",
    "abalone_features['Whole_weight'] = df['Whole weight']\n",
    "abalone_features['Shucked_weight'] = df['Shucked weight']\n",
    "\n",
    "abalone_features"
   ]
  },
  {
   "cell_type": "markdown",
   "id": "9dfff225-7816-48e2-a2c7-833e783445c1",
   "metadata": {},
   "source": [
    "---\n",
    "\n",
    "**Problem 2**\n",
    "\n",
    "Create a linear model to predict Rings (y) based on the features defined in Problem 1.\n",
    "\n",
    "You should properly process and normalize the features before letting the model learn the data.\n",
    "\n",
    "Report r2 and mean absolute error of the model on predicting the same set of features X.\n",
    "\n",
    "Here's additional information about r2 and mean absolute error.\n",
    "* https://scikit-learn.org/stable/modules/generated/sklearn.metrics.r2_score.html\n",
    "* https://scikit-learn.org/stable/modules/generated/sklearn.metrics.mean_absolute_error.html#sklearn.metrics.mean_absolute_error\n"
   ]
  },
  {
   "cell_type": "code",
   "execution_count": 136,
   "id": "2841e68b-6962-4d03-a03f-95494c766e01",
   "metadata": {},
   "outputs": [],
   "source": [
    "from sklearn.linear_model import LinearRegression\n",
    "from sklearn.preprocessing import StandardScaler\n",
    "from sklearn.metrics import r2_score, mean_absolute_error\n",
    "\n",
    "abalone_features = pandas.get_dummies(df['Sex'])\n",
    "abalone_features['Whole_weight'] = df['Whole weight']\n",
    "abalone_features['Shucked_weight'] = df['Shucked weight']\n",
    "y = df['Rings']\n"
   ]
  },
  {
   "cell_type": "code",
   "execution_count": 137,
   "id": "4c87dcde-90a4-4892-861e-384cc50408b4",
   "metadata": {},
   "outputs": [],
   "source": [
    "scaler = StandardScaler()\n",
    "abalone_features[['Whole_weight', 'Shucked_weight']] = scaler.fit_transform(abalone_features[['Whole_weight', 'Shucked_weight']])"
   ]
  },
  {
   "cell_type": "code",
   "execution_count": 138,
   "id": "9de0606a-d3e9-4c75-89df-6d8d2c1ce8d4",
   "metadata": {},
   "outputs": [
    {
     "data": {
      "text/html": [
       "<style>#sk-container-id-6 {color: black;background-color: white;}#sk-container-id-6 pre{padding: 0;}#sk-container-id-6 div.sk-toggleable {background-color: white;}#sk-container-id-6 label.sk-toggleable__label {cursor: pointer;display: block;width: 100%;margin-bottom: 0;padding: 0.3em;box-sizing: border-box;text-align: center;}#sk-container-id-6 label.sk-toggleable__label-arrow:before {content: \"▸\";float: left;margin-right: 0.25em;color: #696969;}#sk-container-id-6 label.sk-toggleable__label-arrow:hover:before {color: black;}#sk-container-id-6 div.sk-estimator:hover label.sk-toggleable__label-arrow:before {color: black;}#sk-container-id-6 div.sk-toggleable__content {max-height: 0;max-width: 0;overflow: hidden;text-align: left;background-color: #f0f8ff;}#sk-container-id-6 div.sk-toggleable__content pre {margin: 0.2em;color: black;border-radius: 0.25em;background-color: #f0f8ff;}#sk-container-id-6 input.sk-toggleable__control:checked~div.sk-toggleable__content {max-height: 200px;max-width: 100%;overflow: auto;}#sk-container-id-6 input.sk-toggleable__control:checked~label.sk-toggleable__label-arrow:before {content: \"▾\";}#sk-container-id-6 div.sk-estimator input.sk-toggleable__control:checked~label.sk-toggleable__label {background-color: #d4ebff;}#sk-container-id-6 div.sk-label input.sk-toggleable__control:checked~label.sk-toggleable__label {background-color: #d4ebff;}#sk-container-id-6 input.sk-hidden--visually {border: 0;clip: rect(1px 1px 1px 1px);clip: rect(1px, 1px, 1px, 1px);height: 1px;margin: -1px;overflow: hidden;padding: 0;position: absolute;width: 1px;}#sk-container-id-6 div.sk-estimator {font-family: monospace;background-color: #f0f8ff;border: 1px dotted black;border-radius: 0.25em;box-sizing: border-box;margin-bottom: 0.5em;}#sk-container-id-6 div.sk-estimator:hover {background-color: #d4ebff;}#sk-container-id-6 div.sk-parallel-item::after {content: \"\";width: 100%;border-bottom: 1px solid gray;flex-grow: 1;}#sk-container-id-6 div.sk-label:hover label.sk-toggleable__label {background-color: #d4ebff;}#sk-container-id-6 div.sk-serial::before {content: \"\";position: absolute;border-left: 1px solid gray;box-sizing: border-box;top: 0;bottom: 0;left: 50%;z-index: 0;}#sk-container-id-6 div.sk-serial {display: flex;flex-direction: column;align-items: center;background-color: white;padding-right: 0.2em;padding-left: 0.2em;position: relative;}#sk-container-id-6 div.sk-item {position: relative;z-index: 1;}#sk-container-id-6 div.sk-parallel {display: flex;align-items: stretch;justify-content: center;background-color: white;position: relative;}#sk-container-id-6 div.sk-item::before, #sk-container-id-6 div.sk-parallel-item::before {content: \"\";position: absolute;border-left: 1px solid gray;box-sizing: border-box;top: 0;bottom: 0;left: 50%;z-index: -1;}#sk-container-id-6 div.sk-parallel-item {display: flex;flex-direction: column;z-index: 1;position: relative;background-color: white;}#sk-container-id-6 div.sk-parallel-item:first-child::after {align-self: flex-end;width: 50%;}#sk-container-id-6 div.sk-parallel-item:last-child::after {align-self: flex-start;width: 50%;}#sk-container-id-6 div.sk-parallel-item:only-child::after {width: 0;}#sk-container-id-6 div.sk-dashed-wrapped {border: 1px dashed gray;margin: 0 0.4em 0.5em 0.4em;box-sizing: border-box;padding-bottom: 0.4em;background-color: white;}#sk-container-id-6 div.sk-label label {font-family: monospace;font-weight: bold;display: inline-block;line-height: 1.2em;}#sk-container-id-6 div.sk-label-container {text-align: center;}#sk-container-id-6 div.sk-container {/* jupyter's `normalize.less` sets `[hidden] { display: none; }` but bootstrap.min.css set `[hidden] { display: none !important; }` so we also need the `!important` here to be able to override the default hidden behavior on the sphinx rendered scikit-learn.org. See: https://github.com/scikit-learn/scikit-learn/issues/21755 */display: inline-block !important;position: relative;}#sk-container-id-6 div.sk-text-repr-fallback {display: none;}</style><div id=\"sk-container-id-6\" class=\"sk-top-container\"><div class=\"sk-text-repr-fallback\"><pre>LinearRegression()</pre><b>In a Jupyter environment, please rerun this cell to show the HTML representation or trust the notebook. <br />On GitHub, the HTML representation is unable to render, please try loading this page with nbviewer.org.</b></div><div class=\"sk-container\" hidden><div class=\"sk-item\"><div class=\"sk-estimator sk-toggleable\"><input class=\"sk-toggleable__control sk-hidden--visually\" id=\"sk-estimator-id-6\" type=\"checkbox\" checked><label for=\"sk-estimator-id-6\" class=\"sk-toggleable__label sk-toggleable__label-arrow\">LinearRegression</label><div class=\"sk-toggleable__content\"><pre>LinearRegression()</pre></div></div></div></div></div>"
      ],
      "text/plain": [
       "LinearRegression()"
      ]
     },
     "execution_count": 138,
     "metadata": {},
     "output_type": "execute_result"
    }
   ],
   "source": [
    "model = LinearRegression()\n",
    "model.fit(abalone_features, y)"
   ]
  },
  {
   "cell_type": "code",
   "execution_count": 139,
   "id": "12af418c-d2a4-4bc2-a4dc-7e935c30fc42",
   "metadata": {},
   "outputs": [],
   "source": [
    "predict = model.predict(abalone_features)\n",
    "r = r2_score(y, predict)\n",
    "m = mean_absolute_error(y, predict)"
   ]
  },
  {
   "cell_type": "code",
   "execution_count": 140,
   "id": "17777429-76e0-470c-9ab1-7cc98459e9d6",
   "metadata": {},
   "outputs": [
    {
     "data": {
      "text/plain": [
       "0.4832073858816347"
      ]
     },
     "execution_count": 140,
     "metadata": {},
     "output_type": "execute_result"
    }
   ],
   "source": [
    "r"
   ]
  },
  {
   "cell_type": "code",
   "execution_count": 141,
   "id": "101432b1-e28b-4016-af46-35f1a42fe51d",
   "metadata": {},
   "outputs": [
    {
     "data": {
      "text/plain": [
       "1.6826800784055542"
      ]
     },
     "execution_count": 141,
     "metadata": {},
     "output_type": "execute_result"
    }
   ],
   "source": [
    "m"
   ]
  },
  {
   "cell_type": "markdown",
   "id": "3d2f3e2a-8323-43d6-9d45-d160a96c6d0b",
   "metadata": {},
   "source": [
    "---\n",
    "\n",
    "**Problem 3**\n",
    "\n",
    "Create a non-linear model, using a 7-nearest neighbor regressor, to predict Rings (y) based on the features defined in Problem 1.\n",
    "\n",
    "You should properly process and normalize the features before letting the model learn the data.\n",
    "\n",
    "Report r2 and mean absolute error of the model on predicting the same set of features X.\n",
    "\n"
   ]
  },
  {
   "cell_type": "code",
   "execution_count": 143,
   "id": "1e109282-b900-4e70-aa34-1a7de8572d68",
   "metadata": {},
   "outputs": [],
   "source": [
    "import pandas as pd\n",
    "from sklearn.neighbors import KNeighborsRegressor\n",
    "from sklearn.metrics import r2_score, mean_absolute_error\n",
    "from sklearn.preprocessing import StandardScaler\n",
    "\n",
    "\n",
    "abalone_features = pandas.get_dummies(df['Sex'])\n",
    "abalone_features['Whole_weight'] = df['Whole weight']\n",
    "abalone_features['Shucked_weight'] = df['Shucked weight']\n",
    "y = df['Rings']\n"
   ]
  },
  {
   "cell_type": "code",
   "execution_count": 144,
   "id": "298e3de8-4e85-4446-b6b6-784d566432b4",
   "metadata": {},
   "outputs": [],
   "source": [
    "scaler = StandardScaler()\n",
    "abalone_features[['Whole_weight', 'Shucked_weight']] = scaler.fit_transform(abalone_features[['Whole_weight', 'Shucked_weight']])"
   ]
  },
  {
   "cell_type": "code",
   "execution_count": 145,
   "id": "eb01288b-9afb-4737-aed9-6307f214921b",
   "metadata": {},
   "outputs": [
    {
     "data": {
      "text/html": [
       "<style>#sk-container-id-7 {color: black;background-color: white;}#sk-container-id-7 pre{padding: 0;}#sk-container-id-7 div.sk-toggleable {background-color: white;}#sk-container-id-7 label.sk-toggleable__label {cursor: pointer;display: block;width: 100%;margin-bottom: 0;padding: 0.3em;box-sizing: border-box;text-align: center;}#sk-container-id-7 label.sk-toggleable__label-arrow:before {content: \"▸\";float: left;margin-right: 0.25em;color: #696969;}#sk-container-id-7 label.sk-toggleable__label-arrow:hover:before {color: black;}#sk-container-id-7 div.sk-estimator:hover label.sk-toggleable__label-arrow:before {color: black;}#sk-container-id-7 div.sk-toggleable__content {max-height: 0;max-width: 0;overflow: hidden;text-align: left;background-color: #f0f8ff;}#sk-container-id-7 div.sk-toggleable__content pre {margin: 0.2em;color: black;border-radius: 0.25em;background-color: #f0f8ff;}#sk-container-id-7 input.sk-toggleable__control:checked~div.sk-toggleable__content {max-height: 200px;max-width: 100%;overflow: auto;}#sk-container-id-7 input.sk-toggleable__control:checked~label.sk-toggleable__label-arrow:before {content: \"▾\";}#sk-container-id-7 div.sk-estimator input.sk-toggleable__control:checked~label.sk-toggleable__label {background-color: #d4ebff;}#sk-container-id-7 div.sk-label input.sk-toggleable__control:checked~label.sk-toggleable__label {background-color: #d4ebff;}#sk-container-id-7 input.sk-hidden--visually {border: 0;clip: rect(1px 1px 1px 1px);clip: rect(1px, 1px, 1px, 1px);height: 1px;margin: -1px;overflow: hidden;padding: 0;position: absolute;width: 1px;}#sk-container-id-7 div.sk-estimator {font-family: monospace;background-color: #f0f8ff;border: 1px dotted black;border-radius: 0.25em;box-sizing: border-box;margin-bottom: 0.5em;}#sk-container-id-7 div.sk-estimator:hover {background-color: #d4ebff;}#sk-container-id-7 div.sk-parallel-item::after {content: \"\";width: 100%;border-bottom: 1px solid gray;flex-grow: 1;}#sk-container-id-7 div.sk-label:hover label.sk-toggleable__label {background-color: #d4ebff;}#sk-container-id-7 div.sk-serial::before {content: \"\";position: absolute;border-left: 1px solid gray;box-sizing: border-box;top: 0;bottom: 0;left: 50%;z-index: 0;}#sk-container-id-7 div.sk-serial {display: flex;flex-direction: column;align-items: center;background-color: white;padding-right: 0.2em;padding-left: 0.2em;position: relative;}#sk-container-id-7 div.sk-item {position: relative;z-index: 1;}#sk-container-id-7 div.sk-parallel {display: flex;align-items: stretch;justify-content: center;background-color: white;position: relative;}#sk-container-id-7 div.sk-item::before, #sk-container-id-7 div.sk-parallel-item::before {content: \"\";position: absolute;border-left: 1px solid gray;box-sizing: border-box;top: 0;bottom: 0;left: 50%;z-index: -1;}#sk-container-id-7 div.sk-parallel-item {display: flex;flex-direction: column;z-index: 1;position: relative;background-color: white;}#sk-container-id-7 div.sk-parallel-item:first-child::after {align-self: flex-end;width: 50%;}#sk-container-id-7 div.sk-parallel-item:last-child::after {align-self: flex-start;width: 50%;}#sk-container-id-7 div.sk-parallel-item:only-child::after {width: 0;}#sk-container-id-7 div.sk-dashed-wrapped {border: 1px dashed gray;margin: 0 0.4em 0.5em 0.4em;box-sizing: border-box;padding-bottom: 0.4em;background-color: white;}#sk-container-id-7 div.sk-label label {font-family: monospace;font-weight: bold;display: inline-block;line-height: 1.2em;}#sk-container-id-7 div.sk-label-container {text-align: center;}#sk-container-id-7 div.sk-container {/* jupyter's `normalize.less` sets `[hidden] { display: none; }` but bootstrap.min.css set `[hidden] { display: none !important; }` so we also need the `!important` here to be able to override the default hidden behavior on the sphinx rendered scikit-learn.org. See: https://github.com/scikit-learn/scikit-learn/issues/21755 */display: inline-block !important;position: relative;}#sk-container-id-7 div.sk-text-repr-fallback {display: none;}</style><div id=\"sk-container-id-7\" class=\"sk-top-container\"><div class=\"sk-text-repr-fallback\"><pre>KNeighborsRegressor(n_neighbors=7)</pre><b>In a Jupyter environment, please rerun this cell to show the HTML representation or trust the notebook. <br />On GitHub, the HTML representation is unable to render, please try loading this page with nbviewer.org.</b></div><div class=\"sk-container\" hidden><div class=\"sk-item\"><div class=\"sk-estimator sk-toggleable\"><input class=\"sk-toggleable__control sk-hidden--visually\" id=\"sk-estimator-id-7\" type=\"checkbox\" checked><label for=\"sk-estimator-id-7\" class=\"sk-toggleable__label sk-toggleable__label-arrow\">KNeighborsRegressor</label><div class=\"sk-toggleable__content\"><pre>KNeighborsRegressor(n_neighbors=7)</pre></div></div></div></div></div>"
      ],
      "text/plain": [
       "KNeighborsRegressor(n_neighbors=7)"
      ]
     },
     "execution_count": 145,
     "metadata": {},
     "output_type": "execute_result"
    }
   ],
   "source": [
    "knn = KNeighborsRegressor(n_neighbors=7)\n",
    "knn.fit(abalone_features, y)"
   ]
  },
  {
   "cell_type": "code",
   "execution_count": 147,
   "id": "425fc7d9-9f0c-4ef7-ad70-4a868399171a",
   "metadata": {},
   "outputs": [],
   "source": [
    "predict_knn = knn.predict(abalone_features)\n",
    "r1 = r2_score(y, predict_knn)\n",
    "m1 = mean_absolute_error(y, predict_knn)"
   ]
  },
  {
   "cell_type": "code",
   "execution_count": 148,
   "id": "42fb6277-6d96-4446-b1e8-ca04915b4c76",
   "metadata": {},
   "outputs": [
    {
     "data": {
      "text/plain": [
       "0.6373069343230363"
      ]
     },
     "execution_count": 148,
     "metadata": {},
     "output_type": "execute_result"
    }
   ],
   "source": [
    "r1"
   ]
  },
  {
   "cell_type": "code",
   "execution_count": 149,
   "id": "f709da4c-977e-43a6-aae9-cd0b03c59330",
   "metadata": {},
   "outputs": [
    {
     "data": {
      "text/plain": [
       "1.367146619241424"
      ]
     },
     "execution_count": 149,
     "metadata": {},
     "output_type": "execute_result"
    }
   ],
   "source": [
    "m1"
   ]
  },
  {
   "cell_type": "markdown",
   "id": "a0472fe1-0ea5-40c1-b615-3d82b5832fb7",
   "metadata": {},
   "source": [
    "---\n",
    "\n",
    "**Problem 4**\n",
    "\n",
    "Suppose you want to split the data into training and testing subsets using 50-fold cross validation. What is the size of each set of testing data?  Show the data in the 4th testing data set.\n",
    "\n",
    "Here's additional information on KFold:\n",
    "* https://scikit-learn.org/stable/modules/generated/sklearn.model_selection.KFold.html"
   ]
  },
  {
   "cell_type": "code",
   "execution_count": 150,
   "id": "52978f81-cca9-4b9c-a776-a30418db8dd5",
   "metadata": {},
   "outputs": [
    {
     "name": "stdout",
     "output_type": "stream",
     "text": [
      "     Sex  Length  Diameter  Height  Whole weight  Shucked weight  \\\n",
      "13     F   0.535     0.405   0.145        0.6845          0.2725   \n",
      "21     I   0.380     0.275   0.100        0.2255          0.0800   \n",
      "102    M   0.530     0.435   0.160        0.8830          0.3160   \n",
      "161    F   0.605     0.485   0.160        1.2220          0.5300   \n",
      "181    M   0.640     0.510   0.175        1.3680          0.5150   \n",
      "...   ..     ...       ...     ...           ...             ...   \n",
      "3855   M   0.410     0.335   0.115        0.4405          0.1900   \n",
      "3944   M   0.550     0.440   0.160        0.9910          0.3480   \n",
      "4016   F   0.640     0.525   0.175        1.3820          0.6460   \n",
      "4024   I   0.330     0.245   0.065        0.1445          0.0580   \n",
      "4154   I   0.435     0.330   0.095        0.3930          0.2190   \n",
      "\n",
      "      Viscera weight  Shell weight  Rings  \n",
      "13            0.1710        0.2050     10  \n",
      "21            0.0490        0.0850     10  \n",
      "102           0.1640        0.3350     15  \n",
      "161           0.2575        0.2800     13  \n",
      "181           0.2660        0.5700     21  \n",
      "...              ...           ...    ...  \n",
      "3855          0.0850        0.1350      8  \n",
      "3944          0.1680        0.3750     20  \n",
      "4016          0.3115        0.3700      9  \n",
      "4024          0.0320        0.0505      6  \n",
      "4154          0.0750        0.0885      6  \n",
      "\n",
      "[84 rows x 9 columns]\n"
     ]
    }
   ],
   "source": [
    "from sklearn.model_selection import KFold\n",
    "\n",
    "kf = KFold(n_splits=50, shuffle=True, random_state=1)\n",
    "\n",
    "for i, (train_index, test_index) in enumerate(kf.split(df)):\n",
    "    if i == 3: \n",
    "        fourth_test_set = df.iloc[test_index]\n",
    "        print(fourth_test_set)\n",
    "        break"
   ]
  },
  {
   "cell_type": "code",
   "execution_count": 151,
   "id": "fdc66539-f7e5-4cd2-a49a-1c87dd3f50a6",
   "metadata": {},
   "outputs": [
    {
     "data": {
      "text/plain": [
       "83.54"
      ]
     },
     "execution_count": 151,
     "metadata": {},
     "output_type": "execute_result"
    }
   ],
   "source": [
    "total_samples = df.shape[0]\n",
    "test_size = total_samples / 50\n",
    "\n",
    "test_size"
   ]
  },
  {
   "cell_type": "markdown",
   "id": "5b1ce3b7-0aef-430a-9dad-ca1d40788c97",
   "metadata": {},
   "source": [
    "---\n",
    "\n",
    "**Problem 5**\n",
    "\n",
    "Write a function call `evaluate` with this interface:\n",
    "\n",
    "```python\n",
    "\n",
    "def evaluate(model, training_X, testing_X, training_y, testing_y):\n",
    "    pass\n",
    "\n",
    "```\n",
    "import pandas\n",
    "from sklearn.preprocessing import MinMaxScalerThis function evaluates the model by training on the training data and returns the mean absolute error between the predictions and testing_y."
   ]
  },
  {
   "cell_type": "code",
   "execution_count": 152,
   "id": "b3494b99-93d5-4600-a570-a675a5a27928",
   "metadata": {},
   "outputs": [],
   "source": [
    "import pandas\n",
    "from sklearn.preprocessing import MinMaxScaler\n",
    "\n",
    "scaler = MinMaxScaler()\n",
    "X = pandas.get_dummies(df.drop(columns=['Rings']))\n",
    "scaled_X = pandas.DataFrame(scaler.fit_transform(X), columns=X.columns)"
   ]
  },
  {
   "cell_type": "code",
   "execution_count": 153,
   "id": "04fb8003-d250-404a-a357-2d089bbaa323",
   "metadata": {},
   "outputs": [
    {
     "data": {
      "text/html": [
       "<style>#sk-container-id-8 {color: black;background-color: white;}#sk-container-id-8 pre{padding: 0;}#sk-container-id-8 div.sk-toggleable {background-color: white;}#sk-container-id-8 label.sk-toggleable__label {cursor: pointer;display: block;width: 100%;margin-bottom: 0;padding: 0.3em;box-sizing: border-box;text-align: center;}#sk-container-id-8 label.sk-toggleable__label-arrow:before {content: \"▸\";float: left;margin-right: 0.25em;color: #696969;}#sk-container-id-8 label.sk-toggleable__label-arrow:hover:before {color: black;}#sk-container-id-8 div.sk-estimator:hover label.sk-toggleable__label-arrow:before {color: black;}#sk-container-id-8 div.sk-toggleable__content {max-height: 0;max-width: 0;overflow: hidden;text-align: left;background-color: #f0f8ff;}#sk-container-id-8 div.sk-toggleable__content pre {margin: 0.2em;color: black;border-radius: 0.25em;background-color: #f0f8ff;}#sk-container-id-8 input.sk-toggleable__control:checked~div.sk-toggleable__content {max-height: 200px;max-width: 100%;overflow: auto;}#sk-container-id-8 input.sk-toggleable__control:checked~label.sk-toggleable__label-arrow:before {content: \"▾\";}#sk-container-id-8 div.sk-estimator input.sk-toggleable__control:checked~label.sk-toggleable__label {background-color: #d4ebff;}#sk-container-id-8 div.sk-label input.sk-toggleable__control:checked~label.sk-toggleable__label {background-color: #d4ebff;}#sk-container-id-8 input.sk-hidden--visually {border: 0;clip: rect(1px 1px 1px 1px);clip: rect(1px, 1px, 1px, 1px);height: 1px;margin: -1px;overflow: hidden;padding: 0;position: absolute;width: 1px;}#sk-container-id-8 div.sk-estimator {font-family: monospace;background-color: #f0f8ff;border: 1px dotted black;border-radius: 0.25em;box-sizing: border-box;margin-bottom: 0.5em;}#sk-container-id-8 div.sk-estimator:hover {background-color: #d4ebff;}#sk-container-id-8 div.sk-parallel-item::after {content: \"\";width: 100%;border-bottom: 1px solid gray;flex-grow: 1;}#sk-container-id-8 div.sk-label:hover label.sk-toggleable__label {background-color: #d4ebff;}#sk-container-id-8 div.sk-serial::before {content: \"\";position: absolute;border-left: 1px solid gray;box-sizing: border-box;top: 0;bottom: 0;left: 50%;z-index: 0;}#sk-container-id-8 div.sk-serial {display: flex;flex-direction: column;align-items: center;background-color: white;padding-right: 0.2em;padding-left: 0.2em;position: relative;}#sk-container-id-8 div.sk-item {position: relative;z-index: 1;}#sk-container-id-8 div.sk-parallel {display: flex;align-items: stretch;justify-content: center;background-color: white;position: relative;}#sk-container-id-8 div.sk-item::before, #sk-container-id-8 div.sk-parallel-item::before {content: \"\";position: absolute;border-left: 1px solid gray;box-sizing: border-box;top: 0;bottom: 0;left: 50%;z-index: -1;}#sk-container-id-8 div.sk-parallel-item {display: flex;flex-direction: column;z-index: 1;position: relative;background-color: white;}#sk-container-id-8 div.sk-parallel-item:first-child::after {align-self: flex-end;width: 50%;}#sk-container-id-8 div.sk-parallel-item:last-child::after {align-self: flex-start;width: 50%;}#sk-container-id-8 div.sk-parallel-item:only-child::after {width: 0;}#sk-container-id-8 div.sk-dashed-wrapped {border: 1px dashed gray;margin: 0 0.4em 0.5em 0.4em;box-sizing: border-box;padding-bottom: 0.4em;background-color: white;}#sk-container-id-8 div.sk-label label {font-family: monospace;font-weight: bold;display: inline-block;line-height: 1.2em;}#sk-container-id-8 div.sk-label-container {text-align: center;}#sk-container-id-8 div.sk-container {/* jupyter's `normalize.less` sets `[hidden] { display: none; }` but bootstrap.min.css set `[hidden] { display: none !important; }` so we also need the `!important` here to be able to override the default hidden behavior on the sphinx rendered scikit-learn.org. See: https://github.com/scikit-learn/scikit-learn/issues/21755 */display: inline-block !important;position: relative;}#sk-container-id-8 div.sk-text-repr-fallback {display: none;}</style><div id=\"sk-container-id-8\" class=\"sk-top-container\"><div class=\"sk-text-repr-fallback\"><pre>KNeighborsRegressor(n_neighbors=9)</pre><b>In a Jupyter environment, please rerun this cell to show the HTML representation or trust the notebook. <br />On GitHub, the HTML representation is unable to render, please try loading this page with nbviewer.org.</b></div><div class=\"sk-container\" hidden><div class=\"sk-item\"><div class=\"sk-estimator sk-toggleable\"><input class=\"sk-toggleable__control sk-hidden--visually\" id=\"sk-estimator-id-8\" type=\"checkbox\" checked><label for=\"sk-estimator-id-8\" class=\"sk-toggleable__label sk-toggleable__label-arrow\">KNeighborsRegressor</label><div class=\"sk-toggleable__content\"><pre>KNeighborsRegressor(n_neighbors=9)</pre></div></div></div></div></div>"
      ],
      "text/plain": [
       "KNeighborsRegressor(n_neighbors=9)"
      ]
     },
     "execution_count": 153,
     "metadata": {},
     "output_type": "execute_result"
    }
   ],
   "source": [
    "model1 = LinearRegression()\n",
    "model1.fit(scaled_X,y)\n",
    "model2 = KNeighborsRegressor(n_neighbors=9)\n",
    "model2.fit(scaled_X,y)"
   ]
  },
  {
   "cell_type": "code",
   "execution_count": 154,
   "id": "f17a6b54-3de1-42f9-975f-e186e3502229",
   "metadata": {},
   "outputs": [
    {
     "name": "stdout",
     "output_type": "stream",
     "text": [
      "1.57975221450802\n",
      "1.3702284999866998\n"
     ]
    }
   ],
   "source": [
    "y1 = model1.predict(scaled_X)\n",
    "y2 = model2.predict(scaled_X)\n",
    "\n",
    "print(mean_absolute_error(y, y1))\n",
    "print(mean_absolute_error(y, y2))"
   ]
  },
  {
   "cell_type": "code",
   "execution_count": 155,
   "id": "8dad6a2a-4787-42a7-9555-ec30c9978d2a",
   "metadata": {},
   "outputs": [],
   "source": [
    "from sklearn.model_selection import train_test_split\n",
    "training_X, testing_X, training_y, testing_y = train_test_split(scaled_X, y, test_size=0.01)"
   ]
  },
  {
   "cell_type": "code",
   "execution_count": 156,
   "id": "e72048dc-1248-4deb-bc24-fa0d62fc08a3",
   "metadata": {},
   "outputs": [],
   "source": [
    "from sklearn.metrics import mean_absolute_error\n",
    "\n",
    "def evaluate(model, training_X, testing_X, training_y, testing_y):\n",
    "    model.fit(training_X, training_y)\n",
    "\n",
    "    predictions = model.predict(testing_X)\n",
    "\n",
    "    m = mean_absolute_error(testing_y, predictions)\n",
    "    return m"
   ]
  },
  {
   "cell_type": "code",
   "execution_count": 157,
   "id": "2801800e-b2b3-49cf-858e-38d8d6b246da",
   "metadata": {},
   "outputs": [
    {
     "data": {
      "text/plain": [
       "1.5146949404761905"
      ]
     },
     "execution_count": 157,
     "metadata": {},
     "output_type": "execute_result"
    }
   ],
   "source": [
    "model = LinearRegression()\n",
    "m_result = evaluate(model, training_X, testing_X, training_y, testing_y)\n",
    "m_result"
   ]
  },
  {
   "cell_type": "markdown",
   "id": "ffdef05d-17b4-4e10-b20c-5c187f8c0335",
   "metadata": {},
   "source": [
    "---\n",
    "\n",
    "**Problem 6**\n",
    "\n",
    "Evaluate the linear regression model in Problem 2, using 50-fold cross validation.\n",
    "\n",
    "Print out mean absolute errors in each iteration and compute the average mean absolute errors.\n"
   ]
  },
  {
   "cell_type": "code",
   "execution_count": 158,
   "id": "597fc4b7-f00f-42bc-876a-954f969b452b",
   "metadata": {},
   "outputs": [],
   "source": [
    "import numpy as np\n",
    "from sklearn.model_selection import KFold\n",
    "from sklearn.linear_model import LinearRegression\n",
    "from sklearn.metrics import mean_absolute_error\n",
    "from sklearn.preprocessing import StandardScaler\n",
    "import pandas"
   ]
  },
  {
   "cell_type": "code",
   "execution_count": 159,
   "id": "42faa163-356b-452d-877b-3665cdff9a94",
   "metadata": {},
   "outputs": [],
   "source": [
    "abalone_features = pandas.get_dummies(df['Sex'])\n",
    "abalone_features['Whole_weight'] = df['Whole weight']\n",
    "abalone_features['Shucked_weight'] = df['Shucked weight']\n",
    "y = df['Rings']"
   ]
  },
  {
   "cell_type": "code",
   "execution_count": 160,
   "id": "8244aa44-7f87-4896-9832-452c4068b039",
   "metadata": {},
   "outputs": [],
   "source": [
    "scaler = StandardScaler()\n",
    "abalone_features = scaler.fit_transform(abalone_features)"
   ]
  },
  {
   "cell_type": "code",
   "execution_count": 161,
   "id": "4c15fc21-63ab-4e0d-bc76-d0cd1410837f",
   "metadata": {},
   "outputs": [],
   "source": [
    "model = LinearRegression()"
   ]
  },
  {
   "cell_type": "code",
   "execution_count": 162,
   "id": "09b7792b-466a-48d2-978f-0a8f39ad17b8",
   "metadata": {},
   "outputs": [],
   "source": [
    "kf = KFold(n_splits=50, shuffle=True, random_state=1)\n",
    "\n",
    "m_scores = []"
   ]
  },
  {
   "cell_type": "code",
   "execution_count": 163,
   "id": "7d1c6797-a1b8-41d4-900d-08fb6bdde4e2",
   "metadata": {},
   "outputs": [
    {
     "name": "stdout",
     "output_type": "stream",
     "text": [
      "1.4660913420796247\n",
      "1.5393329525457555\n",
      "1.7582319803437862\n",
      "1.7380936727054195\n",
      "1.9389447688515058\n",
      "1.440452684781259\n",
      "2.0398841770045464\n",
      "1.5918299751656488\n",
      "1.7093271207641088\n",
      "1.5951468951589087\n",
      "1.8240154930238173\n",
      "1.7338297436349563\n",
      "1.6198949020708056\n",
      "1.5301222717085583\n",
      "1.8870707166946323\n",
      "1.6065098614147064\n",
      "1.7399814160712845\n",
      "1.7296914723587715\n",
      "1.8079102554926727\n",
      "1.5006644211677203\n",
      "1.9848390082929117\n",
      "1.5958938102367224\n",
      "1.5027863606844707\n",
      "1.3614485842943687\n",
      "1.6570236853116886\n",
      "1.7487191402617566\n",
      "1.7135202678563164\n",
      "1.9694032108130615\n",
      "1.7843779150676855\n",
      "1.6908574806624377\n",
      "1.7386907014660002\n",
      "1.480716969634488\n",
      "1.6776570972020997\n",
      "1.5917220752150727\n",
      "1.93207118645524\n",
      "2.0600894227465187\n",
      "1.46279126835041\n",
      "1.595036785437152\n",
      "2.0239460524805852\n",
      "1.9574217907181948\n",
      "1.2692789026456972\n",
      "1.5848728714367035\n",
      "1.7026527486335143\n",
      "1.6280659171604162\n",
      "1.7516270761923585\n",
      "1.7316677633775253\n",
      "1.5456956245431717\n",
      "1.4513192829426151\n",
      "1.7681895083998744\n",
      "1.6020800839337495\n"
     ]
    }
   ],
   "source": [
    "for train_index, test_index in kf.split(abalone_features):\n",
    "    X_train, X_test = abalone_features[train_index], abalone_features[test_index]\n",
    "    y_train, y_test = y.iloc[train_index], y.iloc[test_index]\n",
    "\n",
    "    model.fit(X_train, y_train)\n",
    "\n",
    "    predict = model.predict(X_test)\n",
    "\n",
    "    m = mean_absolute_error(y_test, predict)\n",
    "    m_scores.append(m)\n",
    "    print(m)"
   ]
  },
  {
   "cell_type": "code",
   "execution_count": 164,
   "id": "ef3668c3-b5c5-4174-893e-9dfbdfe621fd",
   "metadata": {},
   "outputs": [
    {
     "data": {
      "text/plain": [
       "1.687229774309826"
      ]
     },
     "execution_count": 164,
     "metadata": {},
     "output_type": "execute_result"
    }
   ],
   "source": [
    "average_m = np.mean(m_scores)\n",
    "average_m"
   ]
  },
  {
   "cell_type": "markdown",
   "id": "9842ed68-3ba0-4f89-93d9-8c51a4c768d0",
   "metadata": {},
   "source": [
    "---\n",
    "\n",
    "**Problem 7**\n",
    "\n",
    "Evaluate the 7-nearest neighbor model in Problem 3, using 50-fold cross validation.\n",
    "\n",
    "Print out mean absolute errors in each iteration and compute the average mean absolute errors."
   ]
  },
  {
   "cell_type": "code",
   "execution_count": 165,
   "id": "37f6d1bc-29f7-4b8d-ab6d-e82abbe647a3",
   "metadata": {},
   "outputs": [],
   "source": [
    "knn = KNeighborsRegressor(n_neighbors=7)"
   ]
  },
  {
   "cell_type": "code",
   "execution_count": 166,
   "id": "1155c9ea-9957-45e2-887e-7650da371f56",
   "metadata": {},
   "outputs": [],
   "source": [
    "kf = KFold(n_splits=50, shuffle=True, random_state=1)"
   ]
  },
  {
   "cell_type": "code",
   "execution_count": 167,
   "id": "d352717c-f908-4713-81ef-eb703ad2f39a",
   "metadata": {},
   "outputs": [],
   "source": [
    "m1_scores = []"
   ]
  },
  {
   "cell_type": "code",
   "execution_count": 168,
   "id": "014c81c3-a183-456e-9a85-faab2a18ac7e",
   "metadata": {},
   "outputs": [
    {
     "name": "stdout",
     "output_type": "stream",
     "text": [
      "1.4370748299319727\n",
      "1.4234693877551021\n",
      "1.695578231292517\n",
      "1.5935374149659864\n",
      "1.8860544217687076\n",
      "1.2755102040816326\n",
      "1.8945578231292517\n",
      "1.3843537414965987\n",
      "1.5629251700680276\n",
      "1.4795918367346939\n",
      "1.9132653061224492\n",
      "1.5459183673469388\n",
      "1.5323129251700682\n",
      "1.477891156462585\n",
      "1.8452380952380953\n",
      "1.4183673469387754\n",
      "1.8809523809523807\n",
      "1.7414965986394557\n",
      "1.7295918367346939\n",
      "1.5034013605442178\n",
      "1.7721088435374146\n",
      "1.4421768707482994\n",
      "1.5391156462585034\n",
      "1.4132653061224492\n",
      "1.6190476190476193\n",
      "1.5136054421768708\n",
      "1.486394557823129\n",
      "1.6282271944922546\n",
      "1.648881239242685\n",
      "1.5903614457831328\n",
      "1.550774526678141\n",
      "1.4561101549053357\n",
      "1.3872633390705682\n",
      "1.5817555938037864\n",
      "1.8123924268502585\n",
      "1.9139414802065404\n",
      "1.227194492254733\n",
      "1.4870912220309809\n",
      "1.9776247848537005\n",
      "1.8106712564543892\n",
      "1.4388984509466438\n",
      "1.5628227194492255\n",
      "1.3132530120481927\n",
      "1.7607573149741826\n",
      "1.5335628227194495\n",
      "1.550774526678141\n",
      "1.466437177280551\n",
      "1.5008605851979344\n",
      "1.7504302925989677\n",
      "1.5662650602409638\n"
     ]
    }
   ],
   "source": [
    "for train_index, test_index in kf.split(abalone_features):\n",
    "    \n",
    "    X_train, X_test = abalone_features[train_index], abalone_features[test_index]\n",
    "    y_train, y_test = y.iloc[train_index], y.iloc[test_index]\n",
    "\n",
    "    knn.fit(X_train, y_train)\n",
    "\n",
    "    predict = knn.predict(X_test)\n",
    "\n",
    "    m1 = mean_absolute_error(y_test, predict)\n",
    "    m1_scores.append(m1)\n",
    "    print(m1)"
   ]
  },
  {
   "cell_type": "code",
   "execution_count": 169,
   "id": "e8b86bcf-6fb9-4074-8649-cbd44fc62d12",
   "metadata": {},
   "outputs": [
    {
     "name": "stdout",
     "output_type": "stream",
     "text": [
      "1.5904630767969836\n"
     ]
    }
   ],
   "source": [
    "avg_m1 = np.mean(m1_scores)\n",
    "print(avg_m1)"
   ]
  }
 ],
 "metadata": {
  "kernelspec": {
   "display_name": "Python 3 (ipykernel)",
   "language": "python",
   "name": "python3"
  },
  "language_info": {
   "codemirror_mode": {
    "name": "ipython",
    "version": 3
   },
   "file_extension": ".py",
   "mimetype": "text/x-python",
   "name": "python",
   "nbconvert_exporter": "python",
   "pygments_lexer": "ipython3",
   "version": "3.9.7"
  }
 },
 "nbformat": 4,
 "nbformat_minor": 5
}
