{
 "cells": [
  {
   "cell_type": "markdown",
   "id": "622d6456-0b57-4071-b6c6-f6ede8c7fab3",
   "metadata": {
    "tags": []
   },
   "source": [
    "### Assignment 6\n",
    "\n",
    "**Deadline: 4/22/2024 before midnight**"
   ]
  },
  {
   "cell_type": "markdown",
   "id": "d58df792-9a9d-4735-94dd-43a81e15b58d",
   "metadata": {},
   "source": [
    "YOUR NAME:Nitya Kanthi Nadimpalli"
   ]
  },
  {
   "cell_type": "markdown",
   "id": "440b3015-8ec9-4921-bd00-3c8fb1332907",
   "metadata": {},
   "source": [
    "---\n",
    "In this assignment, we analyze the diabetes dataset to predict the onset of diabetes based on diagnostic measures. We employ machine learning models, specifically K-nearest neighbors (KNN) and a dummy classifier, to evaluate their performance."
   ]
  },
  {
   "cell_type": "code",
   "execution_count": 109,
   "id": "8eac166f-fdc9-4027-a158-05cdb3aa8a7d",
   "metadata": {},
   "outputs": [],
   "source": [
    "import warnings\n",
    "warnings.filterwarnings('ignore')"
   ]
  },
  {
   "cell_type": "code",
   "execution_count": 110,
   "id": "decf501e-2f34-4246-a5ec-7cf65836e601",
   "metadata": {},
   "outputs": [
    {
     "data": {
      "text/html": [
       "<div>\n",
       "<style scoped>\n",
       "    .dataframe tbody tr th:only-of-type {\n",
       "        vertical-align: middle;\n",
       "    }\n",
       "\n",
       "    .dataframe tbody tr th {\n",
       "        vertical-align: top;\n",
       "    }\n",
       "\n",
       "    .dataframe thead th {\n",
       "        text-align: right;\n",
       "    }\n",
       "</style>\n",
       "<table border=\"1\" class=\"dataframe\">\n",
       "  <thead>\n",
       "    <tr style=\"text-align: right;\">\n",
       "      <th></th>\n",
       "      <th>Pregnancies</th>\n",
       "      <th>Glucose</th>\n",
       "      <th>BloodPressure</th>\n",
       "      <th>SkinThickness</th>\n",
       "      <th>Insulin</th>\n",
       "      <th>BMI</th>\n",
       "      <th>DiabetesPedigreeFunction</th>\n",
       "      <th>Age</th>\n",
       "      <th>Outcome</th>\n",
       "    </tr>\n",
       "  </thead>\n",
       "  <tbody>\n",
       "    <tr>\n",
       "      <th>744</th>\n",
       "      <td>13</td>\n",
       "      <td>153</td>\n",
       "      <td>88</td>\n",
       "      <td>37</td>\n",
       "      <td>140</td>\n",
       "      <td>40.6</td>\n",
       "      <td>1.174</td>\n",
       "      <td>39</td>\n",
       "      <td>0</td>\n",
       "    </tr>\n",
       "    <tr>\n",
       "      <th>533</th>\n",
       "      <td>6</td>\n",
       "      <td>91</td>\n",
       "      <td>0</td>\n",
       "      <td>0</td>\n",
       "      <td>0</td>\n",
       "      <td>29.8</td>\n",
       "      <td>0.501</td>\n",
       "      <td>31</td>\n",
       "      <td>0</td>\n",
       "    </tr>\n",
       "    <tr>\n",
       "      <th>96</th>\n",
       "      <td>2</td>\n",
       "      <td>92</td>\n",
       "      <td>62</td>\n",
       "      <td>28</td>\n",
       "      <td>0</td>\n",
       "      <td>31.6</td>\n",
       "      <td>0.130</td>\n",
       "      <td>24</td>\n",
       "      <td>0</td>\n",
       "    </tr>\n",
       "  </tbody>\n",
       "</table>\n",
       "</div>"
      ],
      "text/plain": [
       "     Pregnancies  Glucose  BloodPressure  SkinThickness  Insulin   BMI  \\\n",
       "744           13      153             88             37      140  40.6   \n",
       "533            6       91              0              0        0  29.8   \n",
       "96             2       92             62             28        0  31.6   \n",
       "\n",
       "     DiabetesPedigreeFunction  Age  Outcome  \n",
       "744                     1.174   39        0  \n",
       "533                     0.501   31        0  \n",
       "96                      0.130   24        0  "
      ]
     },
     "execution_count": 110,
     "metadata": {},
     "output_type": "execute_result"
    }
   ],
   "source": [
    "import pandas\n",
    "diabetes = pandas.read_csv('../Datasets/diabetes.csv')\n",
    "diabetes.sample(3)"
   ]
  },
  {
   "cell_type": "markdown",
   "id": "319df09e-5c47-406b-be11-814e8b96856d",
   "metadata": {},
   "source": [
    "---\n",
    "**Problem 1**\n",
    "\n",
    "Construct a KNN classifier with 7 nearest neighbors. to predict the Outcome of the dataset.\n",
    "\n",
    "To predict the Outcome variable, use all of the othe variables as features.  \n",
    "\n",
    "Features must be standardized before training the KNN model because distance-based algorithms are sensitive to the scale of the data.\n",
    "\n",
    "Use the `train_test_split` method with a `random_state` of 1234, allocating 97% of the data for training and 3% for testing."
   ]
  },
  {
   "cell_type": "code",
   "execution_count": 111,
   "id": "9046878f-825d-475c-a619-3541107a4131",
   "metadata": {},
   "outputs": [],
   "source": [
    "y = diabetes['Outcome']\n",
    "X = diabetes.drop(columns=['Outcome'])"
   ]
  },
  {
   "cell_type": "code",
   "execution_count": 112,
   "id": "3efc7683-3834-4d57-b189-ee4a979be689",
   "metadata": {},
   "outputs": [
    {
     "data": {
      "text/plain": [
       "Pregnancies                 0\n",
       "Glucose                     0\n",
       "BloodPressure               0\n",
       "SkinThickness               0\n",
       "Insulin                     0\n",
       "BMI                         0\n",
       "DiabetesPedigreeFunction    0\n",
       "Age                         0\n",
       "dtype: int64"
      ]
     },
     "execution_count": 112,
     "metadata": {},
     "output_type": "execute_result"
    }
   ],
   "source": [
    "X.isna().sum()"
   ]
  },
  {
   "cell_type": "code",
   "execution_count": 113,
   "id": "88b9136c-092d-416a-ab30-c7bf9cfec5c0",
   "metadata": {},
   "outputs": [
    {
     "data": {
      "text/plain": [
       "Pregnancies                  0.000\n",
       "Glucose                      0.000\n",
       "BloodPressure                0.000\n",
       "SkinThickness                0.000\n",
       "Insulin                      0.000\n",
       "BMI                          0.000\n",
       "DiabetesPedigreeFunction     0.078\n",
       "Age                         21.000\n",
       "dtype: float64"
      ]
     },
     "execution_count": 113,
     "metadata": {},
     "output_type": "execute_result"
    }
   ],
   "source": [
    "X.min()"
   ]
  },
  {
   "cell_type": "code",
   "execution_count": 114,
   "id": "36232df8-082d-40c4-94d9-7fc433da8596",
   "metadata": {},
   "outputs": [
    {
     "data": {
      "text/plain": [
       "729"
      ]
     },
     "execution_count": 114,
     "metadata": {},
     "output_type": "execute_result"
    }
   ],
   "source": [
    "Q = diabetes['BMI']>0\n",
    "Q &= diabetes['BloodPressure']>0\n",
    "df = diabetes[Q]\n",
    "len(df)"
   ]
  },
  {
   "cell_type": "code",
   "execution_count": 115,
   "id": "93b7c699-34bb-4bb5-be67-2de7fbed1fad",
   "metadata": {},
   "outputs": [
    {
     "data": {
      "text/plain": [
       "Index([255, 100, 539,  25, 179, 748, 584, 515,  15, 264,\n",
       "       ...\n",
       "       425, 213, 187, 761, 171, 561, 355, 339,  17, 375],\n",
       "      dtype='int64', length=250)"
      ]
     },
     "execution_count": 115,
     "metadata": {},
     "output_type": "execute_result"
    }
   ],
   "source": [
    "idx = diabetes[diabetes['Outcome']==1].sample(250).index\n",
    "idx"
   ]
  },
  {
   "cell_type": "code",
   "execution_count": 116,
   "id": "706a9ed5-e149-43fe-ba0e-a84da5465460",
   "metadata": {},
   "outputs": [
    {
     "data": {
      "text/plain": [
       "518"
      ]
     },
     "execution_count": 116,
     "metadata": {},
     "output_type": "execute_result"
    }
   ],
   "source": [
    "diabetes2 = diabetes[ ~diabetes.index.isin(idx)]\n",
    "len(diabetes2)"
   ]
  },
  {
   "cell_type": "code",
   "execution_count": 117,
   "id": "b6083615-042e-40c3-8ac7-1fa6951c44c3",
   "metadata": {},
   "outputs": [
    {
     "data": {
      "text/plain": [
       "Outcome\n",
       "0    0.965251\n",
       "1    0.034749\n",
       "Name: proportion, dtype: float64"
      ]
     },
     "execution_count": 117,
     "metadata": {},
     "output_type": "execute_result"
    }
   ],
   "source": [
    "diabetes2['Outcome'].value_counts(1)"
   ]
  },
  {
   "cell_type": "code",
   "execution_count": 134,
   "id": "e30071a3-0e6e-4aec-87b4-6ad23f803e76",
   "metadata": {},
   "outputs": [
    {
     "data": {
      "text/html": [
       "<div>\n",
       "<style scoped>\n",
       "    .dataframe tbody tr th:only-of-type {\n",
       "        vertical-align: middle;\n",
       "    }\n",
       "\n",
       "    .dataframe tbody tr th {\n",
       "        vertical-align: top;\n",
       "    }\n",
       "\n",
       "    .dataframe thead th {\n",
       "        text-align: right;\n",
       "    }\n",
       "</style>\n",
       "<table border=\"1\" class=\"dataframe\">\n",
       "  <thead>\n",
       "    <tr style=\"text-align: right;\">\n",
       "      <th></th>\n",
       "      <th>Pregnancies</th>\n",
       "      <th>Glucose</th>\n",
       "      <th>BloodPressure</th>\n",
       "      <th>SkinThickness</th>\n",
       "      <th>Insulin</th>\n",
       "      <th>BMI</th>\n",
       "      <th>DiabetesPedigreeFunction</th>\n",
       "      <th>Age</th>\n",
       "    </tr>\n",
       "  </thead>\n",
       "  <tbody>\n",
       "    <tr>\n",
       "      <th>183</th>\n",
       "      <td>-1.101833</td>\n",
       "      <td>-0.270154</td>\n",
       "      <td>-0.228387</td>\n",
       "      <td>0.228762</td>\n",
       "      <td>0.471171</td>\n",
       "      <td>-0.338613</td>\n",
       "      <td>0.057939</td>\n",
       "      <td>-0.7225</td>\n",
       "    </tr>\n",
       "    <tr>\n",
       "      <th>439</th>\n",
       "      <td>0.200505</td>\n",
       "      <td>-0.781417</td>\n",
       "      <td>-3.714343</td>\n",
       "      <td>-1.309314</td>\n",
       "      <td>-0.690050</td>\n",
       "      <td>-0.312408</td>\n",
       "      <td>0.576192</td>\n",
       "      <td>-0.0425</td>\n",
       "    </tr>\n",
       "    <tr>\n",
       "      <th>92</th>\n",
       "      <td>-0.125080</td>\n",
       "      <td>0.606296</td>\n",
       "      <td>0.534166</td>\n",
       "      <td>-1.309314</td>\n",
       "      <td>-0.690050</td>\n",
       "      <td>-1.216472</td>\n",
       "      <td>-0.559979</td>\n",
       "      <td>1.9975</td>\n",
       "    </tr>\n",
       "  </tbody>\n",
       "</table>\n",
       "</div>"
      ],
      "text/plain": [
       "     Pregnancies   Glucose  BloodPressure  SkinThickness   Insulin       BMI  \\\n",
       "183    -1.101833 -0.270154      -0.228387       0.228762  0.471171 -0.338613   \n",
       "439     0.200505 -0.781417      -3.714343      -1.309314 -0.690050 -0.312408   \n",
       "92     -0.125080  0.606296       0.534166      -1.309314 -0.690050 -1.216472   \n",
       "\n",
       "     DiabetesPedigreeFunction     Age  \n",
       "183                  0.057939 -0.7225  \n",
       "439                  0.576192 -0.0425  \n",
       "92                  -0.559979  1.9975  "
      ]
     },
     "execution_count": 134,
     "metadata": {},
     "output_type": "execute_result"
    }
   ],
   "source": [
    "from sklearn.preprocessing import StandardScaler\n",
    "\n",
    "df = diabetes2\n",
    "y = df['Outcome']\n",
    "X = df.drop(columns=['Outcome'])\n",
    "X = pandas.DataFrame(\n",
    "    data = StandardScaler().fit_transform(X),\n",
    "    columns = X.columns,\n",
    ")\n",
    "X.sample(3)"
   ]
  },
  {
   "cell_type": "code",
   "execution_count": 135,
   "id": "c3d05b2e-1a1b-43e8-a92e-b32536821585",
   "metadata": {},
   "outputs": [],
   "source": [
    "from sklearn.model_selection import ShuffleSplit\n",
    "from sklearn.metrics import accuracy_score\n",
    "from sklearn.dummy import DummyClassifier\n",
    "\n",
    "from sklearn.model_selection import cross_validate"
   ]
  },
  {
   "cell_type": "code",
   "execution_count": 136,
   "id": "7120bd4f-6394-45b4-8506-85d562991b32",
   "metadata": {},
   "outputs": [],
   "source": [
    "from sklearn.preprocessing import StandardScaler\n",
    "\n",
    "y = df['Outcome']\n",
    "X = df.drop(columns=['Outcome'])\n",
    "X = pandas.DataFrame(\n",
    "    data = StandardScaler().fit_transform(X),\n",
    "    columns = X.columns,\n",
    ")\n",
    "\n",
    "from sklearn.neighbors import KNeighborsClassifier\n",
    "model = KNeighborsClassifier(n_neighbors=7)\n",
    "baseline = DummyClassifier()\n",
    "\n",
    "validator = ShuffleSplit(n_splits=100, test_size=0.03)\n",
    "\n",
    "result = cross_validate(model, X, y, cv=validator, scoring=['accuracy'])\n",
    "\n",
    "baseline_result = cross_validate(baseline, X, y, cv=validator, scoring=['accuracy'])"
   ]
  },
  {
   "cell_type": "code",
   "execution_count": 137,
   "id": "19d620b7-fce9-434f-949f-1da875756d6f",
   "metadata": {},
   "outputs": [
    {
     "data": {
      "text/plain": [
       "0.96"
      ]
     },
     "execution_count": 137,
     "metadata": {},
     "output_type": "execute_result"
    }
   ],
   "source": [
    "result['test_accuracy'].mean().round(2)"
   ]
  },
  {
   "cell_type": "code",
   "execution_count": 138,
   "id": "09022358-f1e5-466a-af06-485fe77269d6",
   "metadata": {},
   "outputs": [
    {
     "data": {
      "text/plain": [
       "0.97"
      ]
     },
     "execution_count": 138,
     "metadata": {},
     "output_type": "execute_result"
    }
   ],
   "source": [
    "baseline_result['test_accuracy'].mean().round(2)"
   ]
  },
  {
   "cell_type": "code",
   "execution_count": 139,
   "id": "17c9ab16-f2c5-4b1a-b065-b43c948677de",
   "metadata": {},
   "outputs": [
    {
     "data": {
      "text/plain": [
       "Outcome\n",
       "0    500\n",
       "1     18\n",
       "Name: count, dtype: int64"
      ]
     },
     "execution_count": 139,
     "metadata": {},
     "output_type": "execute_result"
    }
   ],
   "source": [
    "y.value_counts()"
   ]
  },
  {
   "cell_type": "code",
   "execution_count": 140,
   "id": "795477f7-e967-4caf-bc18-d0b45d83159a",
   "metadata": {},
   "outputs": [
    {
     "data": {
      "text/plain": [
       "Outcome\n",
       "0    0.97\n",
       "1    0.03\n",
       "Name: proportion, dtype: float64"
      ]
     },
     "execution_count": 140,
     "metadata": {},
     "output_type": "execute_result"
    }
   ],
   "source": [
    "y.value_counts(1).round(2)"
   ]
  },
  {
   "cell_type": "code",
   "execution_count": 141,
   "id": "72977111-bb9f-41ca-b660-2f6fab4e7dde",
   "metadata": {},
   "outputs": [
    {
     "data": {
      "text/plain": [
       "0.75"
      ]
     },
     "execution_count": 141,
     "metadata": {},
     "output_type": "execute_result"
    }
   ],
   "source": [
    "df = diabetes\n",
    "y = df['Outcome']\n",
    "X = df.drop(columns=['Outcome'])\n",
    "X = pandas.DataFrame(\n",
    "    data = StandardScaler().fit_transform(X),\n",
    "    columns = X.columns,\n",
    ")\n",
    "result = cross_validate(model, X, y, cv=validator, scoring=['accuracy'])\n",
    "result['test_accuracy'].mean().round(2)"
   ]
  },
  {
   "cell_type": "code",
   "execution_count": 142,
   "id": "964bf131-a64d-4381-b12c-a2c34d2fef1a",
   "metadata": {},
   "outputs": [],
   "source": [
    "from sklearn.model_selection import train_test_split\n",
    "X_train, X_test, y_train, y_test = train_test_split(X, y, test_size=0.03, random_state=1234)"
   ]
  },
  {
   "cell_type": "code",
   "execution_count": 143,
   "id": "1764886a-fefe-4bd8-9753-eb8cce80344f",
   "metadata": {},
   "outputs": [],
   "source": [
    "model.fit(X_train, y_train)\n",
    "predictions = model.predict(X_test)"
   ]
  },
  {
   "cell_type": "code",
   "execution_count": 144,
   "id": "27ecf71c-0d72-4991-bb86-44d138dfed93",
   "metadata": {},
   "outputs": [
    {
     "data": {
      "text/plain": [
       "array([0, 1, 0, 1, 0, 0, 0, 0, 0, 0, 1, 0, 1, 0, 0, 0, 1, 0, 0, 1, 1, 0,\n",
       "       0, 1])"
      ]
     },
     "execution_count": 144,
     "metadata": {},
     "output_type": "execute_result"
    }
   ],
   "source": [
    "predictions"
   ]
  },
  {
   "cell_type": "code",
   "execution_count": 145,
   "id": "73111975-3b7a-43d3-b5ae-d49286f08f80",
   "metadata": {},
   "outputs": [
    {
     "data": {
      "text/plain": [
       "array([0, 0, 1, 1, 0, 0, 0, 0, 1, 0, 1, 0, 0, 0, 0, 0, 1, 1, 0, 1, 1, 1,\n",
       "       0, 1])"
      ]
     },
     "execution_count": 145,
     "metadata": {},
     "output_type": "execute_result"
    }
   ],
   "source": [
    "y_test.values"
   ]
  },
  {
   "cell_type": "markdown",
   "id": "aaef76cf-98e6-4f6e-a657-3529ac1cf25d",
   "metadata": {},
   "source": [
    "+ TP = 6\n",
    "+ FP = 2\n",
    "+ TN = 12\n",
    "+ FN = 4\n",
    "\n",
    "Accuracy = 18/24= 0.75\n",
    "\n",
    "Precision = 6/8 = 0.75\n",
    "\n",
    "Recall = 6/10 = 0.6\n"
   ]
  },
  {
   "cell_type": "markdown",
   "id": "93a1ec6d-3e41-4420-b2e1-867a9f4a60a8",
   "metadata": {},
   "source": [
    "---\n",
    "**Problem 2**\n",
    "\n",
    "Extract and display the features and target variable from the test set before standardization to analyze their distributions and characteristics.\n"
   ]
  },
  {
   "cell_type": "code",
   "execution_count": 146,
   "id": "a12ccc99-52a0-4453-8928-9563505e3d94",
   "metadata": {},
   "outputs": [],
   "source": [
    "import pandas as pd\n",
    "from sklearn.model_selection import train_test_split\n",
    "\n",
    "y = diabetes['Outcome']\n",
    "X = diabetes.drop(columns=['Outcome'])\n",
    "\n",
    "X_train, X_test, y_train, y_test = train_test_split(X, y, test_size=0.03, random_state=1234)"
   ]
  },
  {
   "cell_type": "code",
   "execution_count": 147,
   "id": "28872248-f0ef-42fc-a127-17eaacb91058",
   "metadata": {},
   "outputs": [
    {
     "data": {
      "text/html": [
       "<div>\n",
       "<style scoped>\n",
       "    .dataframe tbody tr th:only-of-type {\n",
       "        vertical-align: middle;\n",
       "    }\n",
       "\n",
       "    .dataframe tbody tr th {\n",
       "        vertical-align: top;\n",
       "    }\n",
       "\n",
       "    .dataframe thead th {\n",
       "        text-align: right;\n",
       "    }\n",
       "</style>\n",
       "<table border=\"1\" class=\"dataframe\">\n",
       "  <thead>\n",
       "    <tr style=\"text-align: right;\">\n",
       "      <th></th>\n",
       "      <th>BMI</th>\n",
       "      <th>Glucose</th>\n",
       "    </tr>\n",
       "  </thead>\n",
       "  <tbody>\n",
       "    <tr>\n",
       "      <th>200</th>\n",
       "      <td>31.0</td>\n",
       "      <td>113</td>\n",
       "    </tr>\n",
       "    <tr>\n",
       "      <th>40</th>\n",
       "      <td>34.0</td>\n",
       "      <td>180</td>\n",
       "    </tr>\n",
       "    <tr>\n",
       "      <th>630</th>\n",
       "      <td>27.4</td>\n",
       "      <td>114</td>\n",
       "    </tr>\n",
       "    <tr>\n",
       "      <th>356</th>\n",
       "      <td>33.3</td>\n",
       "      <td>125</td>\n",
       "    </tr>\n",
       "    <tr>\n",
       "      <th>305</th>\n",
       "      <td>39.7</td>\n",
       "      <td>120</td>\n",
       "    </tr>\n",
       "    <tr>\n",
       "      <th>267</th>\n",
       "      <td>40.0</td>\n",
       "      <td>128</td>\n",
       "    </tr>\n",
       "    <tr>\n",
       "      <th>351</th>\n",
       "      <td>31.2</td>\n",
       "      <td>137</td>\n",
       "    </tr>\n",
       "    <tr>\n",
       "      <th>644</th>\n",
       "      <td>27.6</td>\n",
       "      <td>103</td>\n",
       "    </tr>\n",
       "    <tr>\n",
       "      <th>759</th>\n",
       "      <td>35.5</td>\n",
       "      <td>190</td>\n",
       "    </tr>\n",
       "    <tr>\n",
       "      <th>157</th>\n",
       "      <td>25.2</td>\n",
       "      <td>109</td>\n",
       "    </tr>\n",
       "    <tr>\n",
       "      <th>606</th>\n",
       "      <td>40.0</td>\n",
       "      <td>181</td>\n",
       "    </tr>\n",
       "    <tr>\n",
       "      <th>449</th>\n",
       "      <td>30.5</td>\n",
       "      <td>120</td>\n",
       "    </tr>\n",
       "    <tr>\n",
       "      <th>473</th>\n",
       "      <td>29.9</td>\n",
       "      <td>136</td>\n",
       "    </tr>\n",
       "    <tr>\n",
       "      <th>461</th>\n",
       "      <td>21.8</td>\n",
       "      <td>71</td>\n",
       "    </tr>\n",
       "    <tr>\n",
       "      <th>169</th>\n",
       "      <td>28.4</td>\n",
       "      <td>111</td>\n",
       "    </tr>\n",
       "    <tr>\n",
       "      <th>718</th>\n",
       "      <td>35.5</td>\n",
       "      <td>108</td>\n",
       "    </tr>\n",
       "    <tr>\n",
       "      <th>230</th>\n",
       "      <td>44.0</td>\n",
       "      <td>142</td>\n",
       "    </tr>\n",
       "    <tr>\n",
       "      <th>666</th>\n",
       "      <td>32.5</td>\n",
       "      <td>145</td>\n",
       "    </tr>\n",
       "    <tr>\n",
       "      <th>234</th>\n",
       "      <td>29.7</td>\n",
       "      <td>74</td>\n",
       "    </tr>\n",
       "    <tr>\n",
       "      <th>539</th>\n",
       "      <td>36.4</td>\n",
       "      <td>129</td>\n",
       "    </tr>\n",
       "    <tr>\n",
       "      <th>100</th>\n",
       "      <td>39.0</td>\n",
       "      <td>163</td>\n",
       "    </tr>\n",
       "    <tr>\n",
       "      <th>693</th>\n",
       "      <td>38.5</td>\n",
       "      <td>129</td>\n",
       "    </tr>\n",
       "    <tr>\n",
       "      <th>534</th>\n",
       "      <td>33.3</td>\n",
       "      <td>77</td>\n",
       "    </tr>\n",
       "    <tr>\n",
       "      <th>131</th>\n",
       "      <td>33.3</td>\n",
       "      <td>122</td>\n",
       "    </tr>\n",
       "  </tbody>\n",
       "</table>\n",
       "</div>"
      ],
      "text/plain": [
       "      BMI  Glucose\n",
       "200  31.0      113\n",
       "40   34.0      180\n",
       "630  27.4      114\n",
       "356  33.3      125\n",
       "305  39.7      120\n",
       "267  40.0      128\n",
       "351  31.2      137\n",
       "644  27.6      103\n",
       "759  35.5      190\n",
       "157  25.2      109\n",
       "606  40.0      181\n",
       "449  30.5      120\n",
       "473  29.9      136\n",
       "461  21.8       71\n",
       "169  28.4      111\n",
       "718  35.5      108\n",
       "230  44.0      142\n",
       "666  32.5      145\n",
       "234  29.7       74\n",
       "539  36.4      129\n",
       "100  39.0      163\n",
       "693  38.5      129\n",
       "534  33.3       77\n",
       "131  33.3      122"
      ]
     },
     "execution_count": 147,
     "metadata": {},
     "output_type": "execute_result"
    }
   ],
   "source": [
    "X_test[['BMI','Glucose']]"
   ]
  },
  {
   "cell_type": "code",
   "execution_count": 148,
   "id": "2c0bfa61-feb6-46c5-91db-daf9e5755ee4",
   "metadata": {},
   "outputs": [
    {
     "data": {
      "text/plain": [
       "200    0\n",
       "40     0\n",
       "630    1\n",
       "356    1\n",
       "305    0\n",
       "267    0\n",
       "351    0\n",
       "644    0\n",
       "759    1\n",
       "157    0\n",
       "606    1\n",
       "449    0\n",
       "473    0\n",
       "461    0\n",
       "169    0\n",
       "718    0\n",
       "230    1\n",
       "666    1\n",
       "234    0\n",
       "539    1\n",
       "100    1\n",
       "693    1\n",
       "534    0\n",
       "131    1\n",
       "Name: Outcome, dtype: int64"
      ]
     },
     "execution_count": 148,
     "metadata": {},
     "output_type": "execute_result"
    }
   ],
   "source": [
    "y_test"
   ]
  },
  {
   "cell_type": "code",
   "execution_count": null,
   "id": "80b3215d-14a9-4601-93cb-413896dabea7",
   "metadata": {},
   "outputs": [],
   "source": []
  },
  {
   "cell_type": "markdown",
   "id": "ddadc1d7-bbdd-4a5f-bd9b-90daf7352a3a",
   "metadata": {},
   "source": [
    "---\n",
    "**Problem 3**\n",
    "\n",
    "Utilize the KNN model to predict the test set outcomes and display these predictions."
   ]
  },
  {
   "cell_type": "code",
   "execution_count": 149,
   "id": "9912a8c6-a0ba-4fdc-8b07-0d9a20872263",
   "metadata": {},
   "outputs": [],
   "source": [
    "y = diabetes['Outcome']\n",
    "X = diabetes.drop(columns=['Outcome'])\n",
    "\n",
    "X_train, X_test, y_train, y_test = train_test_split(X, y, test_size=0.03, random_state=1234)"
   ]
  },
  {
   "cell_type": "code",
   "execution_count": 150,
   "id": "7e72892d-f43a-430a-b5c9-805a55864b23",
   "metadata": {},
   "outputs": [],
   "source": [
    "scaler = StandardScaler()\n",
    "X_train_scaled = scaler.fit_transform(X_train)\n",
    "X_test_scaled = scaler.transform(X_test)"
   ]
  },
  {
   "cell_type": "code",
   "execution_count": 151,
   "id": "0eb9cc7a-1f20-429e-9536-46414d10b552",
   "metadata": {},
   "outputs": [],
   "source": [
    "from sklearn.neighbors import KNeighborsClassifier\n",
    "model = KNeighborsClassifier(n_neighbors=7)"
   ]
  },
  {
   "cell_type": "code",
   "execution_count": 152,
   "id": "942251df-34b8-43b5-96f6-b0f119fc6524",
   "metadata": {},
   "outputs": [],
   "source": [
    "model.fit(X_train_scaled, y_train)\n",
    "y_pred = model.predict(X_test_scaled)"
   ]
  },
  {
   "cell_type": "code",
   "execution_count": 153,
   "id": "4165dc80-90e8-49d5-89e8-f011d8071dea",
   "metadata": {},
   "outputs": [
    {
     "data": {
      "text/plain": [
       "array([0, 1, 0, 1, 0, 0, 0, 0, 0, 0, 1, 0, 1, 0, 0, 0, 1, 0, 0, 1, 1, 0,\n",
       "       0, 1])"
      ]
     },
     "execution_count": 153,
     "metadata": {},
     "output_type": "execute_result"
    }
   ],
   "source": [
    "y_pred"
   ]
  },
  {
   "cell_type": "code",
   "execution_count": 154,
   "id": "b8f0a89f-a40f-4c92-8a5a-24ac11c359e3",
   "metadata": {},
   "outputs": [
    {
     "data": {
      "text/plain": [
       "array([0, 0, 1, 1, 0, 0, 0, 0, 1, 0, 1, 0, 0, 0, 0, 0, 1, 1, 0, 1, 1, 1,\n",
       "       0, 1])"
      ]
     },
     "execution_count": 154,
     "metadata": {},
     "output_type": "execute_result"
    }
   ],
   "source": [
    "y_test.values"
   ]
  },
  {
   "cell_type": "code",
   "execution_count": null,
   "id": "8ec2b1c4-0db5-4327-917e-66138aa8377f",
   "metadata": {},
   "outputs": [],
   "source": []
  },
  {
   "cell_type": "markdown",
   "id": "57d19949-3198-4cf9-9760-373bdc4a405a",
   "metadata": {},
   "source": [
    "---\n",
    "**Problem 4**\n",
    "\n",
    "What does this function do?  Explain using predictions of the test data obtained in Problem 1.\n",
    "\n",
    "```python\n",
    "def get_posneg_indices( predictions ):\n",
    "    pidx = [ i for i in range(len(predictions)) if predictions[i]==1 ]\n",
    "    nidx = [ i for i in range(len(predictions)) if predictions[i]==0 ]\n",
    "    return pidx, nidx\n",
    "```"
   ]
  },
  {
   "cell_type": "markdown",
   "id": "055324fe-0e27-409b-96e7-f50330ad440c",
   "metadata": {},
   "source": [
    "### Answer:\n",
    "\n",
    "+ The menthod \"get_posneg_indices(predictions)\" is having two groups: \n",
    "  + Indices with prediction is 1 is listed under pidx\n",
    "  + And indices with prediction is 0 is listed under nidx\n",
    "\n",
    "+ It iterates through the predictions, sorting the indices based on whether the outcome is positive or negative, and then returns both lists of indices."
   ]
  },
  {
   "cell_type": "markdown",
   "id": "e6a155ac-1adf-4882-89f3-96a25f273579",
   "metadata": {},
   "source": [
    "---\n",
    "**Problem 5**\n",
    "\n",
    "Use `get_posneg_indices` to calculate the number of true positives, false postives, true negatives, and false negatives, when the KNN model in Problem 1 makes predictions with the testing data in Problem 1."
   ]
  },
  {
   "cell_type": "code",
   "execution_count": 155,
   "id": "7c59752d-9e5e-435e-bd39-347006310171",
   "metadata": {},
   "outputs": [],
   "source": [
    "predictions = model.predict(X_test)\n",
    "\n",
    "def get_posneg_indices(predictions):\n",
    "    pidx = [i for i in range(len(predictions)) if predictions[i] == 1]\n",
    "    nidx = [i for i in range(len(predictions)) if predictions[i] == 0]\n",
    "    return pidx, nidx"
   ]
  },
  {
   "cell_type": "code",
   "execution_count": 156,
   "id": "99675252-be51-4745-90af-e65adbcff8df",
   "metadata": {},
   "outputs": [
    {
     "data": {
      "text/plain": [
       "([0,\n",
       "  1,\n",
       "  2,\n",
       "  3,\n",
       "  4,\n",
       "  5,\n",
       "  6,\n",
       "  7,\n",
       "  8,\n",
       "  9,\n",
       "  10,\n",
       "  11,\n",
       "  12,\n",
       "  13,\n",
       "  14,\n",
       "  15,\n",
       "  16,\n",
       "  17,\n",
       "  18,\n",
       "  19,\n",
       "  20,\n",
       "  21,\n",
       "  22,\n",
       "  23],\n",
       " [])"
      ]
     },
     "execution_count": 156,
     "metadata": {},
     "output_type": "execute_result"
    }
   ],
   "source": [
    "get_posneg_indices(predictions)"
   ]
  },
  {
   "cell_type": "code",
   "execution_count": 157,
   "id": "f42e96f7-cf49-40f3-9d4c-2a324cd889c9",
   "metadata": {},
   "outputs": [],
   "source": [
    "tp = sum(y_test.iloc[idx] == 1 for idx in positive_idx)\n",
    "fp = sum(y_test.iloc[idx] == 0 for idx in positive_idx)\n",
    "tn = sum(y_test.iloc[idx] == 0 for idx in negative_idx)\n",
    "fn = sum(y_test.iloc[idx] == 1 for idx in negative_idx)"
   ]
  },
  {
   "cell_type": "code",
   "execution_count": 158,
   "id": "802b69a9-de23-430d-8e18-018aa5a16e7b",
   "metadata": {},
   "outputs": [
    {
     "data": {
      "text/plain": [
       "10"
      ]
     },
     "execution_count": 158,
     "metadata": {},
     "output_type": "execute_result"
    }
   ],
   "source": [
    "tp"
   ]
  },
  {
   "cell_type": "code",
   "execution_count": 159,
   "id": "72687901-4a09-4e1f-bf4c-d8a807127eb5",
   "metadata": {},
   "outputs": [
    {
     "data": {
      "text/plain": [
       "14"
      ]
     },
     "execution_count": 159,
     "metadata": {},
     "output_type": "execute_result"
    }
   ],
   "source": [
    "fp"
   ]
  },
  {
   "cell_type": "code",
   "execution_count": 160,
   "id": "3f4adec4-3be1-4bc8-8071-f56be9e931c6",
   "metadata": {},
   "outputs": [
    {
     "data": {
      "text/plain": [
       "0"
      ]
     },
     "execution_count": 160,
     "metadata": {},
     "output_type": "execute_result"
    }
   ],
   "source": [
    "tn"
   ]
  },
  {
   "cell_type": "code",
   "execution_count": 161,
   "id": "a85fc7df-4dfa-4f4b-9b2e-2df5d0b79253",
   "metadata": {},
   "outputs": [
    {
     "data": {
      "text/plain": [
       "0"
      ]
     },
     "execution_count": 161,
     "metadata": {},
     "output_type": "execute_result"
    }
   ],
   "source": [
    "fn"
   ]
  },
  {
   "cell_type": "code",
   "execution_count": null,
   "id": "26a745fe-b6de-44b1-aeee-efb62e2c4950",
   "metadata": {},
   "outputs": [],
   "source": []
  },
  {
   "cell_type": "code",
   "execution_count": null,
   "id": "f938afc0-1851-4f3b-a12f-321b0d1f5bc0",
   "metadata": {},
   "outputs": [],
   "source": []
  },
  {
   "cell_type": "markdown",
   "id": "f647e94d-755d-4987-900a-f4fae79ac860",
   "metadata": {},
   "source": [
    "---\n",
    "**Problem 6**\n",
    "\n",
    "Calculate and report the accuracy, precision, and recall of the KNN model using the predictions and actual outcomes of the test data. These metrics are crucial for understanding the effectiveness of the model in predicting diabetes onset."
   ]
  },
  {
   "cell_type": "markdown",
   "id": "8c59fa4f-4c43-45ee-b7ac-469a3917e9c0",
   "metadata": {},
   "source": [
    "```\n",
    " Accuracy = total correct predictions / total predictions\n",
    "             = (TP + TN) / (TP + FP + TN + FN)\n",
    "\n",
    "Accuracy = 10/24\n",
    "\n",
    "\n",
    "Precision = TP / (TP + FP)\n",
    "Recall = TP / (TP + FN)\n",
    "\n",
    "\n",
    "\n",
    "Precision = 10/24\n",
    "\n",
    "Recall = 10/10\n",
    "\n",
    "```"
   ]
  },
  {
   "cell_type": "markdown",
   "id": "0158f7a4-e530-4bc3-8e9b-bbc89a80e24e",
   "metadata": {},
   "source": [
    "---\n",
    "**Problem 7**\n",
    "\n",
    "Cnstruct a dummy classifier using the `stratified` strategy.  How many positives and negatives, do you expect this model predicts?  How many positives and negatives, does it actually predict?\n",
    "\n",
    "Similar to `DummyRegressor` we previously learned, `DummyClassifier` in scikit-learn is a simple algorithm used as a baseline for comparison with more sophisticated machine learning models. When the `strategy` parameter is set to `\"stratified\"`, the `DummyClassifier` predicts outputs based on the training set's class distribution. \n",
    "\n",
    "This means that it generates predictions by randomly choosing a class according to the observed frequency of each class in the training data. For example, if 20% of the training samples belong to Class A and 80% to Class B, the stratified `DummyClassifier` will predict Class A approximately 20% of the time and Class B approximately 80% of the time. This approach reflects the inherent class probabilities of the dataset, providing a baseline that indicates the performance of a purely random classification model respecting the original class distribution.\n",
    "\n",
    "https://scikit-learn.org/stable/modules/generated/sklearn.dummy.DummyClassifier.html\n"
   ]
  },
  {
   "cell_type": "code",
   "execution_count": 60,
   "id": "d0cb1f4d-9d66-42f8-9428-7249eca648d4",
   "metadata": {},
   "outputs": [],
   "source": [
    "from sklearn.dummy import DummyClassifier\n",
    "\n",
    "dummy_clf = DummyClassifier(strategy=\"stratified\", random_state=1234)\n",
    "\n",
    "dummy_clf.fit(X_train, y_train)\n",
    "\n",
    "dummy_predictions = dummy_clf.predict(X_test)\n",
    "\n",
    "class_distribution = y_train.value_counts(normalize=True)\n",
    "exptd_positives = class_distribution[1] * len(X_test)\n",
    "exptd_negatives = class_distribution[0] * len(X_test)\n",
    "\n",
    "actual_positives = sum(dummy_predictions == 1)\n",
    "actual_negatives = sum(dummy_predictions == 0)"
   ]
  },
  {
   "cell_type": "code",
   "execution_count": 61,
   "id": "04c002d6-ee65-4ee7-9f66-aad52e417ae3",
   "metadata": {},
   "outputs": [
    {
     "data": {
      "text/plain": [
       "8.322580645161292"
      ]
     },
     "execution_count": 163,
     "metadata": {},
     "output_type": "execute_result"
    }
   ],
   "source": [
    "exptd_positives"
   ]
  },
  {
   "cell_type": "code",
   "execution_count": 62,
   "id": "5c54b043-87bf-4ac9-b4bf-9d82fd51866c",
   "metadata": {},
   "outputs": [
    {
     "data": {
      "text/plain": [
       "15.677419354838708"
      ]
     },
     "execution_count": 164,
     "metadata": {},
     "output_type": "execute_result"
    }
   ],
   "source": [
    "exptd_negatives"
   ]
  },
  {
   "cell_type": "code",
   "execution_count": 63,
   "id": "1a6b5d3e-31c1-4ddd-bbdb-490a9c2dff3b",
   "metadata": {},
   "outputs": [
    {
     "data": {
      "text/plain": [
       "9"
      ]
     },
     "execution_count": 165,
     "metadata": {},
     "output_type": "execute_result"
    }
   ],
   "source": [
    "actual_positives"
   ]
  },
  {
   "cell_type": "code",
   "execution_count": 64,
   "id": "7207dc29-f8b4-43c9-b287-3d086a3464be",
   "metadata": {},
   "outputs": [
    {
     "data": {
      "text/plain": [
       "15"
      ]
     },
     "execution_count": 166,
     "metadata": {},
     "output_type": "execute_result"
    }
   ],
   "source": [
    "actual_negatives"
   ]
  },
  {
   "cell_type": "code",
   "execution_count": null,
   "id": "8d79bac1-5af8-4d0b-b052-ed2ae4d1145d",
   "metadata": {},
   "outputs": [],
   "source": []
  },
  {
   "cell_type": "markdown",
   "id": "7e240400-4fab-4c11-9a87-cd95b6c265f6",
   "metadata": {},
   "source": [
    "---\n",
    "**Problem 8**\n",
    "\n",
    "Calculate the number of true positives, false positives, true negatives, and false negatives for the dummy classifier, using the same test data as the KNN model."
   ]
  },
  {
   "cell_type": "code",
   "execution_count": 65,
   "id": "0420fb2c-e886-41e4-8ed3-a0facf19d0c6",
   "metadata": {},
   "outputs": [],
   "source": [
    "tp_dummy = sum((y_test == 1) & (dummy_predictions == 1))\n",
    "fp_dummy = sum((y_test == 0) & (dummy_predictions == 1))\n",
    "tn_dummy = sum((y_test == 0) & (dummy_predictions == 0))\n",
    "fn_dummy = sum((y_test == 1) & (dummy_predictions == 0))"
   ]
  },
  {
   "cell_type": "code",
   "execution_count": 66,
   "id": "ff2df94c-eb25-4238-8654-d5dc1a4b7335",
   "metadata": {},
   "outputs": [
    {
     "data": {
      "text/plain": [
       "3"
      ]
     },
     "execution_count": 168,
     "metadata": {},
     "output_type": "execute_result"
    }
   ],
   "source": [
    "tp_dummy"
   ]
  },
  {
   "cell_type": "code",
   "execution_count": 67,
   "id": "e742ad08-5f63-49e6-b972-1c6728617e2d",
   "metadata": {},
   "outputs": [
    {
     "data": {
      "text/plain": [
       "6"
      ]
     },
     "execution_count": 169,
     "metadata": {},
     "output_type": "execute_result"
    }
   ],
   "source": [
    "fp_dummy"
   ]
  },
  {
   "cell_type": "code",
   "execution_count": 68,
   "id": "1daff34a-4495-4518-8c5b-00ed9d8e9306",
   "metadata": {},
   "outputs": [
    {
     "data": {
      "text/plain": [
       "8"
      ]
     },
     "execution_count": 170,
     "metadata": {},
     "output_type": "execute_result"
    }
   ],
   "source": [
    "tn_dummy"
   ]
  },
  {
   "cell_type": "code",
   "execution_count": 69,
   "id": "7ae9ece3-a4bd-43cb-8083-a4e8beaaf86b",
   "metadata": {},
   "outputs": [
    {
     "data": {
      "text/plain": [
       "7"
      ]
     },
     "execution_count": 171,
     "metadata": {},
     "output_type": "execute_result"
    }
   ],
   "source": [
    "fn_dummy"
   ]
  },
  {
   "cell_type": "markdown",
   "id": "64a6e2c5-2e96-44f1-9c15-849fea763025",
   "metadata": {},
   "source": [
    "---\n",
    "**Problem 9**\n",
    "\n",
    "Compute the accuracy, precision, and recall for the dummy classifier to evaluate its performance relative to random guessing based on the class distribution in the training data."
   ]
  },
  {
   "cell_type": "markdown",
   "id": "5dae6666-d815-4006-8dff-b76a86fa4266",
   "metadata": {},
   "source": [
    "```\n",
    " Accuracy = total correct predictions / total predictions\n",
    "             = (TP + TN) / (TP + FP + TN + FN)\n",
    "\n",
    "Accuracy = 11/24\n",
    "\n",
    "\n",
    "Precision = TP / (TP + FP)\n",
    "Recall = TP / (TP + FN)\n",
    "\n",
    "\n",
    "\n",
    "Precision = 3/9\n",
    "\n",
    "Recall = 3/10\n",
    "\n",
    "```"
   ]
  },
  {
   "cell_type": "code",
   "execution_count": null,
   "id": "a817ca44-5bf7-449b-b26c-e1fee095eeba",
   "metadata": {},
   "outputs": [],
   "source": []
  },
  {
   "cell_type": "code",
   "execution_count": null,
   "id": "f636ef96-9e90-4c4b-9145-d699e0c7c2d2",
   "metadata": {},
   "outputs": [],
   "source": []
  },
  {
   "cell_type": "code",
   "execution_count": null,
   "id": "b7e3f8f2-2ba7-4318-9a92-a5243b410a73",
   "metadata": {},
   "outputs": [],
   "source": []
  },
  {
   "cell_type": "markdown",
   "id": "675bea24-b7a1-490a-8fd5-1ead301a613d",
   "metadata": {},
   "source": [
    "---\n",
    "**Problem 10**\n",
    "\n",
    "Conduct a comparative analysis of the KNN classifier and the dummy classifier with a stratified strategy. Discuss the following aspects:\n",
    "\n",
    "* Compare the accuracy of both classifiers to evaluate their overall effectiveness in predicting the correct outcomes.\n",
    "* Assess how precisely the classifiers make positive predictions and their ability to capture actual positive instances respectively.\n"
   ]
  },
  {
   "cell_type": "code",
   "execution_count": 173,
   "id": "1dc4105b-ee9f-421e-981b-16d717992296",
   "metadata": {},
   "outputs": [
    {
     "name": "stdout",
     "output_type": "stream",
     "text": [
      "KNN Classifier:\n",
      "Accuracy: 0.75\n",
      "Precision: 0.75\n",
      "Recall: 0.6\n",
      "\n",
      "Dummy Classifier:\n",
      "Accuracy: 0.4583333333333333\n",
      "Precision: 0.3333333333333333\n",
      "Recall: 0.3\n"
     ]
    }
   ],
   "source": [
    "scaler = StandardScaler()\n",
    "X_train_scaled = scaler.fit_transform(X_train)\n",
    "X_test_scaled = scaler.transform(X_test)\n",
    "\n",
    "knn_classifier = KNeighborsClassifier(n_neighbors=7)\n",
    "knn_classifier.fit(X_train_scaled, y_train)\n",
    "\n",
    "dummy_classifier = DummyClassifier(strategy='stratified', random_state=1234)\n",
    "dummy_classifier.fit(X_train_scaled, y_train)\n",
    "\n",
    "knn_predictions = knn_classifier.predict(X_test_scaled)\n",
    "dummy_predictions = dummy_classifier.predict(X_test_scaled)\n",
    "\n",
    "\n",
    "knn_accuracy = accuracy_score(y_test, knn_predictions)\n",
    "knn_precision = precision_score(y_test, knn_predictions)\n",
    "knn_recall = recall_score(y_test, knn_predictions)\n",
    "\n",
    "dummy_accuracy = accuracy_score(y_test, dummy_predictions)\n",
    "dummy_precision = precision_score(y_test, dummy_predictions, zero_division=0)\n",
    "dummy_recall = recall_score(y_test, dummy_predictions)\n",
    "\n",
    "print(\"KNN Classifier:\")\n",
    "print(f\"Accuracy: {knn_accuracy}\")\n",
    "print(f\"Precision: {knn_precision}\")\n",
    "print(f\"Recall: {knn_recall}\\n\")\n",
    "\n",
    "print(\"Dummy Classifier:\")\n",
    "print(f\"Accuracy: {dummy_accuracy}\")\n",
    "print(f\"Precision: {dummy_precision}\")\n",
    "print(f\"Recall: {dummy_recall}\")"
   ]
  },
  {
   "cell_type": "code",
   "execution_count": null,
   "id": "3f4bb7fc-d563-42b6-b2de-36f2941885c0",
   "metadata": {},
   "outputs": [],
   "source": []
  }
 ],
 "metadata": {
  "kernelspec": {
   "display_name": "Python 3 (ipykernel)",
   "language": "python",
   "name": "python3"
  },
  "language_info": {
   "codemirror_mode": {
    "name": "ipython",
    "version": 3
   },
   "file_extension": ".py",
   "mimetype": "text/x-python",
   "name": "python",
   "nbconvert_exporter": "python",
   "pygments_lexer": "ipython3",
   "version": "3.9.7"
  }
 },
 "nbformat": 4,
 "nbformat_minor": 5
}
