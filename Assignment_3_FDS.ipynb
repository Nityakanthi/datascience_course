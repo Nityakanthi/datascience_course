{
 "cells": [
  {
   "cell_type": "markdown",
   "id": "a27afb3a-2cc4-475c-a3f8-8ddd2c31c447",
   "metadata": {},
   "source": [
    "# COMP 7150 Assignment 3\n",
    "Due date: 03/25/2024, before midnight"
   ]
  },
  {
   "cell_type": "markdown",
   "id": "8084b056-4f61-4d0f-a091-1f26da99c211",
   "metadata": {},
   "source": [
    "**YOUR NAME**: Nitya Kanthi Nadimpalli\n",
    "\n",
    "----"
   ]
  },
  {
   "cell_type": "code",
   "execution_count": 121,
   "id": "8f4a2193-7829-4a37-96dc-f7be382a10b5",
   "metadata": {},
   "outputs": [],
   "source": [
    "import warnings\n",
    "warnings.filterwarnings('ignore')"
   ]
  },
  {
   "cell_type": "code",
   "execution_count": 122,
   "id": "503628f2-c8af-4473-845b-75462c7b8d94",
   "metadata": {},
   "outputs": [],
   "source": [
    "import pandas, seaborn\n",
    "from sklearn.cluster import KMeans\n",
    "from sklearn.preprocessing import StandardScaler"
   ]
  },
  {
   "cell_type": "code",
   "execution_count": 123,
   "id": "5eb41642-7d14-4ac6-aa8e-20a3d79e2d15",
   "metadata": {},
   "outputs": [],
   "source": [
    "df = pandas.read_csv('../Datasets/Mall_Customers.csv')"
   ]
  },
  {
   "cell_type": "markdown",
   "id": "26fa5ccd-89ed-4b92-8b8a-ea5d98d7158f",
   "metadata": {},
   "source": [
    "---\n",
    "**Problem 1**\n",
    "\n",
    "Create a KMeans model (use random state of 2024) based on Age, Annual Income, and Spending Score.  Rescale the features appropriately.\n",
    "\n",
    "Visualize the number of clusters (k) versus inertia, and visually identify the below.\n"
   ]
  },
  {
   "cell_type": "code",
   "execution_count": 124,
   "id": "96988f84-9560-464a-9136-80eeb00bf924",
   "metadata": {},
   "outputs": [],
   "source": [
    "from sklearn.cluster import KMeans\n",
    "from sklearn.metrics import silhouette_score"
   ]
  },
  {
   "cell_type": "code",
   "execution_count": 125,
   "id": "a7439265-2efc-489f-8395-42d8a0f0b524",
   "metadata": {},
   "outputs": [
    {
     "data": {
      "text/html": [
       "<style>#sk-container-id-6 {color: black;background-color: white;}#sk-container-id-6 pre{padding: 0;}#sk-container-id-6 div.sk-toggleable {background-color: white;}#sk-container-id-6 label.sk-toggleable__label {cursor: pointer;display: block;width: 100%;margin-bottom: 0;padding: 0.3em;box-sizing: border-box;text-align: center;}#sk-container-id-6 label.sk-toggleable__label-arrow:before {content: \"▸\";float: left;margin-right: 0.25em;color: #696969;}#sk-container-id-6 label.sk-toggleable__label-arrow:hover:before {color: black;}#sk-container-id-6 div.sk-estimator:hover label.sk-toggleable__label-arrow:before {color: black;}#sk-container-id-6 div.sk-toggleable__content {max-height: 0;max-width: 0;overflow: hidden;text-align: left;background-color: #f0f8ff;}#sk-container-id-6 div.sk-toggleable__content pre {margin: 0.2em;color: black;border-radius: 0.25em;background-color: #f0f8ff;}#sk-container-id-6 input.sk-toggleable__control:checked~div.sk-toggleable__content {max-height: 200px;max-width: 100%;overflow: auto;}#sk-container-id-6 input.sk-toggleable__control:checked~label.sk-toggleable__label-arrow:before {content: \"▾\";}#sk-container-id-6 div.sk-estimator input.sk-toggleable__control:checked~label.sk-toggleable__label {background-color: #d4ebff;}#sk-container-id-6 div.sk-label input.sk-toggleable__control:checked~label.sk-toggleable__label {background-color: #d4ebff;}#sk-container-id-6 input.sk-hidden--visually {border: 0;clip: rect(1px 1px 1px 1px);clip: rect(1px, 1px, 1px, 1px);height: 1px;margin: -1px;overflow: hidden;padding: 0;position: absolute;width: 1px;}#sk-container-id-6 div.sk-estimator {font-family: monospace;background-color: #f0f8ff;border: 1px dotted black;border-radius: 0.25em;box-sizing: border-box;margin-bottom: 0.5em;}#sk-container-id-6 div.sk-estimator:hover {background-color: #d4ebff;}#sk-container-id-6 div.sk-parallel-item::after {content: \"\";width: 100%;border-bottom: 1px solid gray;flex-grow: 1;}#sk-container-id-6 div.sk-label:hover label.sk-toggleable__label {background-color: #d4ebff;}#sk-container-id-6 div.sk-serial::before {content: \"\";position: absolute;border-left: 1px solid gray;box-sizing: border-box;top: 0;bottom: 0;left: 50%;z-index: 0;}#sk-container-id-6 div.sk-serial {display: flex;flex-direction: column;align-items: center;background-color: white;padding-right: 0.2em;padding-left: 0.2em;position: relative;}#sk-container-id-6 div.sk-item {position: relative;z-index: 1;}#sk-container-id-6 div.sk-parallel {display: flex;align-items: stretch;justify-content: center;background-color: white;position: relative;}#sk-container-id-6 div.sk-item::before, #sk-container-id-6 div.sk-parallel-item::before {content: \"\";position: absolute;border-left: 1px solid gray;box-sizing: border-box;top: 0;bottom: 0;left: 50%;z-index: -1;}#sk-container-id-6 div.sk-parallel-item {display: flex;flex-direction: column;z-index: 1;position: relative;background-color: white;}#sk-container-id-6 div.sk-parallel-item:first-child::after {align-self: flex-end;width: 50%;}#sk-container-id-6 div.sk-parallel-item:last-child::after {align-self: flex-start;width: 50%;}#sk-container-id-6 div.sk-parallel-item:only-child::after {width: 0;}#sk-container-id-6 div.sk-dashed-wrapped {border: 1px dashed gray;margin: 0 0.4em 0.5em 0.4em;box-sizing: border-box;padding-bottom: 0.4em;background-color: white;}#sk-container-id-6 div.sk-label label {font-family: monospace;font-weight: bold;display: inline-block;line-height: 1.2em;}#sk-container-id-6 div.sk-label-container {text-align: center;}#sk-container-id-6 div.sk-container {/* jupyter's `normalize.less` sets `[hidden] { display: none; }` but bootstrap.min.css set `[hidden] { display: none !important; }` so we also need the `!important` here to be able to override the default hidden behavior on the sphinx rendered scikit-learn.org. See: https://github.com/scikit-learn/scikit-learn/issues/21755 */display: inline-block !important;position: relative;}#sk-container-id-6 div.sk-text-repr-fallback {display: none;}</style><div id=\"sk-container-id-6\" class=\"sk-top-container\"><div class=\"sk-text-repr-fallback\"><pre>KMeans(n_clusters=5)</pre><b>In a Jupyter environment, please rerun this cell to show the HTML representation or trust the notebook. <br />On GitHub, the HTML representation is unable to render, please try loading this page with nbviewer.org.</b></div><div class=\"sk-container\" hidden><div class=\"sk-item\"><div class=\"sk-estimator sk-toggleable\"><input class=\"sk-toggleable__control sk-hidden--visually\" id=\"sk-estimator-id-6\" type=\"checkbox\" checked><label for=\"sk-estimator-id-6\" class=\"sk-toggleable__label sk-toggleable__label-arrow\">KMeans</label><div class=\"sk-toggleable__content\"><pre>KMeans(n_clusters=5)</pre></div></div></div></div></div>"
      ],
      "text/plain": [
       "KMeans(n_clusters=5)"
      ]
     },
     "execution_count": 125,
     "metadata": {},
     "output_type": "execute_result"
    }
   ],
   "source": [
    "model = KMeans(n_clusters=5)\n",
    "features = df[['Age','Annual Income (k$)', 'Spending Score (1-100)']]\n",
    "model.fit(features)"
   ]
  },
  {
   "cell_type": "code",
   "execution_count": 126,
   "id": "1c612b73-6d55-49a2-8f26-0cce749299d0",
   "metadata": {},
   "outputs": [
    {
     "data": {
      "text/html": [
       "<div>\n",
       "<style scoped>\n",
       "    .dataframe tbody tr th:only-of-type {\n",
       "        vertical-align: middle;\n",
       "    }\n",
       "\n",
       "    .dataframe tbody tr th {\n",
       "        vertical-align: top;\n",
       "    }\n",
       "\n",
       "    .dataframe thead th {\n",
       "        text-align: right;\n",
       "    }\n",
       "</style>\n",
       "<table border=\"1\" class=\"dataframe\">\n",
       "  <thead>\n",
       "    <tr style=\"text-align: right;\">\n",
       "      <th></th>\n",
       "      <th>CustomerID</th>\n",
       "      <th>Age</th>\n",
       "      <th>Annual Income (k$)</th>\n",
       "      <th>Spending Score (1-100)</th>\n",
       "    </tr>\n",
       "  </thead>\n",
       "  <tbody>\n",
       "    <tr>\n",
       "      <th>min</th>\n",
       "      <td>1.0</td>\n",
       "      <td>18.0</td>\n",
       "      <td>15.0</td>\n",
       "      <td>1.0</td>\n",
       "    </tr>\n",
       "    <tr>\n",
       "      <th>max</th>\n",
       "      <td>200.0</td>\n",
       "      <td>70.0</td>\n",
       "      <td>137.0</td>\n",
       "      <td>99.0</td>\n",
       "    </tr>\n",
       "  </tbody>\n",
       "</table>\n",
       "</div>"
      ],
      "text/plain": [
       "     CustomerID   Age  Annual Income (k$)  Spending Score (1-100)\n",
       "min         1.0  18.0                15.0                     1.0\n",
       "max       200.0  70.0               137.0                    99.0"
      ]
     },
     "execution_count": 126,
     "metadata": {},
     "output_type": "execute_result"
    }
   ],
   "source": [
    "df.describe().loc[['min','max']]"
   ]
  },
  {
   "cell_type": "code",
   "execution_count": 127,
   "id": "ec0cd254-78db-4b23-8561-fb9bd35b600f",
   "metadata": {},
   "outputs": [],
   "source": [
    "from sklearn.preprocessing import MinMaxScaler\n",
    "\n",
    "normalized_features = MinMaxScaler().fit_transform(features)"
   ]
  },
  {
   "cell_type": "code",
   "execution_count": 128,
   "id": "04e584e9-9951-4996-bdbe-7b4e444c8dea",
   "metadata": {},
   "outputs": [
    {
     "data": {
      "text/html": [
       "<div>\n",
       "<style scoped>\n",
       "    .dataframe tbody tr th:only-of-type {\n",
       "        vertical-align: middle;\n",
       "    }\n",
       "\n",
       "    .dataframe tbody tr th {\n",
       "        vertical-align: top;\n",
       "    }\n",
       "\n",
       "    .dataframe thead th {\n",
       "        text-align: right;\n",
       "    }\n",
       "</style>\n",
       "<table border=\"1\" class=\"dataframe\">\n",
       "  <thead>\n",
       "    <tr style=\"text-align: right;\">\n",
       "      <th></th>\n",
       "      <th>Age</th>\n",
       "      <th>Annual Income (k$)</th>\n",
       "      <th>Spending Score (1-100)</th>\n",
       "    </tr>\n",
       "  </thead>\n",
       "  <tbody>\n",
       "    <tr>\n",
       "      <th>0</th>\n",
       "      <td>19</td>\n",
       "      <td>15</td>\n",
       "      <td>39</td>\n",
       "    </tr>\n",
       "    <tr>\n",
       "      <th>1</th>\n",
       "      <td>21</td>\n",
       "      <td>15</td>\n",
       "      <td>81</td>\n",
       "    </tr>\n",
       "  </tbody>\n",
       "</table>\n",
       "</div>"
      ],
      "text/plain": [
       "   Age  Annual Income (k$)  Spending Score (1-100)\n",
       "0   19                  15                      39\n",
       "1   21                  15                      81"
      ]
     },
     "execution_count": 128,
     "metadata": {},
     "output_type": "execute_result"
    }
   ],
   "source": [
    "features.head(2)"
   ]
  },
  {
   "cell_type": "code",
   "execution_count": 129,
   "id": "34c323ce-ae09-4657-bbaa-4dfbd8561b98",
   "metadata": {},
   "outputs": [
    {
     "data": {
      "text/plain": [
       "array([[0.01923077, 0.        , 0.3877551 ],\n",
       "       [0.05769231, 0.        , 0.81632653]])"
      ]
     },
     "execution_count": 129,
     "metadata": {},
     "output_type": "execute_result"
    }
   ],
   "source": [
    "normalized_features[0:2]"
   ]
  },
  {
   "cell_type": "code",
   "execution_count": 130,
   "id": "f9fd7371-3fa7-4176-b412-63548cefc3c3",
   "metadata": {},
   "outputs": [
    {
     "data": {
      "text/html": [
       "<div>\n",
       "<style scoped>\n",
       "    .dataframe tbody tr th:only-of-type {\n",
       "        vertical-align: middle;\n",
       "    }\n",
       "\n",
       "    .dataframe tbody tr th {\n",
       "        vertical-align: top;\n",
       "    }\n",
       "\n",
       "    .dataframe thead th {\n",
       "        text-align: right;\n",
       "    }\n",
       "</style>\n",
       "<table border=\"1\" class=\"dataframe\">\n",
       "  <thead>\n",
       "    <tr style=\"text-align: right;\">\n",
       "      <th></th>\n",
       "      <th>Age</th>\n",
       "      <th>Annual Income (k$)</th>\n",
       "      <th>Spending Score (1-100)</th>\n",
       "    </tr>\n",
       "  </thead>\n",
       "  <tbody>\n",
       "    <tr>\n",
       "      <th>0</th>\n",
       "      <td>0.019231</td>\n",
       "      <td>0.0</td>\n",
       "      <td>0.387755</td>\n",
       "    </tr>\n",
       "    <tr>\n",
       "      <th>1</th>\n",
       "      <td>0.057692</td>\n",
       "      <td>0.0</td>\n",
       "      <td>0.816327</td>\n",
       "    </tr>\n",
       "  </tbody>\n",
       "</table>\n",
       "</div>"
      ],
      "text/plain": [
       "        Age  Annual Income (k$)  Spending Score (1-100)\n",
       "0  0.019231                 0.0                0.387755\n",
       "1  0.057692                 0.0                0.816327"
      ]
     },
     "execution_count": 130,
     "metadata": {},
     "output_type": "execute_result"
    }
   ],
   "source": [
    "normalized_features = pandas.DataFrame(\n",
    "    MinMaxScaler().fit_transform(features),\n",
    "    columns = features.columns\n",
    ")\n",
    "normalized_features.head(2)"
   ]
  },
  {
   "cell_type": "code",
   "execution_count": 131,
   "id": "5bc02aeb-3589-4ac5-a508-d0e3fb7b2c58",
   "metadata": {},
   "outputs": [
    {
     "data": {
      "text/html": [
       "<div>\n",
       "<style scoped>\n",
       "    .dataframe tbody tr th:only-of-type {\n",
       "        vertical-align: middle;\n",
       "    }\n",
       "\n",
       "    .dataframe tbody tr th {\n",
       "        vertical-align: top;\n",
       "    }\n",
       "\n",
       "    .dataframe thead th {\n",
       "        text-align: right;\n",
       "    }\n",
       "</style>\n",
       "<table border=\"1\" class=\"dataframe\">\n",
       "  <thead>\n",
       "    <tr style=\"text-align: right;\">\n",
       "      <th></th>\n",
       "      <th>Age</th>\n",
       "      <th>Annual Income (k$)</th>\n",
       "      <th>Spending Score (1-100)</th>\n",
       "    </tr>\n",
       "  </thead>\n",
       "  <tbody>\n",
       "    <tr>\n",
       "      <th>33</th>\n",
       "      <td>-1.496335</td>\n",
       "      <td>-1.051949</td>\n",
       "      <td>1.622741</td>\n",
       "    </tr>\n",
       "    <tr>\n",
       "      <th>117</th>\n",
       "      <td>0.728432</td>\n",
       "      <td>0.169472</td>\n",
       "      <td>0.341630</td>\n",
       "    </tr>\n",
       "    <tr>\n",
       "      <th>54</th>\n",
       "      <td>0.800199</td>\n",
       "      <td>-0.670255</td>\n",
       "      <td>-0.201872</td>\n",
       "    </tr>\n",
       "  </tbody>\n",
       "</table>\n",
       "</div>"
      ],
      "text/plain": [
       "          Age  Annual Income (k$)  Spending Score (1-100)\n",
       "33  -1.496335           -1.051949                1.622741\n",
       "117  0.728432            0.169472                0.341630\n",
       "54   0.800199           -0.670255               -0.201872"
      ]
     },
     "execution_count": 131,
     "metadata": {},
     "output_type": "execute_result"
    }
   ],
   "source": [
    "from sklearn.preprocessing import MinMaxScaler, StandardScaler\n",
    "\n",
    "normalized_features = pandas.DataFrame(\n",
    "    MinMaxScaler().fit_transform(features),\n",
    "    columns = features.columns\n",
    ")\n",
    "\n",
    "standardized_features = pandas.DataFrame(\n",
    "    StandardScaler().fit_transform(features),\n",
    "    columns = features.columns\n",
    ")\n",
    "standardized_features.sample(3)"
   ]
  },
  {
   "cell_type": "code",
   "execution_count": 132,
   "id": "7288b3ad-3144-40af-bd59-2cc5498b685a",
   "metadata": {},
   "outputs": [
    {
     "data": {
      "text/plain": [
       "<seaborn.axisgrid.FacetGrid at 0x7f12f84e1160>"
      ]
     },
     "execution_count": 132,
     "metadata": {},
     "output_type": "execute_result"
    },
    {
     "data": {
      "image/png": "[encoded data removed]",
      "text/plain": [
       "<Figure size 360x360 with 1 Axes>"
      ]
     },
     "metadata": {
      "needs_background": "light"
     },
     "output_type": "display_data"
    }
   ],
   "source": [
    "xs, ys = [], []\n",
    "for k in range(2, 15):\n",
    "    model = KMeans(n_clusters=k)\n",
    "    model.fit(standardized_features)\n",
    "    inertia = model.inertia_\n",
    "    xs.append(k)\n",
    "    ys.append(inertia)\n",
    "\n",
    "seaborn.relplot(x=xs, y=ys, height=5, kind='scatter')"
   ]
  },
  {
   "cell_type": "markdown",
   "id": "f59bc116-8130-4f23-855d-c8c1c8efe1d8",
   "metadata": {},
   "source": [
    "The elbow is around k=5, based on the visual analysis."
   ]
  },
  {
   "cell_type": "code",
   "execution_count": 133,
   "id": "1e7654b0-03c9-4de8-a199-1c0d193f2eb2",
   "metadata": {},
   "outputs": [],
   "source": [
    "model = KMeans(n_clusters=5)\n",
    "model.fit(standardized_features)\n",
    "standardized_features['cluster'] = model.labels_"
   ]
  },
  {
   "cell_type": "code",
   "execution_count": 134,
   "id": "28b6480f-ff31-4750-92c6-6d4927228f70",
   "metadata": {},
   "outputs": [
    {
     "data": {
      "text/html": [
       "<div>\n",
       "<style scoped>\n",
       "    .dataframe tbody tr th:only-of-type {\n",
       "        vertical-align: middle;\n",
       "    }\n",
       "\n",
       "    .dataframe tbody tr th {\n",
       "        vertical-align: top;\n",
       "    }\n",
       "\n",
       "    .dataframe thead th {\n",
       "        text-align: right;\n",
       "    }\n",
       "</style>\n",
       "<table border=\"1\" class=\"dataframe\">\n",
       "  <thead>\n",
       "    <tr style=\"text-align: right;\">\n",
       "      <th></th>\n",
       "      <th>Age</th>\n",
       "      <th>Annual Income (k$)</th>\n",
       "      <th>Spending Score (1-100)</th>\n",
       "      <th>cluster</th>\n",
       "    </tr>\n",
       "  </thead>\n",
       "  <tbody>\n",
       "    <tr>\n",
       "      <th>128</th>\n",
       "      <td>1.446099</td>\n",
       "      <td>0.398489</td>\n",
       "      <td>-1.521805</td>\n",
       "      <td>4</td>\n",
       "    </tr>\n",
       "    <tr>\n",
       "      <th>74</th>\n",
       "      <td>1.446099</td>\n",
       "      <td>-0.250391</td>\n",
       "      <td>-0.124229</td>\n",
       "      <td>0</td>\n",
       "    </tr>\n",
       "    <tr>\n",
       "      <th>51</th>\n",
       "      <td>-0.419835</td>\n",
       "      <td>-0.708425</td>\n",
       "      <td>0.380451</td>\n",
       "      <td>2</td>\n",
       "    </tr>\n",
       "    <tr>\n",
       "      <th>182</th>\n",
       "      <td>0.513132</td>\n",
       "      <td>1.429063</td>\n",
       "      <td>-1.366519</td>\n",
       "      <td>4</td>\n",
       "    </tr>\n",
       "    <tr>\n",
       "      <th>99</th>\n",
       "      <td>-1.352802</td>\n",
       "      <td>0.016795</td>\n",
       "      <td>-0.046586</td>\n",
       "      <td>2</td>\n",
       "    </tr>\n",
       "  </tbody>\n",
       "</table>\n",
       "</div>"
      ],
      "text/plain": [
       "          Age  Annual Income (k$)  Spending Score (1-100)  cluster\n",
       "128  1.446099            0.398489               -1.521805        4\n",
       "74   1.446099           -0.250391               -0.124229        0\n",
       "51  -0.419835           -0.708425                0.380451        2\n",
       "182  0.513132            1.429063               -1.366519        4\n",
       "99  -1.352802            0.016795               -0.046586        2"
      ]
     },
     "execution_count": 134,
     "metadata": {},
     "output_type": "execute_result"
    }
   ],
   "source": [
    "standardized_features.sample(5)"
   ]
  },
  {
   "cell_type": "markdown",
   "id": "6baefe75-a546-4954-a596-16b59c953d23",
   "metadata": {},
   "source": [
    "---\n",
    "**Problem 2**\n",
    "\n",
    "Build a model based on the value of k at the elbow.  Are older people more frugal than younger people?\n",
    "\n",
    "Explain what you think being \"frugal\" means in this context.  And explain your answer.  It's not a simple \"Yes\" or \"No\"."
   ]
  },
  {
   "cell_type": "markdown",
   "id": "c4b13e5b-dbe6-44ce-90e3-d26ca0eb6121",
   "metadata": {},
   "source": [
    "### Answer:\n",
    "\n",
    "\n",
    "In my opinion, the term 'frugal' means a person with a lower spending score is more conservative in their spending habits. For instance, an older person with a high 'Annual Income' but a low 'Spending Score' is considered more frugal than a younger person with a lower income but a higher spending score.\n",
    "\n",
    "\n",
    "According to the analysis below, older people are more frugal than younger people."
   ]
  },
  {
   "cell_type": "code",
   "execution_count": 74,
   "id": "4c5bcb03-2988-4855-8cf1-01f2301c6fad",
   "metadata": {},
   "outputs": [
    {
     "data": {
      "text/plain": [
       "<seaborn.axisgrid.FacetGrid at 0x7f130a0eaee0>"
      ]
     },
     "execution_count": 74,
     "metadata": {},
     "output_type": "execute_result"
    },
    {
     "data": {
      "image/png": "[encoded data removed]",
      "text/plain": [
       "<Figure size 360x360 with 1 Axes>"
      ]
     },
     "metadata": {
      "needs_background": "light"
     },
     "output_type": "display_data"
    }
   ],
   "source": [
    "seaborn.relplot(data=standardized_features, x='Age', y='Spending Score (1-100)', height=5)"
   ]
  },
  {
   "cell_type": "markdown",
   "id": "d68c9cba-453e-45b0-9b25-4ff6b3ff8fe0",
   "metadata": {},
   "source": [
    "---\n",
    "\n",
    "**Problem 3**\n",
    "\n",
    "Do older people tend to live within their means and younger people don't?\n",
    "\n",
    "Explain your answer.  It's not a simple \"Yes\" or \"No\"."
   ]
  },
  {
   "cell_type": "markdown",
   "id": "c419bf29-c70e-4884-bfb1-aa23cd33690d",
   "metadata": {},
   "source": [
    "### Answer:\n",
    "\n",
    "On average, in each cluster, some people have high Spending Scores, and these tend to be younger people than older people. We can say that older people live within their means, and younger people don't."
   ]
  },
  {
   "cell_type": "code",
   "execution_count": 91,
   "id": "2903693f-5401-4336-bc04-8821cccc6fe4",
   "metadata": {},
   "outputs": [
    {
     "data": {
      "text/plain": [
       "<seaborn.axisgrid.FacetGrid at 0x7f12f912ad90>"
      ]
     },
     "execution_count": 91,
     "metadata": {},
     "output_type": "execute_result"
    },
    {
     "data": {
      "image/png": "[encoded data removed]",
      "text/plain": [
       "<Figure size 1140.12x216 with 5 Axes>"
      ]
     },
     "metadata": {
      "needs_background": "light"
     },
     "output_type": "display_data"
    }
   ],
   "source": [
    "seaborn.relplot(data=standardized_features, x='Annual Income (k$)', y='Spending Score (1-100)', hue='Age', col='cluster', col_wrap=5, height=3)"
   ]
  },
  {
   "cell_type": "code",
   "execution_count": null,
   "id": "28dd6154-0c43-4c50-8d95-538903824906",
   "metadata": {},
   "outputs": [],
   "source": []
  },
  {
   "cell_type": "code",
   "execution_count": null,
   "id": "71ac314a-f179-4bb0-a06c-4df673971225",
   "metadata": {},
   "outputs": [],
   "source": []
  },
  {
   "cell_type": "code",
   "execution_count": null,
   "id": "77ebf626-671f-4acb-b5e2-892bd5942791",
   "metadata": {},
   "outputs": [],
   "source": []
  },
  {
   "cell_type": "markdown",
   "id": "4924ab79-f9cf-4bc0-a11c-d63c0773d3ca",
   "metadata": {},
   "source": [
    "---\n",
    "**Problem 4**\n",
    "\n",
    "What is the extend to which younger and older people live beyond their means? "
   ]
  },
  {
   "cell_type": "markdown",
   "id": "fb1b4346-8629-4e52-9835-b5d046730e96",
   "metadata": {},
   "source": [
    "### Answer:\n",
    "\n",
    "Younger people tend to have higher spending scores even at lower or similar income levels than older people. This suggests that younger individuals are more inclined to spend, which could be interpreted as living more liberally or beyond their means."
   ]
  },
  {
   "cell_type": "code",
   "execution_count": 92,
   "id": "4d3cdfd6-ff61-49b2-b9cc-62b299020f29",
   "metadata": {},
   "outputs": [],
   "source": [
    "def categorize(age):\n",
    "    value = age['Age']\n",
    "    if value < 40:\n",
    "        v = 'Younger'\n",
    "    else:\n",
    "        v = 'Older'\n",
    "    return v"
   ]
  },
  {
   "cell_type": "code",
   "execution_count": 93,
   "id": "c5106c51-9425-4e26-9c59-dc3df6e3d15d",
   "metadata": {},
   "outputs": [
    {
     "data": {
      "text/html": [
       "<div>\n",
       "<style scoped>\n",
       "    .dataframe tbody tr th:only-of-type {\n",
       "        vertical-align: middle;\n",
       "    }\n",
       "\n",
       "    .dataframe tbody tr th {\n",
       "        vertical-align: top;\n",
       "    }\n",
       "\n",
       "    .dataframe thead th {\n",
       "        text-align: right;\n",
       "    }\n",
       "</style>\n",
       "<table border=\"1\" class=\"dataframe\">\n",
       "  <thead>\n",
       "    <tr style=\"text-align: right;\">\n",
       "      <th></th>\n",
       "      <th>CustomerID</th>\n",
       "      <th>Gender</th>\n",
       "      <th>Age</th>\n",
       "      <th>Annual Income (k$)</th>\n",
       "      <th>Spending Score (1-100)</th>\n",
       "    </tr>\n",
       "  </thead>\n",
       "  <tbody>\n",
       "    <tr>\n",
       "      <th>115</th>\n",
       "      <td>116</td>\n",
       "      <td>Female</td>\n",
       "      <td>Younger</td>\n",
       "      <td>65</td>\n",
       "      <td>50</td>\n",
       "    </tr>\n",
       "  </tbody>\n",
       "</table>\n",
       "</div>"
      ],
      "text/plain": [
       "     CustomerID  Gender      Age  Annual Income (k$)  Spending Score (1-100)\n",
       "115         116  Female  Younger                  65                      50"
      ]
     },
     "execution_count": 93,
     "metadata": {},
     "output_type": "execute_result"
    }
   ],
   "source": [
    "df.sample()"
   ]
  },
  {
   "cell_type": "code",
   "execution_count": 95,
   "id": "56b93e1f-8367-47e6-bbc8-d6b4132be0ad",
   "metadata": {},
   "outputs": [
    {
     "data": {
      "text/plain": [
       "<seaborn.axisgrid.FacetGrid at 0x7f12f8b42d60>"
      ]
     },
     "execution_count": 95,
     "metadata": {},
     "output_type": "execute_result"
    },
    {
     "data": {
      "image/png": "[encoded data removed]",
      "text/plain": [
       "<Figure size 436x360 with 1 Axes>"
      ]
     },
     "metadata": {
      "needs_background": "light"
     },
     "output_type": "display_data"
    }
   ],
   "source": [
    "seaborn.relplot(data=df, x='Annual Income (k$)', y='Spending Score (1-100)', hue='Age', height=5)"
   ]
  },
  {
   "cell_type": "code",
   "execution_count": 97,
   "id": "f259e434-7aac-41d9-9040-3b6561598097",
   "metadata": {},
   "outputs": [
    {
     "data": {
      "text/html": [
       "<div>\n",
       "<style scoped>\n",
       "    .dataframe tbody tr th:only-of-type {\n",
       "        vertical-align: middle;\n",
       "    }\n",
       "\n",
       "    .dataframe tbody tr th {\n",
       "        vertical-align: top;\n",
       "    }\n",
       "\n",
       "    .dataframe thead th {\n",
       "        text-align: right;\n",
       "    }\n",
       "</style>\n",
       "<table border=\"1\" class=\"dataframe\">\n",
       "  <thead>\n",
       "    <tr style=\"text-align: right;\">\n",
       "      <th></th>\n",
       "      <th>Annual Income (k$)</th>\n",
       "      <th>Spending Score (1-100)</th>\n",
       "    </tr>\n",
       "    <tr>\n",
       "      <th>Age</th>\n",
       "      <th></th>\n",
       "      <th></th>\n",
       "    </tr>\n",
       "  </thead>\n",
       "  <tbody>\n",
       "    <tr>\n",
       "      <th>Older</th>\n",
       "      <td>58.821429</td>\n",
       "      <td>36.797619</td>\n",
       "    </tr>\n",
       "    <tr>\n",
       "      <th>Younger</th>\n",
       "      <td>61.818966</td>\n",
       "      <td>59.905172</td>\n",
       "    </tr>\n",
       "  </tbody>\n",
       "</table>\n",
       "</div>"
      ],
      "text/plain": [
       "         Annual Income (k$)  Spending Score (1-100)\n",
       "Age                                                \n",
       "Older             58.821429               36.797619\n",
       "Younger           61.818966               59.905172"
      ]
     },
     "execution_count": 97,
     "metadata": {},
     "output_type": "execute_result"
    }
   ],
   "source": [
    "average = df.groupby(['Age'])[['Annual Income (k$)', 'Spending Score (1-100)']].mean()\n",
    "average"
   ]
  },
  {
   "cell_type": "markdown",
   "id": "b3e90051-5835-416a-b5d8-28a5ed3601bf",
   "metadata": {},
   "source": [
    "---\n",
    "**Problem 5**\n",
    "\n",
    "Is there any characteristic that is unique to male or female?"
   ]
  },
  {
   "cell_type": "markdown",
   "id": "d082fbc2-943a-4e3e-b56c-98fb66f372a6",
   "metadata": {},
   "source": [
    "### Answer:\n",
    "\n",
    "Based on the PCA plot, no characteristic is distinctly unique to males or females within the dimensions analyzed."
   ]
  },
  {
   "cell_type": "code",
   "execution_count": 138,
   "id": "7ae239e7-9f71-49b1-876c-ad46dfa333a1",
   "metadata": {},
   "outputs": [],
   "source": [
    "import pandas, seaborn\n",
    "from sklearn.decomposition import PCA"
   ]
  },
  {
   "cell_type": "code",
   "execution_count": 139,
   "id": "e32bfabf-8477-43ed-8351-c859371c0268",
   "metadata": {},
   "outputs": [
    {
     "data": {
      "text/plain": [
       "0    4014.546653\n",
       "1     694.555743\n",
       "2     167.291502\n",
       "3      25.429118\n",
       "dtype: float64"
      ]
     },
     "execution_count": 139,
     "metadata": {},
     "output_type": "execute_result"
    }
   ],
   "source": [
    "pca=PCA()\n",
    "df_features=df.drop(columns=['Gender'])\n",
    "df_pca=pandas.DataFrame(pca.fit_transform(df_features))\n",
    "df_pca.var()"
   ]
  },
  {
   "cell_type": "code",
   "execution_count": 144,
   "id": "c1818c9b-5dd0-449e-96a6-e3ffec21210b",
   "metadata": {},
   "outputs": [
    {
     "data": {
      "text/plain": [
       "<seaborn.axisgrid.FacetGrid at 0x7f12f4f7cc40>"
      ]
     },
     "execution_count": 144,
     "metadata": {},
     "output_type": "execute_result"
    },
    {
     "data": {
      "image/png": "[encoded data removed]",
      "text/plain": [
       "<Figure size 288.125x216 with 1 Axes>"
      ]
     },
     "metadata": {
      "needs_background": "light"
     },
     "output_type": "display_data"
    }
   ],
   "source": [
    "seaborn.relplot(data=df_pca, x=0, y=1, hue=df['Gender'], height=3)"
   ]
  },
  {
   "cell_type": "code",
   "execution_count": null,
   "id": "13996714-220e-4fab-ac32-a6f06d4ddcc3",
   "metadata": {},
   "outputs": [],
   "source": []
  }
 ],
 "metadata": {
  "kernelspec": {
   "display_name": "Python 3 (ipykernel)",
   "language": "python",
   "name": "python3"
  },
  "language_info": {
   "codemirror_mode": {
    "name": "ipython",
    "version": 3
   },
   "file_extension": ".py",
   "mimetype": "text/x-python",
   "name": "python",
   "nbconvert_exporter": "python",
   "pygments_lexer": "ipython3",
   "version": "3.9.7"
  }
 },
 "nbformat": 4,
 "nbformat_minor": 5
}
