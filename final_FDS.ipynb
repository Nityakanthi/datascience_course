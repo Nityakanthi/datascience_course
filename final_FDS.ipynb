{
 "cells": [
  {
   "cell_type": "markdown",
   "id": "70fef74a-207c-4165-b534-201b0d75abe4",
   "metadata": {},
   "source": [
    "# COMP 7150 Final Exam"
   ]
  },
  {
   "cell_type": "markdown",
   "id": "4f70f349-3677-45de-ab01-282a6721d04d",
   "metadata": {},
   "source": [
    "WRITE YOUR NAME HERE: Nitya Kanthi Nadimpalli\n",
    "\n",
    "Note: a violation of academic misconduct results in failing the course."
   ]
  },
  {
   "cell_type": "markdown",
   "id": "914f9a93-8c4a-49e4-a2cd-4efff0037750",
   "metadata": {},
   "source": [
    "----\n",
    "\n",
    "We use the kidney disease dataset for this exam. Each row represents one person.  The target variable (classification) indicates if the person has kidney disease for not (value of 1 means having the disease; 0 mean not having the disease).  Here are the features:\n",
    "```\n",
    "age - age \n",
    "bp - blood pressure \n",
    "sg - specific gravity \n",
    "al - albumin \n",
    "su - sugar \n",
    "rbc - red blood cells \n",
    "pc - pus cell \n",
    "pcc - pus cell clumps \n",
    "ba - bacteria \n",
    "bgr - glucose in blood (aka blood glucose random)\n",
    "bu - blood urea \n",
    "sc - serum creatinine \n",
    "sod - sodium \n",
    "pot - potassium \n",
    "hemo - hemoglobin \n",
    "pcv - packed cell volume \n",
    "wc - white blood cell count \n",
    "rc - red blood cell count \n",
    "htn - hypertension \n",
    "dm - diabetes mellitus \n",
    "cad - coronary artery disease \n",
    "appet - appetite \n",
    "pe - pedal edema \n",
    "ane - anemia \n",
    "```\n"
   ]
  },
  {
   "cell_type": "code",
   "execution_count": 143,
   "id": "cd3bd50a-46f2-428b-8edb-6e141cc79a19",
   "metadata": {},
   "outputs": [],
   "source": [
    "import warnings\n",
    "warnings.filterwarnings('ignore')"
   ]
  },
  {
   "cell_type": "code",
   "execution_count": 144,
   "id": "d0d91cdf-1f5d-4890-8ccd-608fd20de8b6",
   "metadata": {},
   "outputs": [],
   "source": [
    "import pandas\n",
    "\n",
    "data = pandas.read_csv('../Data_sets/kidney_disease.csv')"
   ]
  },
  {
   "cell_type": "code",
   "execution_count": 145,
   "id": "dcebf651-72af-44c8-80a2-daafbe854f6e",
   "metadata": {},
   "outputs": [
    {
     "data": {
      "text/html": [
       "<div>\n",
       "<style scoped>\n",
       "    .dataframe tbody tr th:only-of-type {\n",
       "        vertical-align: middle;\n",
       "    }\n",
       "\n",
       "    .dataframe tbody tr th {\n",
       "        vertical-align: top;\n",
       "    }\n",
       "\n",
       "    .dataframe thead th {\n",
       "        text-align: right;\n",
       "    }\n",
       "</style>\n",
       "<table border=\"1\" class=\"dataframe\">\n",
       "  <thead>\n",
       "    <tr style=\"text-align: right;\">\n",
       "      <th></th>\n",
       "      <th>age</th>\n",
       "      <th>bp</th>\n",
       "      <th>sg</th>\n",
       "      <th>al</th>\n",
       "      <th>su</th>\n",
       "      <th>rbc</th>\n",
       "      <th>pc</th>\n",
       "      <th>pcc</th>\n",
       "      <th>ba</th>\n",
       "      <th>bgr</th>\n",
       "      <th>...</th>\n",
       "      <th>pcv</th>\n",
       "      <th>wc</th>\n",
       "      <th>rc</th>\n",
       "      <th>htn</th>\n",
       "      <th>dm</th>\n",
       "      <th>cad</th>\n",
       "      <th>appet</th>\n",
       "      <th>pe</th>\n",
       "      <th>ane</th>\n",
       "      <th>classification</th>\n",
       "    </tr>\n",
       "  </thead>\n",
       "  <tbody>\n",
       "    <tr>\n",
       "      <th>42</th>\n",
       "      <td>47.0</td>\n",
       "      <td>100.0</td>\n",
       "      <td>1.010</td>\n",
       "      <td>0.0</td>\n",
       "      <td>0.0</td>\n",
       "      <td>NaN</td>\n",
       "      <td>normal</td>\n",
       "      <td>notpresent</td>\n",
       "      <td>notpresent</td>\n",
       "      <td>204.0</td>\n",
       "      <td>...</td>\n",
       "      <td>33</td>\n",
       "      <td>9200</td>\n",
       "      <td>4.5</td>\n",
       "      <td>yes</td>\n",
       "      <td>no</td>\n",
       "      <td>no</td>\n",
       "      <td>good</td>\n",
       "      <td>no</td>\n",
       "      <td>yes</td>\n",
       "      <td>1</td>\n",
       "    </tr>\n",
       "    <tr>\n",
       "      <th>257</th>\n",
       "      <td>38.0</td>\n",
       "      <td>60.0</td>\n",
       "      <td>1.020</td>\n",
       "      <td>0.0</td>\n",
       "      <td>0.0</td>\n",
       "      <td>normal</td>\n",
       "      <td>normal</td>\n",
       "      <td>notpresent</td>\n",
       "      <td>notpresent</td>\n",
       "      <td>91.0</td>\n",
       "      <td>...</td>\n",
       "      <td>46</td>\n",
       "      <td>9100</td>\n",
       "      <td>5.8</td>\n",
       "      <td>no</td>\n",
       "      <td>no</td>\n",
       "      <td>no</td>\n",
       "      <td>good</td>\n",
       "      <td>no</td>\n",
       "      <td>no</td>\n",
       "      <td>0</td>\n",
       "    </tr>\n",
       "    <tr>\n",
       "      <th>399</th>\n",
       "      <td>58.0</td>\n",
       "      <td>80.0</td>\n",
       "      <td>1.025</td>\n",
       "      <td>0.0</td>\n",
       "      <td>0.0</td>\n",
       "      <td>normal</td>\n",
       "      <td>normal</td>\n",
       "      <td>notpresent</td>\n",
       "      <td>notpresent</td>\n",
       "      <td>131.0</td>\n",
       "      <td>...</td>\n",
       "      <td>53</td>\n",
       "      <td>6800</td>\n",
       "      <td>6.1</td>\n",
       "      <td>no</td>\n",
       "      <td>no</td>\n",
       "      <td>no</td>\n",
       "      <td>good</td>\n",
       "      <td>no</td>\n",
       "      <td>no</td>\n",
       "      <td>0</td>\n",
       "    </tr>\n",
       "    <tr>\n",
       "      <th>28</th>\n",
       "      <td>75.0</td>\n",
       "      <td>70.0</td>\n",
       "      <td>NaN</td>\n",
       "      <td>1.0</td>\n",
       "      <td>3.0</td>\n",
       "      <td>NaN</td>\n",
       "      <td>NaN</td>\n",
       "      <td>notpresent</td>\n",
       "      <td>notpresent</td>\n",
       "      <td>123.0</td>\n",
       "      <td>...</td>\n",
       "      <td>NaN</td>\n",
       "      <td>NaN</td>\n",
       "      <td>NaN</td>\n",
       "      <td>no</td>\n",
       "      <td>yes</td>\n",
       "      <td>no</td>\n",
       "      <td>good</td>\n",
       "      <td>no</td>\n",
       "      <td>no</td>\n",
       "      <td>1</td>\n",
       "    </tr>\n",
       "    <tr>\n",
       "      <th>319</th>\n",
       "      <td>30.0</td>\n",
       "      <td>60.0</td>\n",
       "      <td>1.020</td>\n",
       "      <td>0.0</td>\n",
       "      <td>0.0</td>\n",
       "      <td>normal</td>\n",
       "      <td>normal</td>\n",
       "      <td>notpresent</td>\n",
       "      <td>notpresent</td>\n",
       "      <td>138.0</td>\n",
       "      <td>...</td>\n",
       "      <td>NaN</td>\n",
       "      <td>NaN</td>\n",
       "      <td>NaN</td>\n",
       "      <td>no</td>\n",
       "      <td>no</td>\n",
       "      <td>no</td>\n",
       "      <td>good</td>\n",
       "      <td>no</td>\n",
       "      <td>no</td>\n",
       "      <td>0</td>\n",
       "    </tr>\n",
       "  </tbody>\n",
       "</table>\n",
       "<p>5 rows × 25 columns</p>\n",
       "</div>"
      ],
      "text/plain": [
       "      age     bp     sg   al   su     rbc      pc         pcc          ba  \\\n",
       "42   47.0  100.0  1.010  0.0  0.0     NaN  normal  notpresent  notpresent   \n",
       "257  38.0   60.0  1.020  0.0  0.0  normal  normal  notpresent  notpresent   \n",
       "399  58.0   80.0  1.025  0.0  0.0  normal  normal  notpresent  notpresent   \n",
       "28   75.0   70.0    NaN  1.0  3.0     NaN     NaN  notpresent  notpresent   \n",
       "319  30.0   60.0  1.020  0.0  0.0  normal  normal  notpresent  notpresent   \n",
       "\n",
       "       bgr  ...  pcv    wc   rc  htn   dm cad appet  pe  ane classification  \n",
       "42   204.0  ...   33  9200  4.5  yes   no  no  good  no  yes              1  \n",
       "257   91.0  ...   46  9100  5.8   no   no  no  good  no   no              0  \n",
       "399  131.0  ...   53  6800  6.1   no   no  no  good  no   no              0  \n",
       "28   123.0  ...  NaN   NaN  NaN   no  yes  no  good  no   no              1  \n",
       "319  138.0  ...  NaN   NaN  NaN   no   no  no  good  no   no              0  \n",
       "\n",
       "[5 rows x 25 columns]"
      ]
     },
     "execution_count": 145,
     "metadata": {},
     "output_type": "execute_result"
    }
   ],
   "source": [
    "data.sample(5)"
   ]
  },
  {
   "cell_type": "code",
   "execution_count": null,
   "id": "60533617-db6c-4096-b56f-45974530b003",
   "metadata": {},
   "outputs": [],
   "source": []
  },
  {
   "cell_type": "markdown",
   "id": "6ebcd50b-ebc3-4d27-b67c-4581e86218f1",
   "metadata": {},
   "source": [
    "\n",
    "**Note: subsequent problems implicitly refer to previous questions.**"
   ]
  },
  {
   "cell_type": "markdown",
   "id": "6fd25285-6400-4a55-a8ed-56cf0098e633",
   "metadata": {},
   "source": [
    "---\n",
    "**Problem 1**\n",
    "\n",
    "Which features have more than 100 missing data points?  Create a new dataset (dataframe) without these features. Do not drop the remaining missing data at this point. You will use this new dataset for the next problems."
   ]
  },
  {
   "cell_type": "code",
   "execution_count": 146,
   "id": "b27e4a4e-cd88-4996-b625-88a8888afa9f",
   "metadata": {},
   "outputs": [],
   "source": [
    "h = ['rbc', 'wc', 'rc']\n",
    "new_data = data.drop(columns=h)\n",
    "\n",
    "m = new_data.shape\n",
    "n = new_data.isna().sum()"
   ]
  },
  {
   "cell_type": "code",
   "execution_count": 147,
   "id": "d6587d0b-bfa1-4dba-a82d-c38b24c8dd02",
   "metadata": {},
   "outputs": [
    {
     "data": {
      "text/plain": [
       "(400, 22)"
      ]
     },
     "execution_count": 147,
     "metadata": {},
     "output_type": "execute_result"
    }
   ],
   "source": [
    "m"
   ]
  },
  {
   "cell_type": "code",
   "execution_count": 148,
   "id": "cd9879df-62c0-4a18-b166-f2a0c8170148",
   "metadata": {},
   "outputs": [
    {
     "data": {
      "text/plain": [
       "age                9\n",
       "bp                12\n",
       "sg                47\n",
       "al                46\n",
       "su                49\n",
       "pc                65\n",
       "pcc                4\n",
       "ba                 4\n",
       "bgr               44\n",
       "bu                19\n",
       "sc                17\n",
       "sod               87\n",
       "pot               88\n",
       "hemo              52\n",
       "pcv               70\n",
       "htn                2\n",
       "dm                 2\n",
       "cad                2\n",
       "appet              1\n",
       "pe                 1\n",
       "ane                1\n",
       "classification     0\n",
       "dtype: int64"
      ]
     },
     "execution_count": 148,
     "metadata": {},
     "output_type": "execute_result"
    }
   ],
   "source": [
    "n"
   ]
  },
  {
   "cell_type": "code",
   "execution_count": null,
   "id": "2e007b5c-2b75-4349-ab21-b5ff9b82885a",
   "metadata": {},
   "outputs": [],
   "source": []
  },
  {
   "cell_type": "markdown",
   "id": "a4ecf015-d97f-4d83-936a-8e9d33542a07",
   "metadata": {},
   "source": [
    "---\n",
    "**Problem 2**\n",
    "\n",
    "Use one figure to show the distribution of age and glucose in blood of the people who have kidney disease. Based on the visualization, describe the characteristics of these two variables."
   ]
  },
  {
   "cell_type": "code",
   "execution_count": 149,
   "id": "55a92b15-a85d-421d-88b6-b132b27c5fc6",
   "metadata": {},
   "outputs": [],
   "source": [
    "import seaborn\n",
    "from matplotlib import pyplot"
   ]
  },
  {
   "cell_type": "code",
   "execution_count": 194,
   "id": "5de32a5c-0e3f-4bf3-8b8a-739160fa0083",
   "metadata": {},
   "outputs": [
    {
     "data": {
      "text/plain": [
       "<seaborn.axisgrid.FacetGrid at 0x7f65adb18640>"
      ]
     },
     "execution_count": 194,
     "metadata": {},
     "output_type": "execute_result"
    },
    {
     "data": {
      "image/png": "[encoded data removed]",
      "text/plain": [
       "<Figure size 360x360 with 1 Axes>"
      ]
     },
     "metadata": {
      "needs_background": "light"
     },
     "output_type": "display_data"
    }
   ],
   "source": [
    "seaborn.displot(new_data['age'], kde=True, color='blue')"
   ]
  },
  {
   "cell_type": "code",
   "execution_count": 195,
   "id": "ba5c871e-001f-4cf6-8d3a-ffb1adbd16d4",
   "metadata": {},
   "outputs": [
    {
     "data": {
      "text/plain": [
       "<seaborn.axisgrid.FacetGrid at 0x7f65aca39940>"
      ]
     },
     "execution_count": 195,
     "metadata": {},
     "output_type": "execute_result"
    },
    {
     "data": {
      "image/png": "[encoded data removed]",
      "text/plain": [
       "<Figure size 360x360 with 1 Axes>"
      ]
     },
     "metadata": {
      "needs_background": "light"
     },
     "output_type": "display_data"
    }
   ],
   "source": [
    "seaborn.displot(new_data['bgr'], kde=True, color='red')"
   ]
  },
  {
   "cell_type": "code",
   "execution_count": null,
   "id": "d53d06a6-78a0-4751-ba77-f21f19a31385",
   "metadata": {},
   "outputs": [],
   "source": []
  },
  {
   "cell_type": "markdown",
   "id": "0d6b668f-deef-4061-baf3-8f12d95c9ef2",
   "metadata": {},
   "source": [
    "---\n",
    "**Problem 3**\n",
    "\n",
    "Evaluate the prediction performance of a dummy classifier using the `stratified` strategy in terms precision and recall.\n",
    "\n",
    "Use `age`, `blood pressure`, and `sugar` as features to make prediction of the target variable `classification`.  \n",
    "\n",
    "Do not remove missing data unnecessarily.\n",
    "\n",
    "Use ShuffleSplit with 100 splits, and random state 300424 to evaluate its performance.\n",
    "\n",
    "Define features and the target explicitly.\n",
    "\n",
    "Do you think that using more or better features will improve the performance of the dummy classifier?  Explain."
   ]
  },
  {
   "cell_type": "code",
   "execution_count": 152,
   "id": "318244ee-a05a-4205-a1a5-4ba931942483",
   "metadata": {},
   "outputs": [],
   "source": [
    "import pandas as pd\n",
    "from sklearn.preprocessing import StandardScaler\n",
    "from sklearn.neighbors import KNeighborsClassifier\n",
    "from sklearn.dummy import DummyClassifier\n",
    "from sklearn.model_selection import ShuffleSplit, cross_validate\n",
    "\n",
    "X = new_data[['age', 'bp', 'su']]\n",
    "y = new_data['classification']\n",
    "\n",
    "X = X.dropna()\n",
    "y = y[X.index]\n",
    "\n",
    "scaler = StandardScaler()\n",
    "X_standardized = scaler.fit_transform(X)\n",
    "X = pd.DataFrame(data=X_standardized, columns=X.columns)\n",
    "\n",
    "knn_model = KNeighborsClassifier(n_neighbors=11)\n",
    "dummy_baseline = DummyClassifier(strategy='stratified')\n",
    "\n",
    "validator = ShuffleSplit(n_splits=100, test_size=0.05, random_state=300424)\n",
    "\n",
    "knn_result = cross_validate(knn_model, X, y, cv=validator, scoring=['accuracy'])\n",
    "\n",
    "baseline_result = cross_validate(dummy_baseline, X, y, cv=validator, scoring=['accuracy'])"
   ]
  },
  {
   "cell_type": "code",
   "execution_count": 153,
   "id": "25d4246d-e5b7-45b8-a92b-0446e1ad72b6",
   "metadata": {},
   "outputs": [
    {
     "data": {
      "text/plain": [
       "0.76"
      ]
     },
     "execution_count": 153,
     "metadata": {},
     "output_type": "execute_result"
    }
   ],
   "source": [
    "knn_result['test_accuracy'].mean()"
   ]
  },
  {
   "cell_type": "code",
   "execution_count": 154,
   "id": "dcdae693-1b70-4acf-b83a-1270b39ffc28",
   "metadata": {},
   "outputs": [
    {
     "data": {
      "text/plain": [
       "0.5082352941176471"
      ]
     },
     "execution_count": 154,
     "metadata": {},
     "output_type": "execute_result"
    }
   ],
   "source": [
    "baseline_result['test_accuracy'].mean()"
   ]
  },
  {
   "cell_type": "markdown",
   "id": "d2ca6be8-0f58-41b6-88ab-1fb75e99ece8",
   "metadata": {},
   "source": [
    "---\n",
    "**Problem 4**\n",
    "\n",
    "Use precision and recall to evaluate the performance of a 9-nearest neighbor classifer to predict `classification`.\n",
    "\n",
    "Use all features to make prediction. \n",
    "\n",
    "Define features and the target explicitly.\n",
    "\n",
    "1. Which cross validator should be used to validate the performance of the model?\n",
    "2. Explain which processing step(s) to the data must be done and why.\n",
    "3. Explain which steps need to be done to properly evaluate the performance of the model."
   ]
  },
  {
   "cell_type": "code",
   "execution_count": 155,
   "id": "b16460f6-3a4b-41b4-b6c2-3e81db488bea",
   "metadata": {},
   "outputs": [],
   "source": [
    "import pandas as pd\n",
    "from sklearn.preprocessing import StandardScaler\n",
    "from sklearn.neighbors import KNeighborsClassifier\n",
    "from sklearn.dummy import DummyClassifier\n",
    "from sklearn.model_selection import ShuffleSplit, cross_validate\n",
    "\n",
    "X = new_data.drop(columns=['classification'])\n",
    "y = new_data['classification']\n",
    "\n",
    "X = pd.get_dummies(X, drop_first=True)\n",
    "\n",
    "X = X.dropna()\n",
    "y = y.loc[X.index]\n",
    "\n",
    "scaler = StandardScaler()\n",
    "X_standardized = scaler.fit_transform(X)\n",
    "X = pd.DataFrame(data=X_standardized, columns=X.columns)\n",
    "\n",
    "knn_model = KNeighborsClassifier(n_neighbors=9)\n",
    "dummy_baseline = DummyClassifier(strategy='stratified')\n",
    "\n",
    "validator = ShuffleSplit(n_splits=100, test_size=0.05, random_state=300424)\n",
    "\n",
    "knn_result = cross_validate(knn_model, X, y, cv=validator, scoring=['accuracy'])\n",
    "\n",
    "baseline_result = cross_validate(dummy_baseline, X, y, cv=validator, scoring=['accuracy'])"
   ]
  },
  {
   "cell_type": "code",
   "execution_count": 156,
   "id": "bf93d5bd-0799-4f1d-946e-447b55bf7806",
   "metadata": {},
   "outputs": [
    {
     "data": {
      "text/plain": [
       "0.9241666666666668"
      ]
     },
     "execution_count": 156,
     "metadata": {},
     "output_type": "execute_result"
    }
   ],
   "source": [
    "knn_result['test_accuracy'].mean()"
   ]
  },
  {
   "cell_type": "code",
   "execution_count": 157,
   "id": "29570ef9-c795-4677-8f04-37f05ad5e900",
   "metadata": {},
   "outputs": [
    {
     "data": {
      "text/plain": [
       "0.5041666666666668"
      ]
     },
     "execution_count": 157,
     "metadata": {},
     "output_type": "execute_result"
    }
   ],
   "source": [
    "baseline_result['test_accuracy'].mean()"
   ]
  },
  {
   "cell_type": "code",
   "execution_count": 158,
   "id": "9e04c7fd-d7b7-4a94-a5d5-06f03b8d4cfb",
   "metadata": {},
   "outputs": [],
   "source": [
    "from sklearn.model_selection import train_test_split\n",
    "X_train, X_test, y_train, y_test = train_test_split(X, y, test_size=0.02)"
   ]
  },
  {
   "cell_type": "code",
   "execution_count": 159,
   "id": "ca2bded4-47bd-4b35-b389-fc571e5e1786",
   "metadata": {},
   "outputs": [],
   "source": [
    "model.fit(X_train, y_train)\n",
    "predictions = model.predict(X_test)"
   ]
  },
  {
   "cell_type": "code",
   "execution_count": 160,
   "id": "ee65a475-06d1-4d38-9a85-35c69b798a0c",
   "metadata": {},
   "outputs": [
    {
     "data": {
      "text/plain": [
       "array([0, 1, 1, 0, 1])"
      ]
     },
     "execution_count": 160,
     "metadata": {},
     "output_type": "execute_result"
    }
   ],
   "source": [
    "predictions"
   ]
  },
  {
   "cell_type": "code",
   "execution_count": 161,
   "id": "b27d5a5e-791d-4ddb-afe7-9ded74b63aa4",
   "metadata": {},
   "outputs": [
    {
     "data": {
      "text/plain": [
       "array([0, 1, 1, 0, 1])"
      ]
     },
     "execution_count": 161,
     "metadata": {},
     "output_type": "execute_result"
    }
   ],
   "source": [
    "y_test.values"
   ]
  },
  {
   "cell_type": "markdown",
   "id": "04350838-62c6-4790-b447-1238b78dac79",
   "metadata": {},
   "source": [
    "TP:3\n",
    "TN:2\n",
    "FP:0\n",
    "FN:0\n",
    "\n",
    "Precision:3/3\n",
    "Recall:3/3\n"
   ]
  },
  {
   "cell_type": "code",
   "execution_count": null,
   "id": "91a4e6ae-c3b7-4add-88cd-266cafa2ce09",
   "metadata": {},
   "outputs": [],
   "source": []
  },
  {
   "cell_type": "markdown",
   "id": "fc31140f-ee5d-448e-a78e-c586d18b8096",
   "metadata": {},
   "source": [
    "---\n",
    "**Problem 5**\n",
    "\n",
    "Based on the value of recall you get, explain the meaning of this value.\n"
   ]
  },
  {
   "cell_type": "markdown",
   "id": "786f1f62-c0fc-498a-b81d-8481c14f8ca5",
   "metadata": {},
   "source": [
    "### Answer:\n",
    "\n",
    "The recall value of 1.0 says that the model successfully identified all actual positive cases without any false negatives."
   ]
  },
  {
   "cell_type": "code",
   "execution_count": null,
   "id": "5b9b169b-c9a5-4434-9de8-b31cd0ef5a25",
   "metadata": {},
   "outputs": [],
   "source": []
  },
  {
   "cell_type": "markdown",
   "id": "1fa03d31-7b4c-4cef-baae-dca78e50812e",
   "metadata": {},
   "source": [
    "---\n",
    "**Problem 6**\n",
    "\n",
    "Transform the features using PCA with two principal components.  Visualize the transformed data on these two principal components in such a way that patients who have kidney disease and do not have the disease  have different colors.\n",
    "\n",
    "Define the features and target explicitly.  Rescale the features before transforming them with PCA.\n"
   ]
  },
  {
   "cell_type": "code",
   "execution_count": 184,
   "id": "0fb18235-ffa8-405a-994e-ed4ade9e26fa",
   "metadata": {},
   "outputs": [],
   "source": [
    "import pandas as pd\n",
    "from sklearn.decomposition import PCA\n",
    "from sklearn.preprocessing import StandardScaler\n",
    "import seaborn\n",
    "import matplotlib.pyplot as plt\n",
    "\n",
    "cleaned_data = new_data.dropna()\n",
    "\n",
    "kidney_features = pd.get_dummies(cleaned_data.drop('classification', axis=1))\n",
    "\n",
    "scaler = StandardScaler()\n",
    "kidney_features_scaled = scaler.fit_transform(kidney_features)\n",
    "\n",
    "pca = PCA(n_components=2)\n",
    "kidney_pca = pd.DataFrame(pca.fit_transform(kidney_features_scaled), columns=['PC1', 'PC2'])"
   ]
  },
  {
   "cell_type": "code",
   "execution_count": 185,
   "id": "d47f599f-689a-464d-8c02-57dc2240a3b7",
   "metadata": {},
   "outputs": [
    {
     "data": {
      "text/plain": [
       "PC1    12.506285\n",
       "PC2     3.359705\n",
       "dtype: float64"
      ]
     },
     "execution_count": 185,
     "metadata": {},
     "output_type": "execute_result"
    }
   ],
   "source": [
    "variance = kidney_pca.var()\n",
    "variance"
   ]
  },
  {
   "cell_type": "code",
   "execution_count": 186,
   "id": "9819f9bd-c9ae-423a-b9a0-4ad97b0691f2",
   "metadata": {},
   "outputs": [
    {
     "data": {
      "text/plain": [
       "0      1\n",
       "1      1\n",
       "2      1\n",
       "3      1\n",
       "4      1\n",
       "      ..\n",
       "204    0\n",
       "205    0\n",
       "206    0\n",
       "207    0\n",
       "208    0\n",
       "Name: classification, Length: 209, dtype: int64"
      ]
     },
     "execution_count": 186,
     "metadata": {},
     "output_type": "execute_result"
    }
   ],
   "source": [
    "kidney_pca['classification'] = cleaned_data['classification'].values\n",
    "kidney_pca['classification']"
   ]
  },
  {
   "cell_type": "code",
   "execution_count": 183,
   "id": "2154febd-d3b8-4b1d-966a-69e083e3cc79",
   "metadata": {},
   "outputs": [
    {
     "data": {
      "text/plain": [
       "<seaborn.axisgrid.FacetGrid at 0x7f65acbc0460>"
      ]
     },
     "execution_count": 183,
     "metadata": {},
     "output_type": "execute_result"
    },
    {
     "data": {
      "image/png": "[encoded data removed]",
      "text/plain": [
       "<Figure size 433.125x360 with 1 Axes>"
      ]
     },
     "metadata": {
      "needs_background": "light"
     },
     "output_type": "display_data"
    }
   ],
   "source": [
    "seaborn.displot(data=kidney_pca, x='PC1', y='PC2', hue='classification')"
   ]
  },
  {
   "cell_type": "code",
   "execution_count": null,
   "id": "7b19080f-9e6d-46fd-a7eb-e51da623cbae",
   "metadata": {},
   "outputs": [],
   "source": []
  },
  {
   "cell_type": "markdown",
   "id": "6b00c8d9-af07-4b7f-88fb-d84c3011e89a",
   "metadata": {},
   "source": [
    "---\n",
    "**Problem 7**\n",
    "\n",
    "Based on the visualization in the previous problem, characterize the difference between patients who have kidney disease and do not have the disease in terms of the two principal components.\n"
   ]
  },
  {
   "cell_type": "markdown",
   "id": "6ba1aea5-2914-4384-ad1c-da7ddca7fb0d",
   "metadata": {},
   "source": [
    "### Answer:\n",
    "\n",
    "Patients with kidney disease may cluster distinctly from those without along the principal component axes, reflecting significant differences in underlying health variables captured by PCA."
   ]
  },
  {
   "cell_type": "code",
   "execution_count": null,
   "id": "15d7a2f6-f410-4047-a0fa-3bfb1681c30b",
   "metadata": {},
   "outputs": [],
   "source": []
  },
  {
   "cell_type": "code",
   "execution_count": null,
   "id": "0a5d46bd-a1a5-49c0-b304-bade5ea63ddc",
   "metadata": {},
   "outputs": [],
   "source": []
  },
  {
   "cell_type": "code",
   "execution_count": null,
   "id": "d2f5870a-3a4b-4d23-9320-161351f4cbe6",
   "metadata": {},
   "outputs": [],
   "source": []
  },
  {
   "cell_type": "markdown",
   "id": "f3e9bb91-3e28-4bd9-b610-492ad26a4297",
   "metadata": {},
   "source": [
    "---\n",
    "**Problem 8**\n",
    "\n",
    "Evaluate the performance of the same KNN model in problem 4, but with features that are transformed with the first 2 principal components.\n",
    "\n",
    "Define the features and target explicitly.  \n"
   ]
  },
  {
   "cell_type": "code",
   "execution_count": 191,
   "id": "d0f11ec1-6fdf-4090-bea2-a7d0c55e8cf6",
   "metadata": {},
   "outputs": [],
   "source": [
    "import pandas as pd\n",
    "from sklearn.preprocessing import StandardScaler, MinMaxScaler\n",
    "from sklearn.decomposition import PCA\n",
    "from sklearn.neighbors import KNeighborsClassifier\n",
    "from sklearn.dummy import DummyClassifier\n",
    "from sklearn.model_selection import ShuffleSplit, cross_validate, train_test_split\n",
    "\n",
    "X = new_data.drop(columns=['classification'])\n",
    "y = new_data['classification'] \n",
    "\n",
    "X = pd.get_dummies(X, drop_first=True)\n",
    "X = X.dropna()\n",
    "y = y.loc[X.index]\n",
    "\n",
    "scaler = StandardScaler()\n",
    "X_standardized = scaler.fit_transform(X)\n",
    "\n",
    "pca = PCA(n_components=2)\n",
    "X_pca = pca.fit_transform(X_standardized)\n",
    "\n",
    "knn_model = KNeighborsClassifier(n_neighbors=9)\n",
    "\n",
    "validator = ShuffleSplit(n_splits=100, test_size=0.05, random_state=300424)\n",
    "\n",
    "knn_result = cross_validate(knn_model, X_pca, y, cv=validator, scoring=['accuracy'])"
   ]
  },
  {
   "cell_type": "code",
   "execution_count": 192,
   "id": "d36eebe3-5469-45c3-9b0b-c196ebaf17a9",
   "metadata": {},
   "outputs": [
    {
     "data": {
      "text/plain": [
       "0.9850000000000001"
      ]
     },
     "execution_count": 192,
     "metadata": {},
     "output_type": "execute_result"
    }
   ],
   "source": [
    "knn_result['test_accuracy'].mean()"
   ]
  },
  {
   "cell_type": "code",
   "execution_count": null,
   "id": "ab24a93c-76a6-4c5f-a37a-409072a090a5",
   "metadata": {},
   "outputs": [],
   "source": []
  },
  {
   "cell_type": "code",
   "execution_count": null,
   "id": "11230c65-7d01-4a5c-a0c3-3c66cf323411",
   "metadata": {},
   "outputs": [],
   "source": []
  },
  {
   "cell_type": "code",
   "execution_count": null,
   "id": "724829dc-1adc-44cc-8fe5-355ec32825eb",
   "metadata": {},
   "outputs": [],
   "source": []
  },
  {
   "cell_type": "markdown",
   "id": "992c7080-6212-4c07-9d2e-d195e5d237ba",
   "metadata": {},
   "source": [
    "---\n",
    "**Problem 9**\n",
    "\n",
    "Compare the performance of the a decision tree to the KNN model in the previous problem, using features that are not transformed with PCA.\n",
    "\n",
    "Define the features and target explicitly.  "
   ]
  },
  {
   "cell_type": "markdown",
   "id": "688e2644-b024-48b0-a19d-d2188f727ec6",
   "metadata": {},
   "source": [
    "---\n",
    "**Problem 10**\n",
    "\n",
    "Identify the 3 most important features contributing to predicting kidney disease.  Explain how you got this.\n"
   ]
  },
  {
   "cell_type": "code",
   "execution_count": null,
   "id": "1a7dc3fb-12d1-451e-9ab9-c565ff3e3fea",
   "metadata": {},
   "outputs": [],
   "source": []
  }
 ],
 "metadata": {
  "kernelspec": {
   "display_name": "Python 3 (ipykernel)",
   "language": "python",
   "name": "python3"
  },
  "language_info": {
   "codemirror_mode": {
    "name": "ipython",
    "version": 3
   },
   "file_extension": ".py",
   "mimetype": "text/x-python",
   "name": "python",
   "nbconvert_exporter": "python",
   "pygments_lexer": "ipython3",
   "version": "3.9.7"
  }
 },
 "nbformat": 4,
 "nbformat_minor": 5
}
